{
 "cells": [
  {
   "cell_type": "markdown",
   "metadata": {},
   "source": [
    "# Project description"
   ]
  },
  {
   "cell_type": "markdown",
   "metadata": {},
   "source": [
    "***Testing changes:*** \n",
    "* The introduction of a new interface for an improved recommendation system for EU users.\n",
    "\n",
    "***Test name:***\n",
    "* interface_eu_test\n",
    "\n",
    "***Audience:***\n",
    "* The audience is new users from the EU who were encouraged to sign up in the online store. \n",
    "* Expected number of test participants: 6000\n",
    "\n",
    "***Test duration:***\n",
    "* From December 7 to December 21, 2020.\n",
    "\n",
    "***Expected result:*** \n",
    "* Increase total conversion by at least 10% at each stage of the funnel `product_page → product_cart → purchase` in test group B."
   ]
  },
  {
   "cell_type": "markdown",
   "metadata": {},
   "source": [
    "## Data description\n",
    "\n",
    "- `ab_project_marketing_events_us.csv` — the calendar of marketing events for 2020\n",
    "- `final_ab_new_users_us.csv` — all users who signed up in the online store from December 7 to 21, 2020\n",
    "- `final_ab_events_us.csv` — all events of the new users within the period from December 7, 2020 to January 1, 2021\n",
    "- `final_ab_participants_us.csv` — table containing test participants"
   ]
  },
  {
   "cell_type": "markdown",
   "metadata": {
    "toc": true
   },
   "source": [
    "<h1>Table of Contents<span class=\"tocSkip\"></span></h1>\n",
    "<div class=\"toc\"><ul class=\"toc-item\"><li><span><a href=\"#Project-description\" data-toc-modified-id=\"Project-description-1\"><span class=\"toc-item-num\">1&nbsp;&nbsp;</span>Project description</a></span><ul class=\"toc-item\"><li><span><a href=\"#Project-goals\" data-toc-modified-id=\"Project-goals-1.1\"><span class=\"toc-item-num\">1.1&nbsp;&nbsp;</span>Project goals</a></span></li><li><span><a href=\"#Data-description\" data-toc-modified-id=\"Data-description-1.2\"><span class=\"toc-item-num\">1.2&nbsp;&nbsp;</span>Data description</a></span></li><li><span><a href=\"#Table-of-Contents\" data-toc-modified-id=\"Table-of-Contents-1.3\"><span class=\"toc-item-num\">1.3&nbsp;&nbsp;</span>Table of Contents</a></span></li></ul></li><li><span><a href=\"#Project-implementation\" data-toc-modified-id=\"Project-implementation-2\"><span class=\"toc-item-num\">2&nbsp;&nbsp;</span>Project implementation</a></span><ul class=\"toc-item\"><li><span><a href=\"#Project-settings\" data-toc-modified-id=\"Project-settings-2.1\"><span class=\"toc-item-num\">2.1&nbsp;&nbsp;</span>Project settings</a></span><ul class=\"toc-item\"><li><span><a href=\"#Importing-libraries\" data-toc-modified-id=\"Importing-libraries-2.1.1\"><span class=\"toc-item-num\">2.1.1&nbsp;&nbsp;</span>Importing libraries</a></span></li><li><span><a href=\"#Functions---helpers-:)\" data-toc-modified-id=\"Functions---helpers-:)-2.1.2\"><span class=\"toc-item-num\">2.1.2&nbsp;&nbsp;</span>Functions - helpers :)</a></span><ul class=\"toc-item\"><li><span><a href=\"#eda_df()\" data-toc-modified-id=\"eda_df()-2.1.2.1\"><span class=\"toc-item-num\">2.1.2.1&nbsp;&nbsp;</span>eda_df()</a></span></li><li><span><a href=\"#dtype_converter()\" data-toc-modified-id=\"dtype_converter()-2.1.2.2\"><span class=\"toc-item-num\">2.1.2.2&nbsp;&nbsp;</span>dtype_converter()</a></span></li><li><span><a href=\"#time_diff()\" data-toc-modified-id=\"time_diff()-2.1.2.3\"><span class=\"toc-item-num\">2.1.2.3&nbsp;&nbsp;</span>time_diff()</a></span></li><li><span><a href=\"#get_day()\" data-toc-modified-id=\"get_day()-2.1.2.4\"><span class=\"toc-item-num\">2.1.2.4&nbsp;&nbsp;</span>get_day()</a></span></li><li><span><a href=\"#check_hypothesis()\" data-toc-modified-id=\"check_hypothesis()-2.1.2.5\"><span class=\"toc-item-num\">2.1.2.5&nbsp;&nbsp;</span>check_hypothesis()</a></span></li></ul></li><li><span><a href=\"#Data-sources\" data-toc-modified-id=\"Data-sources-2.1.3\"><span class=\"toc-item-num\">2.1.3&nbsp;&nbsp;</span>Data sources</a></span></li></ul></li><li><span><a href=\"#Data-Overview-and-Preprocessing\" data-toc-modified-id=\"Data-Overview-and-Preprocessing-2.2\"><span class=\"toc-item-num\">2.2&nbsp;&nbsp;</span>Data Overview and Preprocessing</a></span><ul class=\"toc-item\"><li><span><a href=\"#The-calendar_events-dataset\" data-toc-modified-id=\"The-calendar_events-dataset-2.2.1\"><span class=\"toc-item-num\">2.2.1&nbsp;&nbsp;</span>The <code>calendar_events</code> dataset</a></span></li><li><span><a href=\"#The-test_groups-dataset\" data-toc-modified-id=\"The-test_groups-dataset-2.2.2\"><span class=\"toc-item-num\">2.2.2&nbsp;&nbsp;</span>The <code>test_groups</code> dataset</a></span></li><li><span><a href=\"#The-new_users-dataset\" data-toc-modified-id=\"The-new_users-dataset-2.2.3\"><span class=\"toc-item-num\">2.2.3&nbsp;&nbsp;</span>The <code>new_users</code> dataset</a></span></li><li><span><a href=\"#The-events-dataset\" data-toc-modified-id=\"The-events-dataset-2.2.4\"><span class=\"toc-item-num\">2.2.4&nbsp;&nbsp;</span>The <code>events</code> dataset</a></span></li></ul></li><li><span><a href=\"#Merging-datasets\" data-toc-modified-id=\"Merging-datasets-2.3\"><span class=\"toc-item-num\">2.3&nbsp;&nbsp;</span>Merging datasets</a></span></li><li><span><a href=\"#Exploratory-Data-Analysis-(EDA)\" data-toc-modified-id=\"Exploratory-Data-Analysis-(EDA)-2.4\"><span class=\"toc-item-num\">2.4&nbsp;&nbsp;</span>Exploratory Data Analysis (EDA)</a></span><ul class=\"toc-item\"><li><span><a href=\"#Study-conversion-at-different-funnel-stages.\" data-toc-modified-id=\"Study-conversion-at-different-funnel-stages.-2.4.1\"><span class=\"toc-item-num\">2.4.1&nbsp;&nbsp;</span>Study conversion at different funnel stages.</a></span></li><li><span><a href=\"#Is-the-number-of-events-per-user-distributed-equally-in-the-samples?\" data-toc-modified-id=\"Is-the-number-of-events-per-user-distributed-equally-in-the-samples?-2.4.2\"><span class=\"toc-item-num\">2.4.2&nbsp;&nbsp;</span>Is the number of events per user distributed equally in the samples?</a></span></li><li><span><a href=\"#Are-there-users-who-enter-both-samples?\" data-toc-modified-id=\"Are-there-users-who-enter-both-samples?-2.4.3\"><span class=\"toc-item-num\">2.4.3&nbsp;&nbsp;</span>Are there users who enter both samples?</a></span></li><li><span><a href=\"#How-is-the-number-of-events-distributed-by-days?\" data-toc-modified-id=\"How-is-the-number-of-events-distributed-by-days?-2.4.4\"><span class=\"toc-item-num\">2.4.4&nbsp;&nbsp;</span>How is the number of events distributed by days?</a></span></li><li><span><a href=\"#Think-of-the-possible-details-in-the-data-that-you-have-to-take-into-account-before-starting-the-A/B-test?\" data-toc-modified-id=\"Think-of-the-possible-details-in-the-data-that-you-have-to-take-into-account-before-starting-the-A/B-test?-2.4.5\"><span class=\"toc-item-num\">2.4.5&nbsp;&nbsp;</span>Think of the possible details in the data that you have to take into account before starting the A/B test?</a></span></li><li><span><a href=\"#Conclusion:\" data-toc-modified-id=\"Conclusion:-2.4.6\"><span class=\"toc-item-num\">2.4.6&nbsp;&nbsp;</span>Conclusion:</a></span></li></ul></li><li><span><a href=\"#Evaluate-the-A/B-test-results\" data-toc-modified-id=\"Evaluate-the-A/B-test-results-2.5\"><span class=\"toc-item-num\">2.5&nbsp;&nbsp;</span>Evaluate the A/B test results</a></span><ul class=\"toc-item\"><li><span><a href=\"#What-can-you-tell-about-the-A/A-test-results?\" data-toc-modified-id=\"What-can-you-tell-about-the-A/A-test-results?-2.5.1\"><span class=\"toc-item-num\">2.5.1&nbsp;&nbsp;</span>What can you tell about the A/A test results?</a></span></li><li><span><a href=\"#Use-the-z-criterion-to-check-the-statistical-difference-between-the-proportions\" data-toc-modified-id=\"Use-the-z-criterion-to-check-the-statistical-difference-between-the-proportions-2.5.2\"><span class=\"toc-item-num\">2.5.2&nbsp;&nbsp;</span>Use the z-criterion to check the statistical difference between the proportions</a></span></li></ul></li><li><span><a href=\"#Conclusion\" data-toc-modified-id=\"Conclusion-2.6\"><span class=\"toc-item-num\">2.6&nbsp;&nbsp;</span>Conclusion</a></span></li></ul></li><li><span><a href=\"#General-conclusion\" data-toc-modified-id=\"General-conclusion-3\"><span class=\"toc-item-num\">3&nbsp;&nbsp;</span>General conclusion</a></span></li></ul></div>"
   ]
  },
  {
   "cell_type": "markdown",
   "metadata": {},
   "source": [
    "# Project implementation"
   ]
  },
  {
   "cell_type": "markdown",
   "metadata": {},
   "source": [
    "### Importing libraries"
   ]
  },
  {
   "cell_type": "code",
   "execution_count": 69,
   "metadata": {},
   "outputs": [],
   "source": [
    "import os \n",
    "import sys\n",
    "\n",
    "import pandas as pd\n",
    "import numpy as np\n",
    "\n",
    "import math\n",
    "from datetime import datetime\n",
    "\n",
    "from scipy import stats\n",
    "from scipy.stats import mode\n",
    "\n",
    "# Visualization\n",
    "import plotly.express as px\n",
    "import plotly.io as pio\n",
    "pio.templates.default = \"none\"\n",
    "\n",
    "#To show warnings only once:\n",
    "import warnings; warnings.filterwarnings(action='once')\n",
    "\n",
    "#Avoid warnings (if necessary)\n",
    "import warnings\n",
    "if not sys.warnoptions:\n",
    "       warnings.simplefilter(\"ignore\")\n",
    "\n",
    "#To print all the outputs in the cell\n",
    "from IPython.core.interactiveshell import InteractiveShell\n",
    "InteractiveShell.ast_node_interactivity = \"all\""
   ]
  },
  {
   "cell_type": "markdown",
   "metadata": {},
   "source": [
    "### Functions"
   ]
  },
  {
   "cell_type": "markdown",
   "metadata": {},
   "source": [
    "#### eda_df()"
   ]
  },
  {
   "cell_type": "code",
   "execution_count": 78,
   "metadata": {},
   "outputs": [],
   "source": [
    "def eda_df(df):\n",
    "    \"\"\"\n",
    "    Take a data frame as input and calculate summary statistics\n",
    "    to reveal the understanding of the data in each column. Returns a data frame where each feature in the data set is a row \n",
    "    and the summary statistics are columns. \n",
    "    \"\"\"\n",
    "    \n",
    "    print('\\nSummary statistics: ')\n",
    "    eda = {}\n",
    "    eda['dtype'] = df.dtypes\n",
    "#     eda['mamory_usage'] = df.memory_usage('deep')\n",
    "    eda['count'] = df.count()\n",
    "    eda['min'] = df.min()\n",
    "    eda['mean'] = df.mean()\n",
    "    eda['median'] = df.median()    \n",
    "    eda['max'] = df.max()\n",
    "    eda['std'] = df.std()\n",
    "    eda['skew'] = df.skew(skipna=True)\n",
    "    eda['null_sum'] = df.isnull().sum()\n",
    "    eda['null_%'] = round((df.isnull().mean() * 100), 2)\n",
    "\n",
    "    return pd.DataFrame(eda)"
   ]
  },
  {
   "cell_type": "markdown",
   "metadata": {},
   "source": [
    "#### dtype_converter()"
   ]
  },
  {
   "cell_type": "code",
   "execution_count": 3,
   "metadata": {},
   "outputs": [],
   "source": [
    "def dtype_converter(series, dtype):\n",
    "    \"\"\"\n",
    "    The function converts data type of series to another.\n",
    "    And returns series.\n",
    "    \n",
    "    \"\"\"\n",
    "    \n",
    "    types_data = ['int', 'float', 'float64', 'bool', 'str', 'category']\n",
    "    try:\n",
    "        if any(elem in dtype for elem in types_data):\n",
    "            series = series.astype(dtype)      \n",
    "        elif dtype == 'date':\n",
    "            series = pd.to_datetime(series, format='%Y-%m-%dT%H:%M:%S')\n",
    "        elif dtype == 'numeric':\n",
    "            pd.to_numeric(series, errors='ignore')\n",
    "    except ValueError:\n",
    "        pass\n",
    "\n",
    "    return series"
   ]
  },
  {
   "cell_type": "markdown",
   "metadata": {},
   "source": [
    "#### time_diff()"
   ]
  },
  {
   "cell_type": "code",
   "execution_count": 4,
   "metadata": {},
   "outputs": [],
   "source": [
    "def time_diff(end_ts, start_ts, time_val):\n",
    "    \"\"\"\n",
    "    The function returns a difference between two timestamp in time_val\n",
    "    \"\"\"\n",
    "    \n",
    "    try:\n",
    "        if time_val == 'seconds':\n",
    "            return (end_ts - start_ts).dt.seconds\n",
    "        elif time_val == 'days':\n",
    "            return (end_ts - start_ts).dt.days \n",
    "        elif time_val == 'week':\n",
    "            return (end_ts - start_ts).dt.week \n",
    "        elif time_val == 'month':\n",
    "            return (end_ts - start_ts).dt.month\n",
    "        elif time_val == 'year':\n",
    "            return (end_ts - start_ts).dt.year\n",
    "        \n",
    "    except ValueError:\n",
    "        'Data type is not datetime64[ns]'"
   ]
  },
  {
   "cell_type": "markdown",
   "metadata": {},
   "source": [
    "####  get_day()"
   ]
  },
  {
   "cell_type": "code",
   "execution_count": 5,
   "metadata": {},
   "outputs": [],
   "source": [
    "def get_day(df, date_column): \n",
    "    \"\"\"\n",
    "    The function retrives day from the `date_column` and returns it in datetime64[ns] format.\n",
    "    \"\"\"\n",
    "    \n",
    "    return pd.to_datetime(df[date_column].dt.date)"
   ]
  },
  {
   "cell_type": "markdown",
   "metadata": {},
   "source": [
    "#### check_hypothesis()"
   ]
  },
  {
   "cell_type": "code",
   "execution_count": 6,
   "metadata": {},
   "outputs": [],
   "source": [
    "def check_hypothesis(sample1, sample2, event, alpha):\n",
    "\n",
    "    # let's start with successes, using\n",
    "\n",
    "    successes1 = users_pivot[users_pivot.event_name == event][sample1].iloc[0]\n",
    "    successes2 = users_pivot[users_pivot.event_name == event][sample2].iloc[0]\n",
    "\n",
    "    # for trials we can go back to original df or used a pre-aggregated data\n",
    "    trials1 = df_ab_testing[df_ab_testing.group == sample1]['user_id'].nunique()\n",
    "    trials2 = df_ab_testing[df_ab_testing.group == sample2]['user_id'].nunique()\n",
    "\n",
    "    # proportion for success in the first group\n",
    "    p1 = successes1 / trials1\n",
    "\n",
    "    # proportion for success in the second group\n",
    "    p2 = successes2 / trials2\n",
    "\n",
    "    # proportion in a combined dataset\n",
    "    p_combined = (successes1 + successes2) / (trials1 + trials2)\n",
    "\n",
    "    difference = p1 - p2\n",
    "\n",
    "    # calculating the statistic in standard deviations of the standard normal distribution\n",
    "    z_value = difference / math.sqrt(p_combined * (1 - p_combined) * (1 / trials1 + 1 / trials2))\n",
    "\n",
    "    # setting up the standard normal distribution (mean 0, standard deviation 1)\n",
    "    distr = stats.norm(0, 1)\n",
    "\n",
    "    p_value = (1 - distr.cdf(abs(z_value))) * 2\n",
    "\n",
    "    print('p-value: ', p_value)\n",
    "\n",
    "    if (p_value < alpha):\n",
    "        print(\"Reject H0 for\", event, 'and groups', sample1, sample2)\n",
    "    else:\n",
    "        print(\"Fail to Reject H0 for\", event, 'and groups', sample1, sample2)"
   ]
  },
  {
   "cell_type": "markdown",
   "metadata": {},
   "source": [
    "###  Data sources"
   ]
  },
  {
   "cell_type": "code",
   "execution_count": 7,
   "metadata": {},
   "outputs": [],
   "source": [
    "\n",
    "source_dir = \"path/\"\n",
    "#\n",
    "missing_values = [\"n/a\", \"na\", \"--\"]\n",
    "\n",
    "# filenames\n",
    "calendar_events = \"path/ab_project_marketing_events_us.csv\"\n",
    "test_groups = \"path/final_ab_participants_us.csv\"\n",
    "new_users = \"path/final_ab_new_users_us.csv\"\n",
    "events = \"path/final_ab_events_us.csv\""
   ]
  },
  {
   "cell_type": "markdown",
   "metadata": {},
   "source": [
    "## Data Overview and Preprocessing"
   ]
  },
  {
   "cell_type": "markdown",
   "metadata": {},
   "source": [
    "### The `calendar_events` dataset"
   ]
  },
  {
   "cell_type": "markdown",
   "metadata": {},
   "source": [
    "*Downloading:*"
   ]
  },
  {
   "cell_type": "code",
   "execution_count": 8,
   "metadata": {},
   "outputs": [],
   "source": [
    "df_calendar_events = pd.read_csv(os.path.join(source_dir, calendar_events),\n",
    "                        parse_dates=['start_dt', 'finish_dt'],\n",
    "                        na_values=missing_values)\n",
    "\n",
    "# saving the original data set for comparing changes to be made\n",
    "orig_df_calendar_events = df_calendar_events.copy()"
   ]
  },
  {
   "cell_type": "markdown",
   "metadata": {},
   "source": [
    "*Overview and descriptive statistic:*"
   ]
  },
  {
   "cell_type": "code",
   "execution_count": 74,
   "metadata": {},
   "outputs": [
    {
     "name": "stdout",
     "output_type": "stream",
     "text": [
      "\n",
      "The number of rows and columns: \n"
     ]
    },
    {
     "data": {
      "text/plain": [
       "(14, 5)"
      ]
     },
     "execution_count": 74,
     "metadata": {},
     "output_type": "execute_result"
    },
    {
     "name": "stdout",
     "output_type": "stream",
     "text": [
      "\n",
      "A concise summary of the DataFrame: \n",
      "\n",
      "<class 'pandas.core.frame.DataFrame'>\n",
      "Int64Index: 14 entries, 6 to 10\n",
      "Data columns (total 5 columns):\n",
      " #   Column     Non-Null Count  Dtype         \n",
      "---  ------     --------------  -----         \n",
      " 0   name       14 non-null     object        \n",
      " 1   regions    14 non-null     object        \n",
      " 2   start_dt   14 non-null     datetime64[ns]\n",
      " 3   finish_dt  14 non-null     datetime64[ns]\n",
      " 4   n_days     14 non-null     int64         \n",
      "dtypes: datetime64[ns](2), int64(1), object(2)\n",
      "memory usage: 672.0+ bytes\n",
      "\n",
      "Dataset:\n"
     ]
    },
    {
     "data": {
      "text/html": [
       "<div>\n",
       "<style scoped>\n",
       "    .dataframe tbody tr th:only-of-type {\n",
       "        vertical-align: middle;\n",
       "    }\n",
       "\n",
       "    .dataframe tbody tr th {\n",
       "        vertical-align: top;\n",
       "    }\n",
       "\n",
       "    .dataframe thead th {\n",
       "        text-align: right;\n",
       "    }\n",
       "</style>\n",
       "<table border=\"1\" class=\"dataframe\">\n",
       "  <thead>\n",
       "    <tr style=\"text-align: right;\">\n",
       "      <th></th>\n",
       "      <th>name</th>\n",
       "      <th>regions</th>\n",
       "      <th>start_dt</th>\n",
       "      <th>finish_dt</th>\n",
       "      <th>n_days</th>\n",
       "    </tr>\n",
       "  </thead>\n",
       "  <tbody>\n",
       "    <tr>\n",
       "      <th>6</th>\n",
       "      <td>Chinese New Year Promo</td>\n",
       "      <td>APAC</td>\n",
       "      <td>2020-01-25</td>\n",
       "      <td>2020-02-07</td>\n",
       "      <td>13</td>\n",
       "    </tr>\n",
       "    <tr>\n",
       "      <th>1</th>\n",
       "      <td>St. Valentine's Day Giveaway</td>\n",
       "      <td>EU, CIS, APAC, N.America</td>\n",
       "      <td>2020-02-14</td>\n",
       "      <td>2020-02-16</td>\n",
       "      <td>2</td>\n",
       "    </tr>\n",
       "    <tr>\n",
       "      <th>8</th>\n",
       "      <td>International Women's Day Promo</td>\n",
       "      <td>EU, CIS, APAC</td>\n",
       "      <td>2020-03-08</td>\n",
       "      <td>2020-03-10</td>\n",
       "      <td>2</td>\n",
       "    </tr>\n",
       "    <tr>\n",
       "      <th>2</th>\n",
       "      <td>St. Patric's Day Promo</td>\n",
       "      <td>EU, N.America</td>\n",
       "      <td>2020-03-17</td>\n",
       "      <td>2020-03-19</td>\n",
       "      <td>2</td>\n",
       "    </tr>\n",
       "    <tr>\n",
       "      <th>3</th>\n",
       "      <td>Easter Promo</td>\n",
       "      <td>EU, CIS, APAC, N.America</td>\n",
       "      <td>2020-04-12</td>\n",
       "      <td>2020-04-19</td>\n",
       "      <td>7</td>\n",
       "    </tr>\n",
       "    <tr>\n",
       "      <th>7</th>\n",
       "      <td>Labor day (May 1st) Ads Campaign</td>\n",
       "      <td>EU, CIS, APAC</td>\n",
       "      <td>2020-05-01</td>\n",
       "      <td>2020-05-03</td>\n",
       "      <td>2</td>\n",
       "    </tr>\n",
       "    <tr>\n",
       "      <th>9</th>\n",
       "      <td>Victory Day CIS (May 9th) Event</td>\n",
       "      <td>CIS</td>\n",
       "      <td>2020-05-09</td>\n",
       "      <td>2020-05-11</td>\n",
       "      <td>2</td>\n",
       "    </tr>\n",
       "    <tr>\n",
       "      <th>11</th>\n",
       "      <td>Dragon Boat Festival Giveaway</td>\n",
       "      <td>APAC</td>\n",
       "      <td>2020-06-25</td>\n",
       "      <td>2020-07-01</td>\n",
       "      <td>6</td>\n",
       "    </tr>\n",
       "    <tr>\n",
       "      <th>4</th>\n",
       "      <td>4th of July Promo</td>\n",
       "      <td>N.America</td>\n",
       "      <td>2020-07-04</td>\n",
       "      <td>2020-07-11</td>\n",
       "      <td>7</td>\n",
       "    </tr>\n",
       "    <tr>\n",
       "      <th>13</th>\n",
       "      <td>Chinese Moon Festival</td>\n",
       "      <td>APAC</td>\n",
       "      <td>2020-10-01</td>\n",
       "      <td>2020-10-07</td>\n",
       "      <td>6</td>\n",
       "    </tr>\n",
       "    <tr>\n",
       "      <th>12</th>\n",
       "      <td>Single's Day Gift Promo</td>\n",
       "      <td>APAC</td>\n",
       "      <td>2020-11-11</td>\n",
       "      <td>2020-11-12</td>\n",
       "      <td>1</td>\n",
       "    </tr>\n",
       "    <tr>\n",
       "      <th>5</th>\n",
       "      <td>Black Friday Ads Campaign</td>\n",
       "      <td>EU, CIS, APAC, N.America</td>\n",
       "      <td>2020-11-26</td>\n",
       "      <td>2020-12-01</td>\n",
       "      <td>5</td>\n",
       "    </tr>\n",
       "    <tr>\n",
       "      <th>0</th>\n",
       "      <td>Christmas&amp;New Year Promo</td>\n",
       "      <td>EU, N.America</td>\n",
       "      <td>2020-12-25</td>\n",
       "      <td>2021-01-03</td>\n",
       "      <td>9</td>\n",
       "    </tr>\n",
       "    <tr>\n",
       "      <th>10</th>\n",
       "      <td>CIS New Year Gift Lottery</td>\n",
       "      <td>CIS</td>\n",
       "      <td>2020-12-30</td>\n",
       "      <td>2021-01-07</td>\n",
       "      <td>8</td>\n",
       "    </tr>\n",
       "  </tbody>\n",
       "</table>\n",
       "</div>"
      ],
      "text/plain": [
       "                                name                   regions   start_dt  \\\n",
       "6             Chinese New Year Promo                      APAC 2020-01-25   \n",
       "1       St. Valentine's Day Giveaway  EU, CIS, APAC, N.America 2020-02-14   \n",
       "8    International Women's Day Promo             EU, CIS, APAC 2020-03-08   \n",
       "2             St. Patric's Day Promo             EU, N.America 2020-03-17   \n",
       "3                       Easter Promo  EU, CIS, APAC, N.America 2020-04-12   \n",
       "7   Labor day (May 1st) Ads Campaign             EU, CIS, APAC 2020-05-01   \n",
       "9    Victory Day CIS (May 9th) Event                       CIS 2020-05-09   \n",
       "11     Dragon Boat Festival Giveaway                      APAC 2020-06-25   \n",
       "4                  4th of July Promo                 N.America 2020-07-04   \n",
       "13             Chinese Moon Festival                      APAC 2020-10-01   \n",
       "12           Single's Day Gift Promo                      APAC 2020-11-11   \n",
       "5          Black Friday Ads Campaign  EU, CIS, APAC, N.America 2020-11-26   \n",
       "0           Christmas&New Year Promo             EU, N.America 2020-12-25   \n",
       "10         CIS New Year Gift Lottery                       CIS 2020-12-30   \n",
       "\n",
       "    finish_dt  n_days  \n",
       "6  2020-02-07      13  \n",
       "1  2020-02-16       2  \n",
       "8  2020-03-10       2  \n",
       "2  2020-03-19       2  \n",
       "3  2020-04-19       7  \n",
       "7  2020-05-03       2  \n",
       "9  2020-05-11       2  \n",
       "11 2020-07-01       6  \n",
       "4  2020-07-11       7  \n",
       "13 2020-10-07       6  \n",
       "12 2020-11-12       1  \n",
       "5  2020-12-01       5  \n",
       "0  2021-01-03       9  \n",
       "10 2021-01-07       8  "
      ]
     },
     "execution_count": 74,
     "metadata": {},
     "output_type": "execute_result"
    }
   ],
   "source": [
    "print('\\nThe number of rows and columns: ')\n",
    "df_calendar_events.shape\n",
    "print('\\nA concise summary of the DataFrame: \\n')\n",
    "df_calendar_events.info()\n",
    "\n",
    "print('\\nDataset:')\n",
    "df_calendar_events = df_calendar_events.sort_values(by='start_dt')\n",
    "df_calendar_events"
   ]
  },
  {
   "cell_type": "code",
   "execution_count": 10,
   "metadata": {},
   "outputs": [
    {
     "data": {
      "text/html": [
       "<div>\n",
       "<style scoped>\n",
       "    .dataframe tbody tr th:only-of-type {\n",
       "        vertical-align: middle;\n",
       "    }\n",
       "\n",
       "    .dataframe tbody tr th {\n",
       "        vertical-align: top;\n",
       "    }\n",
       "\n",
       "    .dataframe thead th {\n",
       "        text-align: right;\n",
       "    }\n",
       "</style>\n",
       "<table border=\"1\" class=\"dataframe\">\n",
       "  <thead>\n",
       "    <tr style=\"text-align: right;\">\n",
       "      <th></th>\n",
       "      <th>name</th>\n",
       "      <th>regions</th>\n",
       "      <th>start_dt</th>\n",
       "      <th>finish_dt</th>\n",
       "      <th>n_days</th>\n",
       "    </tr>\n",
       "  </thead>\n",
       "  <tbody>\n",
       "    <tr>\n",
       "      <th>6</th>\n",
       "      <td>Chinese New Year Promo</td>\n",
       "      <td>APAC</td>\n",
       "      <td>2020-01-25</td>\n",
       "      <td>2020-02-07</td>\n",
       "      <td>13</td>\n",
       "    </tr>\n",
       "    <tr>\n",
       "      <th>1</th>\n",
       "      <td>St. Valentine's Day Giveaway</td>\n",
       "      <td>EU, CIS, APAC, N.America</td>\n",
       "      <td>2020-02-14</td>\n",
       "      <td>2020-02-16</td>\n",
       "      <td>2</td>\n",
       "    </tr>\n",
       "    <tr>\n",
       "      <th>8</th>\n",
       "      <td>International Women's Day Promo</td>\n",
       "      <td>EU, CIS, APAC</td>\n",
       "      <td>2020-03-08</td>\n",
       "      <td>2020-03-10</td>\n",
       "      <td>2</td>\n",
       "    </tr>\n",
       "    <tr>\n",
       "      <th>2</th>\n",
       "      <td>St. Patric's Day Promo</td>\n",
       "      <td>EU, N.America</td>\n",
       "      <td>2020-03-17</td>\n",
       "      <td>2020-03-19</td>\n",
       "      <td>2</td>\n",
       "    </tr>\n",
       "    <tr>\n",
       "      <th>3</th>\n",
       "      <td>Easter Promo</td>\n",
       "      <td>EU, CIS, APAC, N.America</td>\n",
       "      <td>2020-04-12</td>\n",
       "      <td>2020-04-19</td>\n",
       "      <td>7</td>\n",
       "    </tr>\n",
       "    <tr>\n",
       "      <th>7</th>\n",
       "      <td>Labor day (May 1st) Ads Campaign</td>\n",
       "      <td>EU, CIS, APAC</td>\n",
       "      <td>2020-05-01</td>\n",
       "      <td>2020-05-03</td>\n",
       "      <td>2</td>\n",
       "    </tr>\n",
       "    <tr>\n",
       "      <th>9</th>\n",
       "      <td>Victory Day CIS (May 9th) Event</td>\n",
       "      <td>CIS</td>\n",
       "      <td>2020-05-09</td>\n",
       "      <td>2020-05-11</td>\n",
       "      <td>2</td>\n",
       "    </tr>\n",
       "    <tr>\n",
       "      <th>11</th>\n",
       "      <td>Dragon Boat Festival Giveaway</td>\n",
       "      <td>APAC</td>\n",
       "      <td>2020-06-25</td>\n",
       "      <td>2020-07-01</td>\n",
       "      <td>6</td>\n",
       "    </tr>\n",
       "    <tr>\n",
       "      <th>4</th>\n",
       "      <td>4th of July Promo</td>\n",
       "      <td>N.America</td>\n",
       "      <td>2020-07-04</td>\n",
       "      <td>2020-07-11</td>\n",
       "      <td>7</td>\n",
       "    </tr>\n",
       "    <tr>\n",
       "      <th>13</th>\n",
       "      <td>Chinese Moon Festival</td>\n",
       "      <td>APAC</td>\n",
       "      <td>2020-10-01</td>\n",
       "      <td>2020-10-07</td>\n",
       "      <td>6</td>\n",
       "    </tr>\n",
       "    <tr>\n",
       "      <th>12</th>\n",
       "      <td>Single's Day Gift Promo</td>\n",
       "      <td>APAC</td>\n",
       "      <td>2020-11-11</td>\n",
       "      <td>2020-11-12</td>\n",
       "      <td>1</td>\n",
       "    </tr>\n",
       "    <tr>\n",
       "      <th>5</th>\n",
       "      <td>Black Friday Ads Campaign</td>\n",
       "      <td>EU, CIS, APAC, N.America</td>\n",
       "      <td>2020-11-26</td>\n",
       "      <td>2020-12-01</td>\n",
       "      <td>5</td>\n",
       "    </tr>\n",
       "    <tr>\n",
       "      <th>0</th>\n",
       "      <td>Christmas&amp;New Year Promo</td>\n",
       "      <td>EU, N.America</td>\n",
       "      <td>2020-12-25</td>\n",
       "      <td>2021-01-03</td>\n",
       "      <td>9</td>\n",
       "    </tr>\n",
       "    <tr>\n",
       "      <th>10</th>\n",
       "      <td>CIS New Year Gift Lottery</td>\n",
       "      <td>CIS</td>\n",
       "      <td>2020-12-30</td>\n",
       "      <td>2021-01-07</td>\n",
       "      <td>8</td>\n",
       "    </tr>\n",
       "  </tbody>\n",
       "</table>\n",
       "</div>"
      ],
      "text/plain": [
       "                                name                   regions   start_dt  \\\n",
       "6             Chinese New Year Promo                      APAC 2020-01-25   \n",
       "1       St. Valentine's Day Giveaway  EU, CIS, APAC, N.America 2020-02-14   \n",
       "8    International Women's Day Promo             EU, CIS, APAC 2020-03-08   \n",
       "2             St. Patric's Day Promo             EU, N.America 2020-03-17   \n",
       "3                       Easter Promo  EU, CIS, APAC, N.America 2020-04-12   \n",
       "7   Labor day (May 1st) Ads Campaign             EU, CIS, APAC 2020-05-01   \n",
       "9    Victory Day CIS (May 9th) Event                       CIS 2020-05-09   \n",
       "11     Dragon Boat Festival Giveaway                      APAC 2020-06-25   \n",
       "4                  4th of July Promo                 N.America 2020-07-04   \n",
       "13             Chinese Moon Festival                      APAC 2020-10-01   \n",
       "12           Single's Day Gift Promo                      APAC 2020-11-11   \n",
       "5          Black Friday Ads Campaign  EU, CIS, APAC, N.America 2020-11-26   \n",
       "0           Christmas&New Year Promo             EU, N.America 2020-12-25   \n",
       "10         CIS New Year Gift Lottery                       CIS 2020-12-30   \n",
       "\n",
       "    finish_dt  n_days  \n",
       "6  2020-02-07      13  \n",
       "1  2020-02-16       2  \n",
       "8  2020-03-10       2  \n",
       "2  2020-03-19       2  \n",
       "3  2020-04-19       7  \n",
       "7  2020-05-03       2  \n",
       "9  2020-05-11       2  \n",
       "11 2020-07-01       6  \n",
       "4  2020-07-11       7  \n",
       "13 2020-10-07       6  \n",
       "12 2020-11-12       1  \n",
       "5  2020-12-01       5  \n",
       "0  2021-01-03       9  \n",
       "10 2021-01-07       8  "
      ]
     },
     "execution_count": 10,
     "metadata": {},
     "output_type": "execute_result"
    }
   ],
   "source": [
    "df_calendar_events['n_days'] = time_diff(df_calendar_events.finish_dt, df_calendar_events.start_dt, 'days')\n",
    "df_calendar_events"
   ]
  },
  {
   "cell_type": "markdown",
   "metadata": {},
   "source": [
    "> Preliminary overview:\n",
    "* The `df_calendar_events` dataset contains 14 events over the year 2020.\n",
    "* The longest event duration is 13 days and belongs to 'Chinese New Year Promo'.\n",
    "* The shortest event is 1 day. This is 'Single's Day Gift Promo'.\n",
    "* There are no marketing events in August and September.\n",
    "* The 'CIS New Year Gift Lottery' event coincides with the 'Christmas&New Year Promo' event. They overlap from December 30 to January 3 inclusive.\n",
    "* There is no null values.\n",
    "* **The 14 days of A / B testing from December 7 to 21 did not coincide with any marketing event.**"
   ]
  },
  {
   "cell_type": "markdown",
   "metadata": {},
   "source": [
    "### The `test_groups` dataset"
   ]
  },
  {
   "cell_type": "markdown",
   "metadata": {},
   "source": [
    "*Downloading:*"
   ]
  },
  {
   "cell_type": "code",
   "execution_count": 75,
   "metadata": {},
   "outputs": [],
   "source": [
    "df_test_groups = pd.read_csv(os.path.join(source_dir, test_groups),\n",
    "                             na_values=missing_values,\n",
    "                             dtype={\n",
    "                                 'ab_test': 'category',\n",
    "                                 'group': 'category'\n",
    "                             })\n",
    "\n",
    "#Saving the original data set for comparing changes to be made\n",
    "orig_df_test_groups = df_test_groups.copy()"
   ]
  },
  {
   "cell_type": "markdown",
   "metadata": {},
   "source": [
    "*Overview and descriptive statistic:*"
   ]
  },
  {
   "cell_type": "code",
   "execution_count": 79,
   "metadata": {},
   "outputs": [
    {
     "name": "stdout",
     "output_type": "stream",
     "text": [
      "\n",
      "Summary statistics: \n"
     ]
    },
    {
     "data": {
      "text/html": [
       "<div>\n",
       "<style scoped>\n",
       "    .dataframe tbody tr th:only-of-type {\n",
       "        vertical-align: middle;\n",
       "    }\n",
       "\n",
       "    .dataframe tbody tr th {\n",
       "        vertical-align: top;\n",
       "    }\n",
       "\n",
       "    .dataframe thead th {\n",
       "        text-align: right;\n",
       "    }\n",
       "</style>\n",
       "<table border=\"1\" class=\"dataframe\">\n",
       "  <thead>\n",
       "    <tr style=\"text-align: right;\">\n",
       "      <th></th>\n",
       "      <th>dtype</th>\n",
       "      <th>count</th>\n",
       "      <th>min</th>\n",
       "      <th>mean</th>\n",
       "      <th>median</th>\n",
       "      <th>max</th>\n",
       "      <th>std</th>\n",
       "      <th>skew</th>\n",
       "      <th>null_sum</th>\n",
       "      <th>null_%</th>\n",
       "    </tr>\n",
       "  </thead>\n",
       "  <tbody>\n",
       "    <tr>\n",
       "      <th>ab_test</th>\n",
       "      <td>category</td>\n",
       "      <td>18268</td>\n",
       "      <td>NaN</td>\n",
       "      <td>NaN</td>\n",
       "      <td>NaN</td>\n",
       "      <td>NaN</td>\n",
       "      <td>NaN</td>\n",
       "      <td>NaN</td>\n",
       "      <td>0</td>\n",
       "      <td>0.0</td>\n",
       "    </tr>\n",
       "    <tr>\n",
       "      <th>group</th>\n",
       "      <td>category</td>\n",
       "      <td>18268</td>\n",
       "      <td>NaN</td>\n",
       "      <td>NaN</td>\n",
       "      <td>NaN</td>\n",
       "      <td>NaN</td>\n",
       "      <td>NaN</td>\n",
       "      <td>NaN</td>\n",
       "      <td>0</td>\n",
       "      <td>0.0</td>\n",
       "    </tr>\n",
       "    <tr>\n",
       "      <th>user_id</th>\n",
       "      <td>object</td>\n",
       "      <td>18268</td>\n",
       "      <td>0002CE61FF2C4011</td>\n",
       "      <td>NaN</td>\n",
       "      <td>NaN</td>\n",
       "      <td>FFF58BC33966EB51</td>\n",
       "      <td>NaN</td>\n",
       "      <td>NaN</td>\n",
       "      <td>0</td>\n",
       "      <td>0.0</td>\n",
       "    </tr>\n",
       "  </tbody>\n",
       "</table>\n",
       "</div>"
      ],
      "text/plain": [
       "            dtype  count               min  mean  median               max  \\\n",
       "ab_test  category  18268               NaN   NaN     NaN               NaN   \n",
       "group    category  18268               NaN   NaN     NaN               NaN   \n",
       "user_id    object  18268  0002CE61FF2C4011   NaN     NaN  FFF58BC33966EB51   \n",
       "\n",
       "         std  skew  null_sum  null_%  \n",
       "ab_test  NaN   NaN         0     0.0  \n",
       "group    NaN   NaN         0     0.0  \n",
       "user_id  NaN   NaN         0     0.0  "
      ]
     },
     "execution_count": 79,
     "metadata": {},
     "output_type": "execute_result"
    },
    {
     "name": "stdout",
     "output_type": "stream",
     "text": [
      "\n",
      "Dataset head: \n"
     ]
    },
    {
     "data": {
      "text/html": [
       "<div>\n",
       "<style scoped>\n",
       "    .dataframe tbody tr th:only-of-type {\n",
       "        vertical-align: middle;\n",
       "    }\n",
       "\n",
       "    .dataframe tbody tr th {\n",
       "        vertical-align: top;\n",
       "    }\n",
       "\n",
       "    .dataframe thead th {\n",
       "        text-align: right;\n",
       "    }\n",
       "</style>\n",
       "<table border=\"1\" class=\"dataframe\">\n",
       "  <thead>\n",
       "    <tr style=\"text-align: right;\">\n",
       "      <th></th>\n",
       "      <th>user_id</th>\n",
       "      <th>group</th>\n",
       "      <th>ab_test</th>\n",
       "    </tr>\n",
       "  </thead>\n",
       "  <tbody>\n",
       "    <tr>\n",
       "      <th>0</th>\n",
       "      <td>D1ABA3E2887B6A73</td>\n",
       "      <td>A</td>\n",
       "      <td>recommender_system_test</td>\n",
       "    </tr>\n",
       "    <tr>\n",
       "      <th>1</th>\n",
       "      <td>A7A3664BD6242119</td>\n",
       "      <td>A</td>\n",
       "      <td>recommender_system_test</td>\n",
       "    </tr>\n",
       "    <tr>\n",
       "      <th>2</th>\n",
       "      <td>DABC14FDDFADD29E</td>\n",
       "      <td>A</td>\n",
       "      <td>recommender_system_test</td>\n",
       "    </tr>\n",
       "    <tr>\n",
       "      <th>3</th>\n",
       "      <td>04988C5DF189632E</td>\n",
       "      <td>A</td>\n",
       "      <td>recommender_system_test</td>\n",
       "    </tr>\n",
       "    <tr>\n",
       "      <th>4</th>\n",
       "      <td>482F14783456D21B</td>\n",
       "      <td>B</td>\n",
       "      <td>recommender_system_test</td>\n",
       "    </tr>\n",
       "  </tbody>\n",
       "</table>\n",
       "</div>"
      ],
      "text/plain": [
       "            user_id group                  ab_test\n",
       "0  D1ABA3E2887B6A73     A  recommender_system_test\n",
       "1  A7A3664BD6242119     A  recommender_system_test\n",
       "2  DABC14FDDFADD29E     A  recommender_system_test\n",
       "3  04988C5DF189632E     A  recommender_system_test\n",
       "4  482F14783456D21B     B  recommender_system_test"
      ]
     },
     "execution_count": 79,
     "metadata": {},
     "output_type": "execute_result"
    },
    {
     "name": "stdout",
     "output_type": "stream",
     "text": [
      "\n",
      "Dataset tail: \n"
     ]
    },
    {
     "data": {
      "text/html": [
       "<div>\n",
       "<style scoped>\n",
       "    .dataframe tbody tr th:only-of-type {\n",
       "        vertical-align: middle;\n",
       "    }\n",
       "\n",
       "    .dataframe tbody tr th {\n",
       "        vertical-align: top;\n",
       "    }\n",
       "\n",
       "    .dataframe thead th {\n",
       "        text-align: right;\n",
       "    }\n",
       "</style>\n",
       "<table border=\"1\" class=\"dataframe\">\n",
       "  <thead>\n",
       "    <tr style=\"text-align: right;\">\n",
       "      <th></th>\n",
       "      <th>user_id</th>\n",
       "      <th>group</th>\n",
       "      <th>ab_test</th>\n",
       "    </tr>\n",
       "  </thead>\n",
       "  <tbody>\n",
       "    <tr>\n",
       "      <th>18263</th>\n",
       "      <td>1D302F8688B91781</td>\n",
       "      <td>B</td>\n",
       "      <td>interface_eu_test</td>\n",
       "    </tr>\n",
       "    <tr>\n",
       "      <th>18264</th>\n",
       "      <td>3DE51B726983B657</td>\n",
       "      <td>A</td>\n",
       "      <td>interface_eu_test</td>\n",
       "    </tr>\n",
       "    <tr>\n",
       "      <th>18265</th>\n",
       "      <td>F501F79D332BE86C</td>\n",
       "      <td>A</td>\n",
       "      <td>interface_eu_test</td>\n",
       "    </tr>\n",
       "    <tr>\n",
       "      <th>18266</th>\n",
       "      <td>63FBE257B05F2245</td>\n",
       "      <td>A</td>\n",
       "      <td>interface_eu_test</td>\n",
       "    </tr>\n",
       "    <tr>\n",
       "      <th>18267</th>\n",
       "      <td>79F9ABFB029CF724</td>\n",
       "      <td>B</td>\n",
       "      <td>interface_eu_test</td>\n",
       "    </tr>\n",
       "  </tbody>\n",
       "</table>\n",
       "</div>"
      ],
      "text/plain": [
       "                user_id group            ab_test\n",
       "18263  1D302F8688B91781     B  interface_eu_test\n",
       "18264  3DE51B726983B657     A  interface_eu_test\n",
       "18265  F501F79D332BE86C     A  interface_eu_test\n",
       "18266  63FBE257B05F2245     A  interface_eu_test\n",
       "18267  79F9ABFB029CF724     B  interface_eu_test"
      ]
     },
     "execution_count": 79,
     "metadata": {},
     "output_type": "execute_result"
    },
    {
     "name": "stdout",
     "output_type": "stream",
     "text": [
      "\n",
      "Dataset sample: \n"
     ]
    },
    {
     "data": {
      "text/html": [
       "<div>\n",
       "<style scoped>\n",
       "    .dataframe tbody tr th:only-of-type {\n",
       "        vertical-align: middle;\n",
       "    }\n",
       "\n",
       "    .dataframe tbody tr th {\n",
       "        vertical-align: top;\n",
       "    }\n",
       "\n",
       "    .dataframe thead th {\n",
       "        text-align: right;\n",
       "    }\n",
       "</style>\n",
       "<table border=\"1\" class=\"dataframe\">\n",
       "  <thead>\n",
       "    <tr style=\"text-align: right;\">\n",
       "      <th></th>\n",
       "      <th>user_id</th>\n",
       "      <th>group</th>\n",
       "      <th>ab_test</th>\n",
       "    </tr>\n",
       "  </thead>\n",
       "  <tbody>\n",
       "    <tr>\n",
       "      <th>10205</th>\n",
       "      <td>C48062D11F746466</td>\n",
       "      <td>A</td>\n",
       "      <td>interface_eu_test</td>\n",
       "    </tr>\n",
       "    <tr>\n",
       "      <th>17230</th>\n",
       "      <td>B8CE1EDD2CC6875B</td>\n",
       "      <td>A</td>\n",
       "      <td>interface_eu_test</td>\n",
       "    </tr>\n",
       "    <tr>\n",
       "      <th>7402</th>\n",
       "      <td>892F85A7EDCFCD77</td>\n",
       "      <td>A</td>\n",
       "      <td>interface_eu_test</td>\n",
       "    </tr>\n",
       "    <tr>\n",
       "      <th>14111</th>\n",
       "      <td>18D5A02DB9D1EAFC</td>\n",
       "      <td>B</td>\n",
       "      <td>interface_eu_test</td>\n",
       "    </tr>\n",
       "    <tr>\n",
       "      <th>16154</th>\n",
       "      <td>8A2FAE3209E80BDD</td>\n",
       "      <td>A</td>\n",
       "      <td>interface_eu_test</td>\n",
       "    </tr>\n",
       "  </tbody>\n",
       "</table>\n",
       "</div>"
      ],
      "text/plain": [
       "                user_id group            ab_test\n",
       "10205  C48062D11F746466     A  interface_eu_test\n",
       "17230  B8CE1EDD2CC6875B     A  interface_eu_test\n",
       "7402   892F85A7EDCFCD77     A  interface_eu_test\n",
       "14111  18D5A02DB9D1EAFC     B  interface_eu_test\n",
       "16154  8A2FAE3209E80BDD     A  interface_eu_test"
      ]
     },
     "execution_count": 79,
     "metadata": {},
     "output_type": "execute_result"
    },
    {
     "name": "stdout",
     "output_type": "stream",
     "text": [
      "\n",
      "The number of rows, columns: \n"
     ]
    },
    {
     "data": {
      "text/plain": [
       "(18268, 3)"
      ]
     },
     "execution_count": 79,
     "metadata": {},
     "output_type": "execute_result"
    }
   ],
   "source": [
    "eda_df(df_test_groups)\n",
    "print('\\nDataset head: ')\n",
    "df_test_groups.head()\n",
    "print('\\nDataset tail: ')\n",
    "df_test_groups.tail()\n",
    "print('\\nDataset sample: ')\n",
    "df_test_groups.sample(5)\n",
    "print('\\nThe number of rows, columns: ')\n",
    "df_test_groups.shape"
   ]
  },
  {
   "cell_type": "markdown",
   "metadata": {},
   "source": [
    "*Count unique values in the columns:*"
   ]
  },
  {
   "cell_type": "code",
   "execution_count": 13,
   "metadata": {},
   "outputs": [
    {
     "data": {
      "text/plain": [
       "user_id    16666\n",
       "group          2\n",
       "ab_test        2\n",
       "dtype: int64"
      ]
     },
     "execution_count": 13,
     "metadata": {},
     "output_type": "execute_result"
    },
    {
     "data": {
      "text/html": [
       "<div>\n",
       "<style scoped>\n",
       "    .dataframe tbody tr th:only-of-type {\n",
       "        vertical-align: middle;\n",
       "    }\n",
       "\n",
       "    .dataframe tbody tr th {\n",
       "        vertical-align: top;\n",
       "    }\n",
       "\n",
       "    .dataframe thead th {\n",
       "        text-align: right;\n",
       "    }\n",
       "</style>\n",
       "<table border=\"1\" class=\"dataframe\">\n",
       "  <thead>\n",
       "    <tr style=\"text-align: right;\">\n",
       "      <th></th>\n",
       "      <th>group</th>\n",
       "      <th>ab_test</th>\n",
       "    </tr>\n",
       "  </thead>\n",
       "  <tbody>\n",
       "    <tr>\n",
       "      <th>0</th>\n",
       "      <td>A</td>\n",
       "      <td>recommender_system_test</td>\n",
       "    </tr>\n",
       "    <tr>\n",
       "      <th>1</th>\n",
       "      <td>B</td>\n",
       "      <td>interface_eu_test</td>\n",
       "    </tr>\n",
       "  </tbody>\n",
       "</table>\n",
       "</div>"
      ],
      "text/plain": [
       "  group                  ab_test\n",
       "0     A  recommender_system_test\n",
       "1     B        interface_eu_test"
      ]
     },
     "execution_count": 13,
     "metadata": {},
     "output_type": "execute_result"
    }
   ],
   "source": [
    "df_test_groups.apply(lambda x: len(x.unique()))\n",
    "\n",
    "df_test_groups[['group', 'ab_test']].apply(lambda x: x.unique())"
   ]
  },
  {
   "cell_type": "code",
   "execution_count": 14,
   "metadata": {},
   "outputs": [
    {
     "data": {
      "text/plain": [
       "0"
      ]
     },
     "execution_count": 14,
     "metadata": {},
     "output_type": "execute_result"
    }
   ],
   "source": [
    "df_test_groups.duplicated().sum()"
   ]
  },
  {
   "cell_type": "markdown",
   "metadata": {},
   "source": [
    "> Preliminary overview:\n",
    "* The `test_groups` dataset contains 18,268 records\n",
    "* All users are divided into 2 test groups and 2 types of A / B tests.\n",
    "* There are no duplicates and Nan values.\n",
    "* However, there are noticeably fewer unique test participants (16,666) than entries. This means that we have users in the dataset who passed both tests, `recommender_system_test` and in `interface_eu_test`. \n",
    "\n",
    "*I think we need to delete users who participate in two tests because we don't know which version of the interface the participants in the second test saw.*"
   ]
  },
  {
   "cell_type": "code",
   "execution_count": 15,
   "metadata": {},
   "outputs": [
    {
     "data": {
      "text/html": [
       "<div>\n",
       "<style scoped>\n",
       "    .dataframe tbody tr th:only-of-type {\n",
       "        vertical-align: middle;\n",
       "    }\n",
       "\n",
       "    .dataframe tbody tr th {\n",
       "        vertical-align: top;\n",
       "    }\n",
       "\n",
       "    .dataframe thead th {\n",
       "        text-align: right;\n",
       "    }\n",
       "</style>\n",
       "<table border=\"1\" class=\"dataframe\">\n",
       "  <thead>\n",
       "    <tr style=\"text-align: right;\">\n",
       "      <th></th>\n",
       "      <th>user_id</th>\n",
       "      <th>ab_test</th>\n",
       "    </tr>\n",
       "  </thead>\n",
       "  <tbody>\n",
       "    <tr>\n",
       "      <th>2</th>\n",
       "      <td>001064FEAAB631A1</td>\n",
       "      <td>2</td>\n",
       "    </tr>\n",
       "    <tr>\n",
       "      <th>10</th>\n",
       "      <td>00341D8401F0F665</td>\n",
       "      <td>2</td>\n",
       "    </tr>\n",
       "    <tr>\n",
       "      <th>12</th>\n",
       "      <td>003B6786B4FF5B03</td>\n",
       "      <td>2</td>\n",
       "    </tr>\n",
       "    <tr>\n",
       "      <th>29</th>\n",
       "      <td>0082295A41A867B5</td>\n",
       "      <td>2</td>\n",
       "    </tr>\n",
       "    <tr>\n",
       "      <th>46</th>\n",
       "      <td>00E68F103C66C1F7</td>\n",
       "      <td>2</td>\n",
       "    </tr>\n",
       "  </tbody>\n",
       "</table>\n",
       "</div>"
      ],
      "text/plain": [
       "             user_id  ab_test\n",
       "2   001064FEAAB631A1        2\n",
       "10  00341D8401F0F665        2\n",
       "12  003B6786B4FF5B03        2\n",
       "29  0082295A41A867B5        2\n",
       "46  00E68F103C66C1F7        2"
      ]
     },
     "execution_count": 15,
     "metadata": {},
     "output_type": "execute_result"
    },
    {
     "data": {
      "text/plain": [
       "1602"
      ]
     },
     "execution_count": 15,
     "metadata": {},
     "output_type": "execute_result"
    },
    {
     "data": {
      "text/html": [
       "<div>\n",
       "<style scoped>\n",
       "    .dataframe tbody tr th:only-of-type {\n",
       "        vertical-align: middle;\n",
       "    }\n",
       "\n",
       "    .dataframe tbody tr th {\n",
       "        vertical-align: top;\n",
       "    }\n",
       "\n",
       "    .dataframe thead th {\n",
       "        text-align: right;\n",
       "    }\n",
       "</style>\n",
       "<table border=\"1\" class=\"dataframe\">\n",
       "  <thead>\n",
       "    <tr style=\"text-align: right;\">\n",
       "      <th></th>\n",
       "      <th>user_id</th>\n",
       "      <th>group</th>\n",
       "      <th>ab_test</th>\n",
       "    </tr>\n",
       "  </thead>\n",
       "  <tbody>\n",
       "    <tr>\n",
       "      <th>4768</th>\n",
       "      <td>0082295A41A867B5</td>\n",
       "      <td>A</td>\n",
       "      <td>recommender_system_test</td>\n",
       "    </tr>\n",
       "    <tr>\n",
       "      <th>14161</th>\n",
       "      <td>0082295A41A867B5</td>\n",
       "      <td>B</td>\n",
       "      <td>interface_eu_test</td>\n",
       "    </tr>\n",
       "  </tbody>\n",
       "</table>\n",
       "</div>"
      ],
      "text/plain": [
       "                user_id group                  ab_test\n",
       "4768   0082295A41A867B5     A  recommender_system_test\n",
       "14161  0082295A41A867B5     B        interface_eu_test"
      ]
     },
     "execution_count": 15,
     "metadata": {},
     "output_type": "execute_result"
    }
   ],
   "source": [
    "participants_of_2_tests = df_test_groups.groupby(['user_id'])['ab_test'].nunique().reset_index().query('ab_test == 2')\n",
    "participants_of_2_tests.head()\n",
    "participants_of_2_tests.shape[0]\n",
    "\n",
    "df_test_groups.query('user_id == \"0082295A41A867B5\"')"
   ]
  },
  {
   "cell_type": "markdown",
   "metadata": {},
   "source": [
    "*As we can see, the dataset contains 1602 records of users who participate in both tests. Let's remove them.*"
   ]
  },
  {
   "cell_type": "code",
   "execution_count": 16,
   "metadata": {},
   "outputs": [
    {
     "data": {
      "text/plain": [
       "18268"
      ]
     },
     "execution_count": 16,
     "metadata": {},
     "output_type": "execute_result"
    },
    {
     "data": {
      "text/html": [
       "<div>\n",
       "<style scoped>\n",
       "    .dataframe tbody tr th:only-of-type {\n",
       "        vertical-align: middle;\n",
       "    }\n",
       "\n",
       "    .dataframe tbody tr th {\n",
       "        vertical-align: top;\n",
       "    }\n",
       "\n",
       "    .dataframe thead th {\n",
       "        text-align: right;\n",
       "    }\n",
       "</style>\n",
       "<table border=\"1\" class=\"dataframe\">\n",
       "  <thead>\n",
       "    <tr style=\"text-align: right;\">\n",
       "      <th></th>\n",
       "      <th>user_id</th>\n",
       "      <th>group</th>\n",
       "      <th>ab_test</th>\n",
       "    </tr>\n",
       "  </thead>\n",
       "  <tbody>\n",
       "  </tbody>\n",
       "</table>\n",
       "</div>"
      ],
      "text/plain": [
       "Empty DataFrame\n",
       "Columns: [user_id, group, ab_test]\n",
       "Index: []"
      ]
     },
     "execution_count": 16,
     "metadata": {},
     "output_type": "execute_result"
    },
    {
     "data": {
      "text/plain": [
       "15064"
      ]
     },
     "execution_count": 16,
     "metadata": {},
     "output_type": "execute_result"
    }
   ],
   "source": [
    "df_test_groups.shape[0]\n",
    "\n",
    "#Create a list of user ids to remove\n",
    "lst_users_to_remove = participants_of_2_tests.user_id.to_list()\n",
    "\n",
    "#Removing users who are in both A and B test groups\n",
    "df_test_groups = df_test_groups[~df_test_groups.user_id.isin(lst_users_to_remove)]\n",
    "\n",
    "#Verifying the result:\n",
    "df_test_groups.query('user_id == \"lst_users_to_remove[0]\"')\n",
    "df_test_groups.shape[0]"
   ]
  },
  {
   "cell_type": "markdown",
   "metadata": {},
   "source": [
    "*The `test_groups` dataset has 2 types of A/B test:*\n",
    "- recommender_system_test,\n",
    "- interface_eu_test.\n",
    "\n",
    "*For the purposes of our current project, we have to use data related to `interface_eu_test` test.* \n",
    "\n",
    "*So let's split the dataset to get the necessary data and study it.*"
   ]
  },
  {
   "cell_type": "code",
   "execution_count": 80,
   "metadata": {},
   "outputs": [
    {
     "name": "stdout",
     "output_type": "stream",
     "text": [
      "\n",
      "Summary statistics: \n"
     ]
    },
    {
     "data": {
      "text/html": [
       "<div>\n",
       "<style scoped>\n",
       "    .dataframe tbody tr th:only-of-type {\n",
       "        vertical-align: middle;\n",
       "    }\n",
       "\n",
       "    .dataframe tbody tr th {\n",
       "        vertical-align: top;\n",
       "    }\n",
       "\n",
       "    .dataframe thead th {\n",
       "        text-align: right;\n",
       "    }\n",
       "</style>\n",
       "<table border=\"1\" class=\"dataframe\">\n",
       "  <thead>\n",
       "    <tr style=\"text-align: right;\">\n",
       "      <th></th>\n",
       "      <th>dtype</th>\n",
       "      <th>count</th>\n",
       "      <th>min</th>\n",
       "      <th>mean</th>\n",
       "      <th>median</th>\n",
       "      <th>max</th>\n",
       "      <th>std</th>\n",
       "      <th>skew</th>\n",
       "      <th>null_sum</th>\n",
       "      <th>null_%</th>\n",
       "    </tr>\n",
       "  </thead>\n",
       "  <tbody>\n",
       "    <tr>\n",
       "      <th>ab_test</th>\n",
       "      <td>category</td>\n",
       "      <td>11567</td>\n",
       "      <td>NaN</td>\n",
       "      <td>NaN</td>\n",
       "      <td>NaN</td>\n",
       "      <td>NaN</td>\n",
       "      <td>NaN</td>\n",
       "      <td>NaN</td>\n",
       "      <td>0</td>\n",
       "      <td>0.0</td>\n",
       "    </tr>\n",
       "    <tr>\n",
       "      <th>group</th>\n",
       "      <td>category</td>\n",
       "      <td>11567</td>\n",
       "      <td>NaN</td>\n",
       "      <td>NaN</td>\n",
       "      <td>NaN</td>\n",
       "      <td>NaN</td>\n",
       "      <td>NaN</td>\n",
       "      <td>NaN</td>\n",
       "      <td>0</td>\n",
       "      <td>0.0</td>\n",
       "    </tr>\n",
       "    <tr>\n",
       "      <th>user_id</th>\n",
       "      <td>object</td>\n",
       "      <td>11567</td>\n",
       "      <td>0002CE61FF2C4011</td>\n",
       "      <td>NaN</td>\n",
       "      <td>NaN</td>\n",
       "      <td>FFF58BC33966EB51</td>\n",
       "      <td>NaN</td>\n",
       "      <td>NaN</td>\n",
       "      <td>0</td>\n",
       "      <td>0.0</td>\n",
       "    </tr>\n",
       "  </tbody>\n",
       "</table>\n",
       "</div>"
      ],
      "text/plain": [
       "            dtype  count               min  mean  median               max  \\\n",
       "ab_test  category  11567               NaN   NaN     NaN               NaN   \n",
       "group    category  11567               NaN   NaN     NaN               NaN   \n",
       "user_id    object  11567  0002CE61FF2C4011   NaN     NaN  FFF58BC33966EB51   \n",
       "\n",
       "         std  skew  null_sum  null_%  \n",
       "ab_test  NaN   NaN         0     0.0  \n",
       "group    NaN   NaN         0     0.0  \n",
       "user_id  NaN   NaN         0     0.0  "
      ]
     },
     "execution_count": 80,
     "metadata": {},
     "output_type": "execute_result"
    },
    {
     "name": "stdout",
     "output_type": "stream",
     "text": [
      "\n",
      "Dataset  head: \n"
     ]
    },
    {
     "data": {
      "text/html": [
       "<div>\n",
       "<style scoped>\n",
       "    .dataframe tbody tr th:only-of-type {\n",
       "        vertical-align: middle;\n",
       "    }\n",
       "\n",
       "    .dataframe tbody tr th {\n",
       "        vertical-align: top;\n",
       "    }\n",
       "\n",
       "    .dataframe thead th {\n",
       "        text-align: right;\n",
       "    }\n",
       "</style>\n",
       "<table border=\"1\" class=\"dataframe\">\n",
       "  <thead>\n",
       "    <tr style=\"text-align: right;\">\n",
       "      <th></th>\n",
       "      <th>user_id</th>\n",
       "      <th>group</th>\n",
       "      <th>ab_test</th>\n",
       "    </tr>\n",
       "  </thead>\n",
       "  <tbody>\n",
       "    <tr>\n",
       "      <th>6701</th>\n",
       "      <td>D4E530F6595A05A3</td>\n",
       "      <td>A</td>\n",
       "      <td>interface_eu_test</td>\n",
       "    </tr>\n",
       "    <tr>\n",
       "      <th>6702</th>\n",
       "      <td>773ECB64E45DEBAB</td>\n",
       "      <td>A</td>\n",
       "      <td>interface_eu_test</td>\n",
       "    </tr>\n",
       "    <tr>\n",
       "      <th>6703</th>\n",
       "      <td>6BCB0F33D3BAB8C2</td>\n",
       "      <td>A</td>\n",
       "      <td>interface_eu_test</td>\n",
       "    </tr>\n",
       "    <tr>\n",
       "      <th>6704</th>\n",
       "      <td>AABA4219186465C9</td>\n",
       "      <td>A</td>\n",
       "      <td>interface_eu_test</td>\n",
       "    </tr>\n",
       "    <tr>\n",
       "      <th>6705</th>\n",
       "      <td>2BA8FA8754D1FE50</td>\n",
       "      <td>B</td>\n",
       "      <td>interface_eu_test</td>\n",
       "    </tr>\n",
       "  </tbody>\n",
       "</table>\n",
       "</div>"
      ],
      "text/plain": [
       "               user_id group            ab_test\n",
       "6701  D4E530F6595A05A3     A  interface_eu_test\n",
       "6702  773ECB64E45DEBAB     A  interface_eu_test\n",
       "6703  6BCB0F33D3BAB8C2     A  interface_eu_test\n",
       "6704  AABA4219186465C9     A  interface_eu_test\n",
       "6705  2BA8FA8754D1FE50     B  interface_eu_test"
      ]
     },
     "execution_count": 80,
     "metadata": {},
     "output_type": "execute_result"
    },
    {
     "name": "stdout",
     "output_type": "stream",
     "text": [
      "\n",
      "The number of rows, columns: \n"
     ]
    },
    {
     "data": {
      "text/plain": [
       "(11567, 3)"
      ]
     },
     "execution_count": 80,
     "metadata": {},
     "output_type": "execute_result"
    },
    {
     "data": {
      "text/plain": [
       "group\n",
       "A    5831\n",
       "B    5736\n",
       "Name: user_id, dtype: int64"
      ]
     },
     "execution_count": 80,
     "metadata": {},
     "output_type": "execute_result"
    }
   ],
   "source": [
    "df_eu_test = df_test_groups.query('ab_test == \"interface_eu_test\"')\n",
    "eda_df(df_eu_test)\n",
    "\n",
    "print('\\nDataset  head: ')\n",
    "df_eu_test.head()\n",
    "print('\\nThe number of rows, columns: ')\n",
    "df_eu_test.shape\n",
    "\n",
    "df_eu_test.groupby('group')['user_id'].nunique()"
   ]
  },
  {
   "cell_type": "markdown",
   "metadata": {},
   "source": [
    "*Now let's check if the dataset has users who are in both test groups A and B.*"
   ]
  },
  {
   "cell_type": "code",
   "execution_count": 18,
   "metadata": {},
   "outputs": [
    {
     "data": {
      "text/html": [
       "<div>\n",
       "<style scoped>\n",
       "    .dataframe tbody tr th:only-of-type {\n",
       "        vertical-align: middle;\n",
       "    }\n",
       "\n",
       "    .dataframe tbody tr th {\n",
       "        vertical-align: top;\n",
       "    }\n",
       "\n",
       "    .dataframe thead th {\n",
       "        text-align: right;\n",
       "    }\n",
       "</style>\n",
       "<table border=\"1\" class=\"dataframe\">\n",
       "  <thead>\n",
       "    <tr style=\"text-align: right;\">\n",
       "      <th></th>\n",
       "      <th>user_id</th>\n",
       "      <th>group</th>\n",
       "    </tr>\n",
       "  </thead>\n",
       "  <tbody>\n",
       "  </tbody>\n",
       "</table>\n",
       "</div>"
      ],
      "text/plain": [
       "Empty DataFrame\n",
       "Columns: [user_id, group]\n",
       "Index: []"
      ]
     },
     "execution_count": 18,
     "metadata": {},
     "output_type": "execute_result"
    },
    {
     "data": {
      "text/plain": [
       "0"
      ]
     },
     "execution_count": 18,
     "metadata": {},
     "output_type": "execute_result"
    }
   ],
   "source": [
    "participants_of_2_group = df_eu_test.groupby(['user_id'])['group'].nunique().reset_index().query('group == 2')\n",
    "participants_of_2_group.head()\n",
    "participants_of_2_group.shape[0]"
   ]
  },
  {
   "cell_type": "code",
   "execution_count": 102,
   "metadata": {},
   "outputs": [
    {
     "data": {
      "text/html": [
       "<div>\n",
       "<style scoped>\n",
       "    .dataframe tbody tr th:only-of-type {\n",
       "        vertical-align: middle;\n",
       "    }\n",
       "\n",
       "    .dataframe tbody tr th {\n",
       "        vertical-align: top;\n",
       "    }\n",
       "\n",
       "    .dataframe thead th {\n",
       "        text-align: right;\n",
       "    }\n",
       "</style>\n",
       "<table border=\"1\" class=\"dataframe\">\n",
       "  <thead>\n",
       "    <tr style=\"text-align: right;\">\n",
       "      <th></th>\n",
       "      <th>group</th>\n",
       "      <th>n_users</th>\n",
       "    </tr>\n",
       "  </thead>\n",
       "  <tbody>\n",
       "    <tr>\n",
       "      <th>0</th>\n",
       "      <td>A</td>\n",
       "      <td>5831</td>\n",
       "    </tr>\n",
       "    <tr>\n",
       "      <th>1</th>\n",
       "      <td>B</td>\n",
       "      <td>5736</td>\n",
       "    </tr>\n",
       "  </tbody>\n",
       "</table>\n",
       "</div>"
      ],
      "text/plain": [
       "  group  n_users\n",
       "0     A     5831\n",
       "1     B     5736"
      ]
     },
     "execution_count": 102,
     "metadata": {},
     "output_type": "execute_result"
    },
    {
     "data": {
      "application/vnd.plotly.v1+json": {
       "config": {
        "plotlyServerURL": "https://plot.ly"
       },
       "data": [
        {
         "domain": {
          "x": [
           0,
           1
          ],
          "y": [
           0,
           1
          ]
         },
         "hovertemplate": "group=%{label}<br>n_users=%{value}<extra></extra>",
         "labels": [
          "A",
          "B"
         ],
         "legendgroup": "",
         "name": "",
         "showlegend": true,
         "type": "pie",
         "values": [
          5831,
          5736
         ]
        }
       ],
       "layout": {
        "legend": {
         "tracegroupgap": 0
        },
        "template": {
         "data": {
          "scatter": [
           {
            "type": "scatter"
           }
          ]
         }
        },
        "title": {
         "text": "The ratio of users of 2 test groups"
        }
       }
      },
      "text/html": [
       "<div>                            <div id=\"9bd64241-44fd-4272-9a1e-0dc5305b7bdb\" class=\"plotly-graph-div\" style=\"height:525px; width:100%;\"></div>            <script type=\"text/javascript\">                require([\"plotly\"], function(Plotly) {                    window.PLOTLYENV=window.PLOTLYENV || {};                                    if (document.getElementById(\"9bd64241-44fd-4272-9a1e-0dc5305b7bdb\")) {                    Plotly.newPlot(                        \"9bd64241-44fd-4272-9a1e-0dc5305b7bdb\",                        [{\"domain\":{\"x\":[0.0,1.0],\"y\":[0.0,1.0]},\"hovertemplate\":\"group=%{label}<br>n_users=%{value}<extra></extra>\",\"labels\":[\"A\",\"B\"],\"legendgroup\":\"\",\"name\":\"\",\"showlegend\":true,\"values\":[5831,5736],\"type\":\"pie\"}],                        {\"template\":{\"data\":{\"scatter\":[{\"type\":\"scatter\"}]}},\"legend\":{\"tracegroupgap\":0},\"title\":{\"text\":\"The ratio of users of 2 test groups\"}},                        {\"responsive\": true}                    ).then(function(){\n",
       "                            \n",
       "var gd = document.getElementById('9bd64241-44fd-4272-9a1e-0dc5305b7bdb');\n",
       "var x = new MutationObserver(function (mutations, observer) {{\n",
       "        var display = window.getComputedStyle(gd).display;\n",
       "        if (!display || display === 'none') {{\n",
       "            console.log([gd, 'removed!']);\n",
       "            Plotly.purge(gd);\n",
       "            observer.disconnect();\n",
       "        }}\n",
       "}});\n",
       "\n",
       "// Listen for the removal of the full notebook cells\n",
       "var notebookContainer = gd.closest('#notebook-container');\n",
       "if (notebookContainer) {{\n",
       "    x.observe(notebookContainer, {childList: true});\n",
       "}}\n",
       "\n",
       "// Listen for the clearing of the current output cell\n",
       "var outputEl = gd.closest('.output');\n",
       "if (outputEl) {{\n",
       "    x.observe(outputEl, {childList: true});\n",
       "}}\n",
       "\n",
       "                        })                };                });            </script>        </div>"
      ]
     },
     "metadata": {},
     "output_type": "display_data"
    }
   ],
   "source": [
    "tmp_by_group = df_eu_test.groupby('group')['user_id'].agg([\n",
    "    ('n_users', 'count')\n",
    "]).sort_values(by='n_users', ascending=False).reset_index()\n",
    "\n",
    "tmp_by_group\n",
    "\n",
    "\n",
    "fig = px.pie(\n",
    "    tmp_by_group,\n",
    "    values='n_users',\n",
    "    names='group',\n",
    "    #              color='region',\n",
    "    title='The ratio of users of 2 test groups')\n",
    "\n",
    "fig.show()"
   ]
  },
  {
   "cell_type": "markdown",
   "metadata": {},
   "source": [
    "> Conclusion:\n",
    "* After preprocessing, we have a dataset named `df_eu_test`, which contains the users and groups of data we need,` interface_eu_test` A / B test.\n",
    "* The dataset `df_eu_test` has 9965 unique participants which are almost equally split:\n",
    "      * Group A: 5012 users,\n",
    "      * Group B: 4953 users\n",
    "* In our dataset we do not have users that got into both test types or into both test groups."
   ]
  },
  {
   "cell_type": "markdown",
   "metadata": {},
   "source": [
    "### The `new_users` dataset"
   ]
  },
  {
   "cell_type": "markdown",
   "metadata": {},
   "source": [
    "*Downloading:*"
   ]
  },
  {
   "cell_type": "code",
   "execution_count": 21,
   "metadata": {},
   "outputs": [],
   "source": [
    "df_new_users = pd.read_csv(os.path.join(source_dir, new_users),\n",
    "                           parse_dates=['first_date'],\n",
    "                           na_values=missing_values,\n",
    "                           dtype={\n",
    "                               'region': 'category',\n",
    "                               'device': 'category'\n",
    "                           })\n",
    "\n",
    "# saving the original data set for comparing changes to be made\n",
    "orig_df_new_users = df_new_users.copy()"
   ]
  },
  {
   "cell_type": "markdown",
   "metadata": {},
   "source": [
    "*Overview and descriptive statistic:*"
   ]
  },
  {
   "cell_type": "code",
   "execution_count": 82,
   "metadata": {},
   "outputs": [
    {
     "name": "stdout",
     "output_type": "stream",
     "text": [
      "\n",
      "Summary statistics: \n"
     ]
    },
    {
     "data": {
      "text/html": [
       "<div>\n",
       "<style scoped>\n",
       "    .dataframe tbody tr th:only-of-type {\n",
       "        vertical-align: middle;\n",
       "    }\n",
       "\n",
       "    .dataframe tbody tr th {\n",
       "        vertical-align: top;\n",
       "    }\n",
       "\n",
       "    .dataframe thead th {\n",
       "        text-align: right;\n",
       "    }\n",
       "</style>\n",
       "<table border=\"1\" class=\"dataframe\">\n",
       "  <thead>\n",
       "    <tr style=\"text-align: right;\">\n",
       "      <th></th>\n",
       "      <th>dtype</th>\n",
       "      <th>count</th>\n",
       "      <th>min</th>\n",
       "      <th>mean</th>\n",
       "      <th>median</th>\n",
       "      <th>max</th>\n",
       "      <th>std</th>\n",
       "      <th>skew</th>\n",
       "      <th>null_sum</th>\n",
       "      <th>null_%</th>\n",
       "    </tr>\n",
       "  </thead>\n",
       "  <tbody>\n",
       "    <tr>\n",
       "      <th>device</th>\n",
       "      <td>category</td>\n",
       "      <td>56470</td>\n",
       "      <td>NaN</td>\n",
       "      <td>NaN</td>\n",
       "      <td>NaN</td>\n",
       "      <td>NaN</td>\n",
       "      <td>NaT</td>\n",
       "      <td>NaN</td>\n",
       "      <td>0</td>\n",
       "      <td>0.0</td>\n",
       "    </tr>\n",
       "    <tr>\n",
       "      <th>first_date</th>\n",
       "      <td>datetime64[ns]</td>\n",
       "      <td>56470</td>\n",
       "      <td>2020-12-07 00:00:00</td>\n",
       "      <td>NaN</td>\n",
       "      <td>NaN</td>\n",
       "      <td>2020-12-21 00:00:00</td>\n",
       "      <td>4 days 13:29:59.906402901</td>\n",
       "      <td>NaN</td>\n",
       "      <td>0</td>\n",
       "      <td>0.0</td>\n",
       "    </tr>\n",
       "    <tr>\n",
       "      <th>region</th>\n",
       "      <td>category</td>\n",
       "      <td>56470</td>\n",
       "      <td>NaN</td>\n",
       "      <td>NaN</td>\n",
       "      <td>NaN</td>\n",
       "      <td>NaN</td>\n",
       "      <td>NaT</td>\n",
       "      <td>NaN</td>\n",
       "      <td>0</td>\n",
       "      <td>0.0</td>\n",
       "    </tr>\n",
       "    <tr>\n",
       "      <th>user_id</th>\n",
       "      <td>object</td>\n",
       "      <td>56470</td>\n",
       "      <td>0001710F4DDB1D1B</td>\n",
       "      <td>NaN</td>\n",
       "      <td>NaN</td>\n",
       "      <td>FFFAB034A09DCC28</td>\n",
       "      <td>NaT</td>\n",
       "      <td>NaN</td>\n",
       "      <td>0</td>\n",
       "      <td>0.0</td>\n",
       "    </tr>\n",
       "  </tbody>\n",
       "</table>\n",
       "</div>"
      ],
      "text/plain": [
       "                     dtype  count                  min  mean  median  \\\n",
       "device            category  56470                  NaN   NaN     NaN   \n",
       "first_date  datetime64[ns]  56470  2020-12-07 00:00:00   NaN     NaN   \n",
       "region            category  56470                  NaN   NaN     NaN   \n",
       "user_id             object  56470     0001710F4DDB1D1B   NaN     NaN   \n",
       "\n",
       "                            max                       std  skew  null_sum  \\\n",
       "device                      NaN                       NaT   NaN         0   \n",
       "first_date  2020-12-21 00:00:00 4 days 13:29:59.906402901   NaN         0   \n",
       "region                      NaN                       NaT   NaN         0   \n",
       "user_id        FFFAB034A09DCC28                       NaT   NaN         0   \n",
       "\n",
       "            null_%  \n",
       "device         0.0  \n",
       "first_date     0.0  \n",
       "region         0.0  \n",
       "user_id        0.0  "
      ]
     },
     "execution_count": 82,
     "metadata": {},
     "output_type": "execute_result"
    },
    {
     "name": "stdout",
     "output_type": "stream",
     "text": [
      "\n",
      "Dataset head: \n"
     ]
    },
    {
     "data": {
      "text/html": [
       "<div>\n",
       "<style scoped>\n",
       "    .dataframe tbody tr th:only-of-type {\n",
       "        vertical-align: middle;\n",
       "    }\n",
       "\n",
       "    .dataframe tbody tr th {\n",
       "        vertical-align: top;\n",
       "    }\n",
       "\n",
       "    .dataframe thead th {\n",
       "        text-align: right;\n",
       "    }\n",
       "</style>\n",
       "<table border=\"1\" class=\"dataframe\">\n",
       "  <thead>\n",
       "    <tr style=\"text-align: right;\">\n",
       "      <th></th>\n",
       "      <th>user_id</th>\n",
       "      <th>first_date</th>\n",
       "      <th>region</th>\n",
       "      <th>device</th>\n",
       "    </tr>\n",
       "  </thead>\n",
       "  <tbody>\n",
       "    <tr>\n",
       "      <th>0</th>\n",
       "      <td>D72A72121175D8BE</td>\n",
       "      <td>2020-12-07</td>\n",
       "      <td>EU</td>\n",
       "      <td>PC</td>\n",
       "    </tr>\n",
       "    <tr>\n",
       "      <th>1</th>\n",
       "      <td>F1C668619DFE6E65</td>\n",
       "      <td>2020-12-07</td>\n",
       "      <td>N.America</td>\n",
       "      <td>Android</td>\n",
       "    </tr>\n",
       "    <tr>\n",
       "      <th>2</th>\n",
       "      <td>2E1BF1D4C37EA01F</td>\n",
       "      <td>2020-12-07</td>\n",
       "      <td>EU</td>\n",
       "      <td>PC</td>\n",
       "    </tr>\n",
       "    <tr>\n",
       "      <th>3</th>\n",
       "      <td>50734A22C0C63768</td>\n",
       "      <td>2020-12-07</td>\n",
       "      <td>EU</td>\n",
       "      <td>iPhone</td>\n",
       "    </tr>\n",
       "    <tr>\n",
       "      <th>4</th>\n",
       "      <td>E1BDDCE0DAFA2679</td>\n",
       "      <td>2020-12-07</td>\n",
       "      <td>N.America</td>\n",
       "      <td>iPhone</td>\n",
       "    </tr>\n",
       "  </tbody>\n",
       "</table>\n",
       "</div>"
      ],
      "text/plain": [
       "            user_id first_date     region   device\n",
       "0  D72A72121175D8BE 2020-12-07         EU       PC\n",
       "1  F1C668619DFE6E65 2020-12-07  N.America  Android\n",
       "2  2E1BF1D4C37EA01F 2020-12-07         EU       PC\n",
       "3  50734A22C0C63768 2020-12-07         EU   iPhone\n",
       "4  E1BDDCE0DAFA2679 2020-12-07  N.America   iPhone"
      ]
     },
     "execution_count": 82,
     "metadata": {},
     "output_type": "execute_result"
    },
    {
     "name": "stdout",
     "output_type": "stream",
     "text": [
      "\n",
      "Dataset tail: \n"
     ]
    },
    {
     "data": {
      "text/html": [
       "<div>\n",
       "<style scoped>\n",
       "    .dataframe tbody tr th:only-of-type {\n",
       "        vertical-align: middle;\n",
       "    }\n",
       "\n",
       "    .dataframe tbody tr th {\n",
       "        vertical-align: top;\n",
       "    }\n",
       "\n",
       "    .dataframe thead th {\n",
       "        text-align: right;\n",
       "    }\n",
       "</style>\n",
       "<table border=\"1\" class=\"dataframe\">\n",
       "  <thead>\n",
       "    <tr style=\"text-align: right;\">\n",
       "      <th></th>\n",
       "      <th>user_id</th>\n",
       "      <th>first_date</th>\n",
       "      <th>region</th>\n",
       "      <th>device</th>\n",
       "    </tr>\n",
       "  </thead>\n",
       "  <tbody>\n",
       "    <tr>\n",
       "      <th>61728</th>\n",
       "      <td>1DB53B933257165D</td>\n",
       "      <td>2020-12-20</td>\n",
       "      <td>EU</td>\n",
       "      <td>Android</td>\n",
       "    </tr>\n",
       "    <tr>\n",
       "      <th>61729</th>\n",
       "      <td>538643EB4527ED03</td>\n",
       "      <td>2020-12-20</td>\n",
       "      <td>EU</td>\n",
       "      <td>Mac</td>\n",
       "    </tr>\n",
       "    <tr>\n",
       "      <th>61730</th>\n",
       "      <td>7ADEE837D5D8CBBD</td>\n",
       "      <td>2020-12-20</td>\n",
       "      <td>EU</td>\n",
       "      <td>PC</td>\n",
       "    </tr>\n",
       "    <tr>\n",
       "      <th>61731</th>\n",
       "      <td>1C7D23927835213F</td>\n",
       "      <td>2020-12-20</td>\n",
       "      <td>EU</td>\n",
       "      <td>iPhone</td>\n",
       "    </tr>\n",
       "    <tr>\n",
       "      <th>61732</th>\n",
       "      <td>8F04273BB2860229</td>\n",
       "      <td>2020-12-20</td>\n",
       "      <td>EU</td>\n",
       "      <td>Android</td>\n",
       "    </tr>\n",
       "  </tbody>\n",
       "</table>\n",
       "</div>"
      ],
      "text/plain": [
       "                user_id first_date region   device\n",
       "61728  1DB53B933257165D 2020-12-20     EU  Android\n",
       "61729  538643EB4527ED03 2020-12-20     EU      Mac\n",
       "61730  7ADEE837D5D8CBBD 2020-12-20     EU       PC\n",
       "61731  1C7D23927835213F 2020-12-20     EU   iPhone\n",
       "61732  8F04273BB2860229 2020-12-20     EU  Android"
      ]
     },
     "execution_count": 82,
     "metadata": {},
     "output_type": "execute_result"
    },
    {
     "name": "stdout",
     "output_type": "stream",
     "text": [
      "\n",
      "Dataset sample: \n"
     ]
    },
    {
     "data": {
      "text/html": [
       "<div>\n",
       "<style scoped>\n",
       "    .dataframe tbody tr th:only-of-type {\n",
       "        vertical-align: middle;\n",
       "    }\n",
       "\n",
       "    .dataframe tbody tr th {\n",
       "        vertical-align: top;\n",
       "    }\n",
       "\n",
       "    .dataframe thead th {\n",
       "        text-align: right;\n",
       "    }\n",
       "</style>\n",
       "<table border=\"1\" class=\"dataframe\">\n",
       "  <thead>\n",
       "    <tr style=\"text-align: right;\">\n",
       "      <th></th>\n",
       "      <th>user_id</th>\n",
       "      <th>first_date</th>\n",
       "      <th>region</th>\n",
       "      <th>device</th>\n",
       "    </tr>\n",
       "  </thead>\n",
       "  <tbody>\n",
       "    <tr>\n",
       "      <th>53549</th>\n",
       "      <td>86594DAEE610CCD7</td>\n",
       "      <td>2020-12-13</td>\n",
       "      <td>N.America</td>\n",
       "      <td>Android</td>\n",
       "    </tr>\n",
       "    <tr>\n",
       "      <th>41869</th>\n",
       "      <td>79A2E44E674E8D32</td>\n",
       "      <td>2020-12-18</td>\n",
       "      <td>EU</td>\n",
       "      <td>Android</td>\n",
       "    </tr>\n",
       "    <tr>\n",
       "      <th>33452</th>\n",
       "      <td>9D5E4F4E62C64DF6</td>\n",
       "      <td>2020-12-10</td>\n",
       "      <td>EU</td>\n",
       "      <td>Android</td>\n",
       "    </tr>\n",
       "    <tr>\n",
       "      <th>19366</th>\n",
       "      <td>87B2064E3C5AEDCF</td>\n",
       "      <td>2020-12-08</td>\n",
       "      <td>N.America</td>\n",
       "      <td>PC</td>\n",
       "    </tr>\n",
       "    <tr>\n",
       "      <th>49435</th>\n",
       "      <td>9D5D52533EEC646A</td>\n",
       "      <td>2020-12-19</td>\n",
       "      <td>N.America</td>\n",
       "      <td>PC</td>\n",
       "    </tr>\n",
       "  </tbody>\n",
       "</table>\n",
       "</div>"
      ],
      "text/plain": [
       "                user_id first_date     region   device\n",
       "53549  86594DAEE610CCD7 2020-12-13  N.America  Android\n",
       "41869  79A2E44E674E8D32 2020-12-18         EU  Android\n",
       "33452  9D5E4F4E62C64DF6 2020-12-10         EU  Android\n",
       "19366  87B2064E3C5AEDCF 2020-12-08  N.America       PC\n",
       "49435  9D5D52533EEC646A 2020-12-19  N.America       PC"
      ]
     },
     "execution_count": 82,
     "metadata": {},
     "output_type": "execute_result"
    },
    {
     "name": "stdout",
     "output_type": "stream",
     "text": [
      "\n",
      "The number of rows, columns: \n"
     ]
    },
    {
     "data": {
      "text/plain": [
       "(56470, 4)"
      ]
     },
     "execution_count": 82,
     "metadata": {},
     "output_type": "execute_result"
    }
   ],
   "source": [
    "eda_df(df_new_users)\n",
    "print('\\nDataset head: ')\n",
    "df_new_users.head()\n",
    "print('\\nDataset tail: ')\n",
    "df_new_users.tail()\n",
    "print('\\nDataset sample: ')\n",
    "df_new_users.sample(5)\n",
    "print('\\nThe number of rows, columns: ')\n",
    "df_new_users.shape"
   ]
  },
  {
   "cell_type": "markdown",
   "metadata": {},
   "source": [
    "*Count unique values in the columns:*"
   ]
  },
  {
   "cell_type": "code",
   "execution_count": 23,
   "metadata": {},
   "outputs": [
    {
     "data": {
      "text/plain": [
       "user_id       61733\n",
       "first_date       17\n",
       "region            4\n",
       "device            4\n",
       "dtype: int64"
      ]
     },
     "execution_count": 23,
     "metadata": {},
     "output_type": "execute_result"
    }
   ],
   "source": [
    "df_new_users.apply(lambda x: len(x.unique()))"
   ]
  },
  {
   "cell_type": "code",
   "execution_count": 24,
   "metadata": {},
   "outputs": [
    {
     "data": {
      "text/html": [
       "<div>\n",
       "<style scoped>\n",
       "    .dataframe tbody tr th:only-of-type {\n",
       "        vertical-align: middle;\n",
       "    }\n",
       "\n",
       "    .dataframe tbody tr th {\n",
       "        vertical-align: top;\n",
       "    }\n",
       "\n",
       "    .dataframe thead th {\n",
       "        text-align: right;\n",
       "    }\n",
       "</style>\n",
       "<table border=\"1\" class=\"dataframe\">\n",
       "  <thead>\n",
       "    <tr style=\"text-align: right;\">\n",
       "      <th></th>\n",
       "      <th>region</th>\n",
       "      <th>device</th>\n",
       "    </tr>\n",
       "  </thead>\n",
       "  <tbody>\n",
       "    <tr>\n",
       "      <th>0</th>\n",
       "      <td>EU</td>\n",
       "      <td>PC</td>\n",
       "    </tr>\n",
       "    <tr>\n",
       "      <th>1</th>\n",
       "      <td>N.America</td>\n",
       "      <td>Android</td>\n",
       "    </tr>\n",
       "    <tr>\n",
       "      <th>2</th>\n",
       "      <td>APAC</td>\n",
       "      <td>iPhone</td>\n",
       "    </tr>\n",
       "    <tr>\n",
       "      <th>3</th>\n",
       "      <td>CIS</td>\n",
       "      <td>Mac</td>\n",
       "    </tr>\n",
       "  </tbody>\n",
       "</table>\n",
       "</div>"
      ],
      "text/plain": [
       "      region   device\n",
       "0         EU       PC\n",
       "1  N.America  Android\n",
       "2       APAC   iPhone\n",
       "3        CIS      Mac"
      ]
     },
     "execution_count": 24,
     "metadata": {},
     "output_type": "execute_result"
    }
   ],
   "source": [
    "df_new_users[['region', 'device']].apply(lambda x: x.unique())"
   ]
  },
  {
   "cell_type": "markdown",
   "metadata": {},
   "source": [
    "*Checking duplicates:*"
   ]
  },
  {
   "cell_type": "code",
   "execution_count": 25,
   "metadata": {},
   "outputs": [
    {
     "data": {
      "text/plain": [
       "0"
      ]
     },
     "execution_count": 25,
     "metadata": {},
     "output_type": "execute_result"
    }
   ],
   "source": [
    "df_new_users.duplicated().sum()"
   ]
  },
  {
   "cell_type": "markdown",
   "metadata": {},
   "source": [
    "> Preliminary overview:\n",
    "* The `new_users` dataset contains 61733 unique entries.\n",
    "* New users signed up in the online store from December 7 to 23, 2020.\n",
    "* New users have come from 4 regions: EU, N.America, APAC, CIS.\n",
    "* They utilize 4 types of devices: PC, Android, iPhone, Mac. \n",
    "* There are no duplicates and Nan values."
   ]
  },
  {
   "cell_type": "markdown",
   "metadata": {},
   "source": [
    "*To test the new interface of the online store, we have 2 mandatory testing conditions:*\n",
    "* Testing lasted 14 days, from December 7 to December 21. So these days are included in the scope of the project;\n",
    "* We have to research new EU users.\n",
    "\n",
    "*First, let's look at the days of December 22nd and 23rd as outside the scope of our task and remove them.*"
   ]
  },
  {
   "cell_type": "code",
   "execution_count": 26,
   "metadata": {},
   "outputs": [
    {
     "data": {
      "text/plain": [
       "Timestamp('2020-12-21 00:00:00')"
      ]
     },
     "execution_count": 26,
     "metadata": {},
     "output_type": "execute_result"
    }
   ],
   "source": [
    "df_new_users = df_new_users.query('first_date < \"2020-12-22\"')\n",
    "\n",
    "# Verifying the result\n",
    "df_new_users.first_date.max()"
   ]
  },
  {
   "cell_type": "markdown",
   "metadata": {},
   "source": [
    "*Next, we have to extract data on new EU users from the dataset. Moreover, they must be our test participants.*"
   ]
  },
  {
   "cell_type": "code",
   "execution_count": 27,
   "metadata": {},
   "outputs": [],
   "source": [
    "# List of new EU users who participate in our test\n",
    "lst_eu_test_users = df_eu_test.user_id.to_list()\n",
    "\n",
    "# Creating df of users who participate in our test\n",
    "df_new_eu_users = df_new_users[(df_new_users['user_id'].isin(lst_eu_test_users)) & (df_new_users['region'] == \"EU\")]"
   ]
  },
  {
   "cell_type": "markdown",
   "metadata": {},
   "source": [
    "*Let's explore the `df_new_eu_users` dataset:*"
   ]
  },
  {
   "cell_type": "markdown",
   "metadata": {},
   "source": [
    "*Summary after clipping dataset:*"
   ]
  },
  {
   "cell_type": "code",
   "execution_count": 83,
   "metadata": {},
   "outputs": [
    {
     "name": "stdout",
     "output_type": "stream",
     "text": [
      "\n",
      "Summary statistics: \n"
     ]
    },
    {
     "data": {
      "text/html": [
       "<div>\n",
       "<style scoped>\n",
       "    .dataframe tbody tr th:only-of-type {\n",
       "        vertical-align: middle;\n",
       "    }\n",
       "\n",
       "    .dataframe tbody tr th {\n",
       "        vertical-align: top;\n",
       "    }\n",
       "\n",
       "    .dataframe thead th {\n",
       "        text-align: right;\n",
       "    }\n",
       "</style>\n",
       "<table border=\"1\" class=\"dataframe\">\n",
       "  <thead>\n",
       "    <tr style=\"text-align: right;\">\n",
       "      <th></th>\n",
       "      <th>dtype</th>\n",
       "      <th>count</th>\n",
       "      <th>min</th>\n",
       "      <th>mean</th>\n",
       "      <th>median</th>\n",
       "      <th>max</th>\n",
       "      <th>std</th>\n",
       "      <th>skew</th>\n",
       "      <th>null_sum</th>\n",
       "      <th>null_%</th>\n",
       "    </tr>\n",
       "  </thead>\n",
       "  <tbody>\n",
       "    <tr>\n",
       "      <th>device</th>\n",
       "      <td>category</td>\n",
       "      <td>8963</td>\n",
       "      <td>NaN</td>\n",
       "      <td>NaN</td>\n",
       "      <td>NaN</td>\n",
       "      <td>NaN</td>\n",
       "      <td>NaT</td>\n",
       "      <td>NaN</td>\n",
       "      <td>0</td>\n",
       "      <td>0.0</td>\n",
       "    </tr>\n",
       "    <tr>\n",
       "      <th>first_date</th>\n",
       "      <td>datetime64[ns]</td>\n",
       "      <td>8963</td>\n",
       "      <td>2020-12-07 00:00:00</td>\n",
       "      <td>NaN</td>\n",
       "      <td>NaN</td>\n",
       "      <td>2020-12-21 00:00:00</td>\n",
       "      <td>4 days 13:12:16.720766881</td>\n",
       "      <td>NaN</td>\n",
       "      <td>0</td>\n",
       "      <td>0.0</td>\n",
       "    </tr>\n",
       "    <tr>\n",
       "      <th>region</th>\n",
       "      <td>category</td>\n",
       "      <td>8963</td>\n",
       "      <td>NaN</td>\n",
       "      <td>NaN</td>\n",
       "      <td>NaN</td>\n",
       "      <td>NaN</td>\n",
       "      <td>NaT</td>\n",
       "      <td>NaN</td>\n",
       "      <td>0</td>\n",
       "      <td>0.0</td>\n",
       "    </tr>\n",
       "    <tr>\n",
       "      <th>user_id</th>\n",
       "      <td>object</td>\n",
       "      <td>8963</td>\n",
       "      <td>0002CE61FF2C4011</td>\n",
       "      <td>NaN</td>\n",
       "      <td>NaN</td>\n",
       "      <td>FFF58BC33966EB51</td>\n",
       "      <td>NaT</td>\n",
       "      <td>NaN</td>\n",
       "      <td>0</td>\n",
       "      <td>0.0</td>\n",
       "    </tr>\n",
       "  </tbody>\n",
       "</table>\n",
       "</div>"
      ],
      "text/plain": [
       "                     dtype  count                  min  mean  median  \\\n",
       "device            category   8963                  NaN   NaN     NaN   \n",
       "first_date  datetime64[ns]   8963  2020-12-07 00:00:00   NaN     NaN   \n",
       "region            category   8963                  NaN   NaN     NaN   \n",
       "user_id             object   8963     0002CE61FF2C4011   NaN     NaN   \n",
       "\n",
       "                            max                       std  skew  null_sum  \\\n",
       "device                      NaN                       NaT   NaN         0   \n",
       "first_date  2020-12-21 00:00:00 4 days 13:12:16.720766881   NaN         0   \n",
       "region                      NaN                       NaT   NaN         0   \n",
       "user_id        FFF58BC33966EB51                       NaT   NaN         0   \n",
       "\n",
       "            null_%  \n",
       "device         0.0  \n",
       "first_date     0.0  \n",
       "region         0.0  \n",
       "user_id        0.0  "
      ]
     },
     "execution_count": 83,
     "metadata": {},
     "output_type": "execute_result"
    },
    {
     "name": "stdout",
     "output_type": "stream",
     "text": [
      "\n",
      "Dataset head: \n"
     ]
    },
    {
     "data": {
      "text/html": [
       "<div>\n",
       "<style scoped>\n",
       "    .dataframe tbody tr th:only-of-type {\n",
       "        vertical-align: middle;\n",
       "    }\n",
       "\n",
       "    .dataframe tbody tr th {\n",
       "        vertical-align: top;\n",
       "    }\n",
       "\n",
       "    .dataframe thead th {\n",
       "        text-align: right;\n",
       "    }\n",
       "</style>\n",
       "<table border=\"1\" class=\"dataframe\">\n",
       "  <thead>\n",
       "    <tr style=\"text-align: right;\">\n",
       "      <th></th>\n",
       "      <th>user_id</th>\n",
       "      <th>first_date</th>\n",
       "      <th>region</th>\n",
       "      <th>device</th>\n",
       "    </tr>\n",
       "  </thead>\n",
       "  <tbody>\n",
       "    <tr>\n",
       "      <th>2</th>\n",
       "      <td>2E1BF1D4C37EA01F</td>\n",
       "      <td>2020-12-07</td>\n",
       "      <td>EU</td>\n",
       "      <td>PC</td>\n",
       "    </tr>\n",
       "    <tr>\n",
       "      <th>3</th>\n",
       "      <td>50734A22C0C63768</td>\n",
       "      <td>2020-12-07</td>\n",
       "      <td>EU</td>\n",
       "      <td>iPhone</td>\n",
       "    </tr>\n",
       "    <tr>\n",
       "      <th>14</th>\n",
       "      <td>5BE017E9C8CC42F8</td>\n",
       "      <td>2020-12-07</td>\n",
       "      <td>EU</td>\n",
       "      <td>Android</td>\n",
       "    </tr>\n",
       "    <tr>\n",
       "      <th>18</th>\n",
       "      <td>96F27A054B191457</td>\n",
       "      <td>2020-12-07</td>\n",
       "      <td>EU</td>\n",
       "      <td>iPhone</td>\n",
       "    </tr>\n",
       "    <tr>\n",
       "      <th>21</th>\n",
       "      <td>E6AF85675078215D</td>\n",
       "      <td>2020-12-07</td>\n",
       "      <td>EU</td>\n",
       "      <td>Android</td>\n",
       "    </tr>\n",
       "  </tbody>\n",
       "</table>\n",
       "</div>"
      ],
      "text/plain": [
       "             user_id first_date region   device\n",
       "2   2E1BF1D4C37EA01F 2020-12-07     EU       PC\n",
       "3   50734A22C0C63768 2020-12-07     EU   iPhone\n",
       "14  5BE017E9C8CC42F8 2020-12-07     EU  Android\n",
       "18  96F27A054B191457 2020-12-07     EU   iPhone\n",
       "21  E6AF85675078215D 2020-12-07     EU  Android"
      ]
     },
     "execution_count": 83,
     "metadata": {},
     "output_type": "execute_result"
    },
    {
     "name": "stdout",
     "output_type": "stream",
     "text": [
      "\n",
      "Dataset sample: \n"
     ]
    },
    {
     "data": {
      "text/html": [
       "<div>\n",
       "<style scoped>\n",
       "    .dataframe tbody tr th:only-of-type {\n",
       "        vertical-align: middle;\n",
       "    }\n",
       "\n",
       "    .dataframe tbody tr th {\n",
       "        vertical-align: top;\n",
       "    }\n",
       "\n",
       "    .dataframe thead th {\n",
       "        text-align: right;\n",
       "    }\n",
       "</style>\n",
       "<table border=\"1\" class=\"dataframe\">\n",
       "  <thead>\n",
       "    <tr style=\"text-align: right;\">\n",
       "      <th></th>\n",
       "      <th>user_id</th>\n",
       "      <th>first_date</th>\n",
       "      <th>region</th>\n",
       "      <th>device</th>\n",
       "    </tr>\n",
       "  </thead>\n",
       "  <tbody>\n",
       "    <tr>\n",
       "      <th>15087</th>\n",
       "      <td>85B1DA79547B5487</td>\n",
       "      <td>2020-12-21</td>\n",
       "      <td>EU</td>\n",
       "      <td>Android</td>\n",
       "    </tr>\n",
       "    <tr>\n",
       "      <th>15091</th>\n",
       "      <td>EB2A08F85E427CD1</td>\n",
       "      <td>2020-12-21</td>\n",
       "      <td>EU</td>\n",
       "      <td>Mac</td>\n",
       "    </tr>\n",
       "    <tr>\n",
       "      <th>41438</th>\n",
       "      <td>365D376123BB0165</td>\n",
       "      <td>2020-12-11</td>\n",
       "      <td>EU</td>\n",
       "      <td>Android</td>\n",
       "    </tr>\n",
       "    <tr>\n",
       "      <th>30903</th>\n",
       "      <td>60251C9A9EA5BF27</td>\n",
       "      <td>2020-12-16</td>\n",
       "      <td>EU</td>\n",
       "      <td>Android</td>\n",
       "    </tr>\n",
       "    <tr>\n",
       "      <th>46167</th>\n",
       "      <td>B91EFD0465326EFD</td>\n",
       "      <td>2020-12-12</td>\n",
       "      <td>EU</td>\n",
       "      <td>Android</td>\n",
       "    </tr>\n",
       "  </tbody>\n",
       "</table>\n",
       "</div>"
      ],
      "text/plain": [
       "                user_id first_date region   device\n",
       "15087  85B1DA79547B5487 2020-12-21     EU  Android\n",
       "15091  EB2A08F85E427CD1 2020-12-21     EU      Mac\n",
       "41438  365D376123BB0165 2020-12-11     EU  Android\n",
       "30903  60251C9A9EA5BF27 2020-12-16     EU  Android\n",
       "46167  B91EFD0465326EFD 2020-12-12     EU  Android"
      ]
     },
     "execution_count": 83,
     "metadata": {},
     "output_type": "execute_result"
    },
    {
     "name": "stdout",
     "output_type": "stream",
     "text": [
      "\n",
      "The number of rows, columns: \n"
     ]
    },
    {
     "data": {
      "text/plain": [
       "(8963, 4)"
      ]
     },
     "execution_count": 83,
     "metadata": {},
     "output_type": "execute_result"
    }
   ],
   "source": [
    "eda_df(df_new_eu_users)\n",
    "print('\\nDataset head: ')\n",
    "df_new_eu_users.head()\n",
    "print('\\nDataset sample: ')\n",
    "df_new_eu_users.sample(5)\n",
    "print('\\nThe number of rows, columns: ')\n",
    "df_new_eu_users.shape "
   ]
  },
  {
   "cell_type": "code",
   "execution_count": 29,
   "metadata": {},
   "outputs": [
    {
     "data": {
      "text/plain": [
       "(9965, 3)"
      ]
     },
     "execution_count": 29,
     "metadata": {},
     "output_type": "execute_result"
    }
   ],
   "source": [
    "df_eu_test.shape"
   ]
  },
  {
   "cell_type": "markdown",
   "metadata": {},
   "source": [
    "*The dataset of new EU users who signed up in the online store from December 7 to 21, 2020 contains fewer unique users than the dataset containing test participants:*\n",
    "* dataset `df_new_eu_users`: 8963 users\n",
    "* dataset ` df_eu_test`: 9965 users\n",
    "\n",
    "*I can assume that some users took part in A / B testing without prior registration in the online store, for example, using the 'Buy Now' button, etc. We can check this version later.*\n",
    "\n",
    "*So let's continue with our new EU users.*"
   ]
  },
  {
   "cell_type": "code",
   "execution_count": 31,
   "metadata": {},
   "outputs": [
    {
     "data": {
      "text/html": [
       "<div>\n",
       "<style scoped>\n",
       "    .dataframe tbody tr th:only-of-type {\n",
       "        vertical-align: middle;\n",
       "    }\n",
       "\n",
       "    .dataframe tbody tr th {\n",
       "        vertical-align: top;\n",
       "    }\n",
       "\n",
       "    .dataframe thead th {\n",
       "        text-align: right;\n",
       "    }\n",
       "</style>\n",
       "<table border=\"1\" class=\"dataframe\">\n",
       "  <thead>\n",
       "    <tr style=\"text-align: right;\">\n",
       "      <th></th>\n",
       "      <th>first_date</th>\n",
       "      <th>n_users</th>\n",
       "    </tr>\n",
       "  </thead>\n",
       "  <tbody>\n",
       "    <tr>\n",
       "      <th>0</th>\n",
       "      <td>2020-12-07</td>\n",
       "      <td>868</td>\n",
       "    </tr>\n",
       "    <tr>\n",
       "      <th>1</th>\n",
       "      <td>2020-12-08</td>\n",
       "      <td>515</td>\n",
       "    </tr>\n",
       "    <tr>\n",
       "      <th>2</th>\n",
       "      <td>2020-12-09</td>\n",
       "      <td>350</td>\n",
       "    </tr>\n",
       "    <tr>\n",
       "      <th>3</th>\n",
       "      <td>2020-12-10</td>\n",
       "      <td>464</td>\n",
       "    </tr>\n",
       "    <tr>\n",
       "      <th>4</th>\n",
       "      <td>2020-12-11</td>\n",
       "      <td>389</td>\n",
       "    </tr>\n",
       "    <tr>\n",
       "      <th>5</th>\n",
       "      <td>2020-12-12</td>\n",
       "      <td>694</td>\n",
       "    </tr>\n",
       "    <tr>\n",
       "      <th>6</th>\n",
       "      <td>2020-12-13</td>\n",
       "      <td>738</td>\n",
       "    </tr>\n",
       "    <tr>\n",
       "      <th>7</th>\n",
       "      <td>2020-12-14</td>\n",
       "      <td>886</td>\n",
       "    </tr>\n",
       "    <tr>\n",
       "      <th>8</th>\n",
       "      <td>2020-12-15</td>\n",
       "      <td>486</td>\n",
       "    </tr>\n",
       "    <tr>\n",
       "      <th>9</th>\n",
       "      <td>2020-12-16</td>\n",
       "      <td>324</td>\n",
       "    </tr>\n",
       "    <tr>\n",
       "      <th>10</th>\n",
       "      <td>2020-12-17</td>\n",
       "      <td>491</td>\n",
       "    </tr>\n",
       "    <tr>\n",
       "      <th>11</th>\n",
       "      <td>2020-12-18</td>\n",
       "      <td>530</td>\n",
       "    </tr>\n",
       "    <tr>\n",
       "      <th>12</th>\n",
       "      <td>2020-12-19</td>\n",
       "      <td>538</td>\n",
       "    </tr>\n",
       "    <tr>\n",
       "      <th>13</th>\n",
       "      <td>2020-12-20</td>\n",
       "      <td>689</td>\n",
       "    </tr>\n",
       "    <tr>\n",
       "      <th>14</th>\n",
       "      <td>2020-12-21</td>\n",
       "      <td>1001</td>\n",
       "    </tr>\n",
       "  </tbody>\n",
       "</table>\n",
       "</div>"
      ],
      "text/plain": [
       "   first_date  n_users\n",
       "0  2020-12-07      868\n",
       "1  2020-12-08      515\n",
       "2  2020-12-09      350\n",
       "3  2020-12-10      464\n",
       "4  2020-12-11      389\n",
       "5  2020-12-12      694\n",
       "6  2020-12-13      738\n",
       "7  2020-12-14      886\n",
       "8  2020-12-15      486\n",
       "9  2020-12-16      324\n",
       "10 2020-12-17      491\n",
       "11 2020-12-18      530\n",
       "12 2020-12-19      538\n",
       "13 2020-12-20      689\n",
       "14 2020-12-21     1001"
      ]
     },
     "execution_count": 31,
     "metadata": {},
     "output_type": "execute_result"
    },
    {
     "data": {
      "application/vnd.plotly.v1+json": {
       "config": {
        "plotlyServerURL": "https://plot.ly"
       },
       "data": [
        {
         "hovertemplate": "Session Date=%{x}<br>Number of Users=%{y}<extra></extra>",
         "legendgroup": "",
         "line": {
          "color": "#1F77B4",
          "dash": "solid"
         },
         "marker": {
          "symbol": "circle"
         },
         "mode": "lines",
         "name": "",
         "orientation": "v",
         "showlegend": false,
         "type": "scatter",
         "x": [
          "2020-12-07T00:00:00",
          "2020-12-08T00:00:00",
          "2020-12-09T00:00:00",
          "2020-12-10T00:00:00",
          "2020-12-11T00:00:00",
          "2020-12-12T00:00:00",
          "2020-12-13T00:00:00",
          "2020-12-14T00:00:00",
          "2020-12-15T00:00:00",
          "2020-12-16T00:00:00",
          "2020-12-17T00:00:00",
          "2020-12-18T00:00:00",
          "2020-12-19T00:00:00",
          "2020-12-20T00:00:00",
          "2020-12-21T00:00:00"
         ],
         "xaxis": "x",
         "y": [
          868,
          515,
          350,
          464,
          389,
          694,
          738,
          886,
          486,
          324,
          491,
          530,
          538,
          689,
          1001
         ],
         "yaxis": "y"
        }
       ],
       "layout": {
        "legend": {
         "tracegroupgap": 0
        },
        "template": {
         "data": {
          "scatter": [
           {
            "type": "scatter"
           }
          ]
         }
        },
        "title": {
         "text": "The daily number of newly signed users."
        },
        "xaxis": {
         "anchor": "y",
         "domain": [
          0,
          1
         ],
         "title": {
          "text": "Session Date"
         }
        },
        "yaxis": {
         "anchor": "x",
         "domain": [
          0,
          1
         ],
         "title": {
          "text": "Number of Users"
         }
        }
       }
      },
      "text/html": [
       "<div>                            <div id=\"3830bbe8-6ea2-4626-9879-91470394245c\" class=\"plotly-graph-div\" style=\"height:525px; width:100%;\"></div>            <script type=\"text/javascript\">                require([\"plotly\"], function(Plotly) {                    window.PLOTLYENV=window.PLOTLYENV || {};                                    if (document.getElementById(\"3830bbe8-6ea2-4626-9879-91470394245c\")) {                    Plotly.newPlot(                        \"3830bbe8-6ea2-4626-9879-91470394245c\",                        [{\"hovertemplate\":\"Session Date=%{x}<br>Number of Users=%{y}<extra></extra>\",\"legendgroup\":\"\",\"line\":{\"color\":\"#1F77B4\",\"dash\":\"solid\"},\"marker\":{\"symbol\":\"circle\"},\"mode\":\"lines\",\"name\":\"\",\"orientation\":\"v\",\"showlegend\":false,\"x\":[\"2020-12-07T00:00:00\",\"2020-12-08T00:00:00\",\"2020-12-09T00:00:00\",\"2020-12-10T00:00:00\",\"2020-12-11T00:00:00\",\"2020-12-12T00:00:00\",\"2020-12-13T00:00:00\",\"2020-12-14T00:00:00\",\"2020-12-15T00:00:00\",\"2020-12-16T00:00:00\",\"2020-12-17T00:00:00\",\"2020-12-18T00:00:00\",\"2020-12-19T00:00:00\",\"2020-12-20T00:00:00\",\"2020-12-21T00:00:00\"],\"xaxis\":\"x\",\"y\":[868,515,350,464,389,694,738,886,486,324,491,530,538,689,1001],\"yaxis\":\"y\",\"type\":\"scatter\"}],                        {\"template\":{\"data\":{\"scatter\":[{\"type\":\"scatter\"}]}},\"xaxis\":{\"anchor\":\"y\",\"domain\":[0.0,1.0],\"title\":{\"text\":\"Session Date\"}},\"yaxis\":{\"anchor\":\"x\",\"domain\":[0.0,1.0],\"title\":{\"text\":\"Number of Users\"}},\"legend\":{\"tracegroupgap\":0},\"title\":{\"text\":\"The daily number of newly signed users.\"}},                        {\"responsive\": true}                    ).then(function(){\n",
       "                            \n",
       "var gd = document.getElementById('3830bbe8-6ea2-4626-9879-91470394245c');\n",
       "var x = new MutationObserver(function (mutations, observer) {{\n",
       "        var display = window.getComputedStyle(gd).display;\n",
       "        if (!display || display === 'none') {{\n",
       "            console.log([gd, 'removed!']);\n",
       "            Plotly.purge(gd);\n",
       "            observer.disconnect();\n",
       "        }}\n",
       "}});\n",
       "\n",
       "// Listen for the removal of the full notebook cells\n",
       "var notebookContainer = gd.closest('#notebook-container');\n",
       "if (notebookContainer) {{\n",
       "    x.observe(notebookContainer, {childList: true});\n",
       "}}\n",
       "\n",
       "// Listen for the clearing of the current output cell\n",
       "var outputEl = gd.closest('.output');\n",
       "if (outputEl) {{\n",
       "    x.observe(outputEl, {childList: true});\n",
       "}}\n",
       "\n",
       "                        })                };                });            </script>        </div>"
      ]
     },
     "metadata": {},
     "output_type": "display_data"
    }
   ],
   "source": [
    "tmp_users_by_date = df_new_eu_users.groupby('first_date')['user_id'].agg([\n",
    "    ('n_users', 'count')]).reset_index()\n",
    "\n",
    "tmp_users_by_date\n",
    "\n",
    "fig = px.line(tmp_users_by_date,\n",
    "              x=\"first_date\",\n",
    "              y=\"n_users\",\n",
    "              title='The daily number of newly signed users.',\n",
    "              labels={\n",
    "                  'n_users': 'Number of Users',\n",
    "                  'first_date': 'Session Date'\n",
    "              })\n",
    "\n",
    "fig.show()"
   ]
  },
  {
   "cell_type": "markdown",
   "metadata": {},
   "source": [
    "* However, in fact, EU users make up 82% of our dataset.*"
   ]
  },
  {
   "cell_type": "code",
   "execution_count": 84,
   "metadata": {},
   "outputs": [
    {
     "data": {
      "text/html": [
       "<div>\n",
       "<style scoped>\n",
       "    .dataframe tbody tr th:only-of-type {\n",
       "        vertical-align: middle;\n",
       "    }\n",
       "\n",
       "    .dataframe tbody tr th {\n",
       "        vertical-align: top;\n",
       "    }\n",
       "\n",
       "    .dataframe thead th {\n",
       "        text-align: right;\n",
       "    }\n",
       "</style>\n",
       "<table border=\"1\" class=\"dataframe\">\n",
       "  <thead>\n",
       "    <tr style=\"text-align: right;\">\n",
       "      <th></th>\n",
       "      <th>device</th>\n",
       "      <th>n_users</th>\n",
       "    </tr>\n",
       "  </thead>\n",
       "  <tbody>\n",
       "    <tr>\n",
       "      <th>0</th>\n",
       "      <td>Android</td>\n",
       "      <td>4022</td>\n",
       "    </tr>\n",
       "    <tr>\n",
       "      <th>1</th>\n",
       "      <td>PC</td>\n",
       "      <td>2281</td>\n",
       "    </tr>\n",
       "    <tr>\n",
       "      <th>2</th>\n",
       "      <td>iPhone</td>\n",
       "      <td>1730</td>\n",
       "    </tr>\n",
       "    <tr>\n",
       "      <th>3</th>\n",
       "      <td>Mac</td>\n",
       "      <td>930</td>\n",
       "    </tr>\n",
       "  </tbody>\n",
       "</table>\n",
       "</div>"
      ],
      "text/plain": [
       "    device  n_users\n",
       "0  Android     4022\n",
       "1       PC     2281\n",
       "2   iPhone     1730\n",
       "3      Mac      930"
      ]
     },
     "execution_count": 84,
     "metadata": {},
     "output_type": "execute_result"
    },
    {
     "data": {
      "application/vnd.plotly.v1+json": {
       "config": {
        "plotlyServerURL": "https://plot.ly"
       },
       "data": [
        {
         "domain": {
          "x": [
           0,
           1
          ],
          "y": [
           0,
           1
          ]
         },
         "hovertemplate": "device=%{label}<br>n_users=%{value}<extra></extra>",
         "labels": [
          "Android",
          "PC",
          "iPhone",
          "Mac"
         ],
         "legendgroup": "",
         "name": "",
         "showlegend": true,
         "type": "pie",
         "values": [
          4022,
          2281,
          1730,
          930
         ]
        }
       ],
       "layout": {
        "legend": {
         "tracegroupgap": 0
        },
        "template": {
         "data": {
          "scatter": [
           {
            "type": "scatter"
           }
          ]
         }
        },
        "title": {
         "text": "The number of newly signed users by device:"
        }
       }
      },
      "text/html": [
       "<div>                            <div id=\"8aa5dab7-18b0-4755-84c5-e1f8689ddebc\" class=\"plotly-graph-div\" style=\"height:525px; width:100%;\"></div>            <script type=\"text/javascript\">                require([\"plotly\"], function(Plotly) {                    window.PLOTLYENV=window.PLOTLYENV || {};                                    if (document.getElementById(\"8aa5dab7-18b0-4755-84c5-e1f8689ddebc\")) {                    Plotly.newPlot(                        \"8aa5dab7-18b0-4755-84c5-e1f8689ddebc\",                        [{\"domain\":{\"x\":[0.0,1.0],\"y\":[0.0,1.0]},\"hovertemplate\":\"device=%{label}<br>n_users=%{value}<extra></extra>\",\"labels\":[\"Android\",\"PC\",\"iPhone\",\"Mac\"],\"legendgroup\":\"\",\"name\":\"\",\"showlegend\":true,\"values\":[4022,2281,1730,930],\"type\":\"pie\"}],                        {\"template\":{\"data\":{\"scatter\":[{\"type\":\"scatter\"}]}},\"legend\":{\"tracegroupgap\":0},\"title\":{\"text\":\"The number of newly signed users by device:\"}},                        {\"responsive\": true}                    ).then(function(){\n",
       "                            \n",
       "var gd = document.getElementById('8aa5dab7-18b0-4755-84c5-e1f8689ddebc');\n",
       "var x = new MutationObserver(function (mutations, observer) {{\n",
       "        var display = window.getComputedStyle(gd).display;\n",
       "        if (!display || display === 'none') {{\n",
       "            console.log([gd, 'removed!']);\n",
       "            Plotly.purge(gd);\n",
       "            observer.disconnect();\n",
       "        }}\n",
       "}});\n",
       "\n",
       "// Listen for the removal of the full notebook cells\n",
       "var notebookContainer = gd.closest('#notebook-container');\n",
       "if (notebookContainer) {{\n",
       "    x.observe(notebookContainer, {childList: true});\n",
       "}}\n",
       "\n",
       "// Listen for the clearing of the current output cell\n",
       "var outputEl = gd.closest('.output');\n",
       "if (outputEl) {{\n",
       "    x.observe(outputEl, {childList: true});\n",
       "}}\n",
       "\n",
       "                        })                };                });            </script>        </div>"
      ]
     },
     "metadata": {},
     "output_type": "display_data"
    }
   ],
   "source": [
    "tmp_by_device = df_new_eu_users.groupby('device')['user_id'].agg([\n",
    "    ('n_users', 'count')\n",
    "]).sort_values(by='n_users', ascending=False).reset_index()\n",
    "\n",
    "tmp_by_device\n",
    "\n",
    "fig = px.pie(tmp_by_device,\n",
    "             values='n_users',\n",
    "             names='device',\n",
    "#              color='region',\n",
    "             title='The number of newly signed users by device:')\n",
    "\n",
    "fig.show()"
   ]
  },
  {
   "cell_type": "markdown",
   "metadata": {},
   "source": [
    "> Conclusion:\n",
    "* After preprocessing we have the `df_new_eu_users` dataset 8963 unique entries.\n",
    "* All new users in the dataset are from the EU who signed up in the online store from December 7 to 21, 2020.\n",
    "* New EU user registrations for 14 days of testing varied greatly:\n",
    "    - The maximum number of new users came on December 21st - 1001 new users, \n",
    "    - The minimum - on December 16th -  324 new users,   \n",
    "    - The number of new user registrations depends on the day of week.\n",
    "* They utilize 4 types of devices: PC, Android, iPhone, Mac:\n",
    "    - Almost half of the new users are Android users, 44.9%. \n",
    "    - The smallest number of users came using the Mac, 10.4%.\n",
    "* There are no null values and duplicates in the dataset.\n",
    "* **According to the assignment, the estimated number of test participants must be at least 6000. We have 8963 users, which meets the conditions of testing.**"
   ]
  },
  {
   "cell_type": "markdown",
   "metadata": {},
   "source": [
    "### The `events` dataset"
   ]
  },
  {
   "cell_type": "markdown",
   "metadata": {},
   "source": [
    "*Downloading:*"
   ]
  },
  {
   "cell_type": "code",
   "execution_count": 34,
   "metadata": {},
   "outputs": [],
   "source": [
    "df_events = pd.read_csv(os.path.join(source_dir, events),\n",
    "                        parse_dates=['event_dt'],\n",
    "                        na_values=missing_values,\n",
    "                        dtype={'event_name': 'category'})\n",
    "\n",
    "# saving the original data set for comparing changes to be made\n",
    "orig_df_events = df_events.copy()"
   ]
  },
  {
   "cell_type": "markdown",
   "metadata": {},
   "source": [
    "*Overview and descriptive statistic:*"
   ]
  },
  {
   "cell_type": "code",
   "execution_count": 85,
   "metadata": {
    "scrolled": false
   },
   "outputs": [
    {
     "name": "stdout",
     "output_type": "stream",
     "text": [
      "\n",
      "A concise summary of the DataFrame: \n",
      "\n",
      "<class 'pandas.core.frame.DataFrame'>\n",
      "RangeIndex: 423761 entries, 0 to 423760\n",
      "Data columns (total 4 columns):\n",
      " #   Column      Non-Null Count   Dtype         \n",
      "---  ------      --------------   -----         \n",
      " 0   user_id     423761 non-null  object        \n",
      " 1   event_dt    423761 non-null  datetime64[ns]\n",
      " 2   event_name  423761 non-null  category      \n",
      " 3   details     423761 non-null  float64       \n",
      "dtypes: category(1), datetime64[ns](1), float64(1), object(1)\n",
      "memory usage: 10.1+ MB\n",
      "\n",
      "Dataset head: \n"
     ]
    },
    {
     "data": {
      "text/html": [
       "<div>\n",
       "<style scoped>\n",
       "    .dataframe tbody tr th:only-of-type {\n",
       "        vertical-align: middle;\n",
       "    }\n",
       "\n",
       "    .dataframe tbody tr th {\n",
       "        vertical-align: top;\n",
       "    }\n",
       "\n",
       "    .dataframe thead th {\n",
       "        text-align: right;\n",
       "    }\n",
       "</style>\n",
       "<table border=\"1\" class=\"dataframe\">\n",
       "  <thead>\n",
       "    <tr style=\"text-align: right;\">\n",
       "      <th></th>\n",
       "      <th>user_id</th>\n",
       "      <th>event_dt</th>\n",
       "      <th>event_name</th>\n",
       "      <th>details</th>\n",
       "    </tr>\n",
       "  </thead>\n",
       "  <tbody>\n",
       "    <tr>\n",
       "      <th>0</th>\n",
       "      <td>E1BDDCE0DAFA2679</td>\n",
       "      <td>2020-12-07 20:22:03</td>\n",
       "      <td>purchase</td>\n",
       "      <td>99.99</td>\n",
       "    </tr>\n",
       "    <tr>\n",
       "      <th>1</th>\n",
       "      <td>7B6452F081F49504</td>\n",
       "      <td>2020-12-07 09:22:53</td>\n",
       "      <td>purchase</td>\n",
       "      <td>9.99</td>\n",
       "    </tr>\n",
       "    <tr>\n",
       "      <th>2</th>\n",
       "      <td>9CD9F34546DF254C</td>\n",
       "      <td>2020-12-07 12:59:29</td>\n",
       "      <td>purchase</td>\n",
       "      <td>4.99</td>\n",
       "    </tr>\n",
       "    <tr>\n",
       "      <th>3</th>\n",
       "      <td>96F27A054B191457</td>\n",
       "      <td>2020-12-07 04:02:40</td>\n",
       "      <td>purchase</td>\n",
       "      <td>4.99</td>\n",
       "    </tr>\n",
       "    <tr>\n",
       "      <th>4</th>\n",
       "      <td>1FD7660FDF94CA1F</td>\n",
       "      <td>2020-12-07 10:15:09</td>\n",
       "      <td>purchase</td>\n",
       "      <td>4.99</td>\n",
       "    </tr>\n",
       "  </tbody>\n",
       "</table>\n",
       "</div>"
      ],
      "text/plain": [
       "            user_id            event_dt event_name  details\n",
       "0  E1BDDCE0DAFA2679 2020-12-07 20:22:03   purchase    99.99\n",
       "1  7B6452F081F49504 2020-12-07 09:22:53   purchase     9.99\n",
       "2  9CD9F34546DF254C 2020-12-07 12:59:29   purchase     4.99\n",
       "3  96F27A054B191457 2020-12-07 04:02:40   purchase     4.99\n",
       "4  1FD7660FDF94CA1F 2020-12-07 10:15:09   purchase     4.99"
      ]
     },
     "execution_count": 85,
     "metadata": {},
     "output_type": "execute_result"
    },
    {
     "name": "stdout",
     "output_type": "stream",
     "text": [
      "\n",
      "Dataset tail: \n"
     ]
    },
    {
     "data": {
      "text/html": [
       "<div>\n",
       "<style scoped>\n",
       "    .dataframe tbody tr th:only-of-type {\n",
       "        vertical-align: middle;\n",
       "    }\n",
       "\n",
       "    .dataframe tbody tr th {\n",
       "        vertical-align: top;\n",
       "    }\n",
       "\n",
       "    .dataframe thead th {\n",
       "        text-align: right;\n",
       "    }\n",
       "</style>\n",
       "<table border=\"1\" class=\"dataframe\">\n",
       "  <thead>\n",
       "    <tr style=\"text-align: right;\">\n",
       "      <th></th>\n",
       "      <th>user_id</th>\n",
       "      <th>event_dt</th>\n",
       "      <th>event_name</th>\n",
       "      <th>details</th>\n",
       "    </tr>\n",
       "  </thead>\n",
       "  <tbody>\n",
       "    <tr>\n",
       "      <th>423756</th>\n",
       "      <td>245E85F65C358E08</td>\n",
       "      <td>2020-12-30 19:35:55</td>\n",
       "      <td>login</td>\n",
       "      <td>0.0</td>\n",
       "    </tr>\n",
       "    <tr>\n",
       "      <th>423757</th>\n",
       "      <td>9385A108F5A0A7A7</td>\n",
       "      <td>2020-12-30 10:54:15</td>\n",
       "      <td>login</td>\n",
       "      <td>0.0</td>\n",
       "    </tr>\n",
       "    <tr>\n",
       "      <th>423758</th>\n",
       "      <td>DB650B7559AC6EAC</td>\n",
       "      <td>2020-12-30 10:59:09</td>\n",
       "      <td>login</td>\n",
       "      <td>0.0</td>\n",
       "    </tr>\n",
       "    <tr>\n",
       "      <th>423759</th>\n",
       "      <td>F80C9BDDEA02E53C</td>\n",
       "      <td>2020-12-30 09:53:39</td>\n",
       "      <td>login</td>\n",
       "      <td>0.0</td>\n",
       "    </tr>\n",
       "    <tr>\n",
       "      <th>423760</th>\n",
       "      <td>7AEC61159B672CC5</td>\n",
       "      <td>2020-12-30 11:36:13</td>\n",
       "      <td>login</td>\n",
       "      <td>0.0</td>\n",
       "    </tr>\n",
       "  </tbody>\n",
       "</table>\n",
       "</div>"
      ],
      "text/plain": [
       "                 user_id            event_dt event_name  details\n",
       "423756  245E85F65C358E08 2020-12-30 19:35:55      login      0.0\n",
       "423757  9385A108F5A0A7A7 2020-12-30 10:54:15      login      0.0\n",
       "423758  DB650B7559AC6EAC 2020-12-30 10:59:09      login      0.0\n",
       "423759  F80C9BDDEA02E53C 2020-12-30 09:53:39      login      0.0\n",
       "423760  7AEC61159B672CC5 2020-12-30 11:36:13      login      0.0"
      ]
     },
     "execution_count": 85,
     "metadata": {},
     "output_type": "execute_result"
    },
    {
     "name": "stdout",
     "output_type": "stream",
     "text": [
      "\n",
      "Dataset sample: \n"
     ]
    },
    {
     "data": {
      "text/html": [
       "<div>\n",
       "<style scoped>\n",
       "    .dataframe tbody tr th:only-of-type {\n",
       "        vertical-align: middle;\n",
       "    }\n",
       "\n",
       "    .dataframe tbody tr th {\n",
       "        vertical-align: top;\n",
       "    }\n",
       "\n",
       "    .dataframe thead th {\n",
       "        text-align: right;\n",
       "    }\n",
       "</style>\n",
       "<table border=\"1\" class=\"dataframe\">\n",
       "  <thead>\n",
       "    <tr style=\"text-align: right;\">\n",
       "      <th></th>\n",
       "      <th>user_id</th>\n",
       "      <th>event_dt</th>\n",
       "      <th>event_name</th>\n",
       "      <th>details</th>\n",
       "    </tr>\n",
       "  </thead>\n",
       "  <tbody>\n",
       "    <tr>\n",
       "      <th>285026</th>\n",
       "      <td>9814AB643FFA17CF</td>\n",
       "      <td>2020-12-13 12:32:09</td>\n",
       "      <td>login</td>\n",
       "      <td>0.0</td>\n",
       "    </tr>\n",
       "    <tr>\n",
       "      <th>289422</th>\n",
       "      <td>3DAD33FB345AD7D0</td>\n",
       "      <td>2020-12-14 15:45:19</td>\n",
       "      <td>login</td>\n",
       "      <td>0.0</td>\n",
       "    </tr>\n",
       "    <tr>\n",
       "      <th>421057</th>\n",
       "      <td>868975C37DB43A7A</td>\n",
       "      <td>2020-12-29 23:09:26</td>\n",
       "      <td>login</td>\n",
       "      <td>0.0</td>\n",
       "    </tr>\n",
       "    <tr>\n",
       "      <th>311721</th>\n",
       "      <td>5426D672432E3936</td>\n",
       "      <td>2020-12-16 10:43:42</td>\n",
       "      <td>login</td>\n",
       "      <td>0.0</td>\n",
       "    </tr>\n",
       "    <tr>\n",
       "      <th>246609</th>\n",
       "      <td>2A09E2491253EBA4</td>\n",
       "      <td>2020-12-08 03:44:34</td>\n",
       "      <td>login</td>\n",
       "      <td>0.0</td>\n",
       "    </tr>\n",
       "  </tbody>\n",
       "</table>\n",
       "</div>"
      ],
      "text/plain": [
       "                 user_id            event_dt event_name  details\n",
       "285026  9814AB643FFA17CF 2020-12-13 12:32:09      login      0.0\n",
       "289422  3DAD33FB345AD7D0 2020-12-14 15:45:19      login      0.0\n",
       "421057  868975C37DB43A7A 2020-12-29 23:09:26      login      0.0\n",
       "311721  5426D672432E3936 2020-12-16 10:43:42      login      0.0\n",
       "246609  2A09E2491253EBA4 2020-12-08 03:44:34      login      0.0"
      ]
     },
     "execution_count": 85,
     "metadata": {},
     "output_type": "execute_result"
    },
    {
     "name": "stdout",
     "output_type": "stream",
     "text": [
      "\n",
      "The number of rows, columns: \n"
     ]
    },
    {
     "data": {
      "text/plain": [
       "(423761, 4)"
      ]
     },
     "execution_count": 85,
     "metadata": {},
     "output_type": "execute_result"
    }
   ],
   "source": [
    "print('\\nA concise summary of the DataFrame: \\n')\n",
    "df_events.info()\n",
    "print('\\nDataset head: ')\n",
    "df_events.head()\n",
    "print('\\nDataset tail: ')\n",
    "df_events.tail()\n",
    "print('\\nDataset sample: ')\n",
    "df_events.sample(5)\n",
    "print('\\nThe number of rows, columns: ')\n",
    "df_events.shape"
   ]
  },
  {
   "cell_type": "markdown",
   "metadata": {},
   "source": [
    "*Count unique values in the columns:*"
   ]
  },
  {
   "cell_type": "code",
   "execution_count": 36,
   "metadata": {},
   "outputs": [
    {
     "data": {
      "text/plain": [
       "user_id        58703\n",
       "event_dt      257138\n",
       "event_name         4\n",
       "details            5\n",
       "dtype: int64"
      ]
     },
     "execution_count": 36,
     "metadata": {},
     "output_type": "execute_result"
    }
   ],
   "source": [
    "df_events.apply(lambda x: len(x.unique()))"
   ]
  },
  {
   "cell_type": "code",
   "execution_count": 37,
   "metadata": {},
   "outputs": [
    {
     "name": "stdout",
     "output_type": "stream",
     "text": [
      "event_name : ['purchase', 'product_cart', 'product_page', 'login']\n",
      "Categories (4, object): ['product_cart', 'product_page', 'purchase', 'login']\n",
      "details : [ 99.99   9.99   4.99 499.99    nan]\n"
     ]
    }
   ],
   "source": [
    "for i in df_events[['event_name', 'details']]:\n",
    "    print(i, ':', df_events[i].unique())"
   ]
  },
  {
   "cell_type": "markdown",
   "metadata": {},
   "source": [
    "*Let's explore Nan values in the `details` column:*"
   ]
  },
  {
   "cell_type": "code",
   "execution_count": 38,
   "metadata": {},
   "outputs": [
    {
     "data": {
      "text/plain": [
       "363447"
      ]
     },
     "execution_count": 38,
     "metadata": {},
     "output_type": "execute_result"
    },
    {
     "data": {
      "text/plain": [
       "85.77"
      ]
     },
     "execution_count": 38,
     "metadata": {},
     "output_type": "execute_result"
    }
   ],
   "source": [
    "details_null = df_events.details.isna().sum()\n",
    "details_null\n",
    "(details_null / df_events.shape[0] * 100).round(2)"
   ]
  },
  {
   "cell_type": "markdown",
   "metadata": {},
   "source": [
    "*As we can see, our `event` dataset has 85.77% NaN values in the `details` column.\n",
    "<br>I think this happened because not all of our users did reach the `purchase` event. We can check this version)*"
   ]
  },
  {
   "cell_type": "code",
   "execution_count": 39,
   "metadata": {},
   "outputs": [
    {
     "data": {
      "text/html": [
       "<div>\n",
       "<style scoped>\n",
       "    .dataframe tbody tr th:only-of-type {\n",
       "        vertical-align: middle;\n",
       "    }\n",
       "\n",
       "    .dataframe tbody tr th {\n",
       "        vertical-align: top;\n",
       "    }\n",
       "\n",
       "    .dataframe thead th {\n",
       "        text-align: right;\n",
       "    }\n",
       "</style>\n",
       "<table border=\"1\" class=\"dataframe\">\n",
       "  <thead>\n",
       "    <tr style=\"text-align: right;\">\n",
       "      <th></th>\n",
       "      <th>user_id</th>\n",
       "      <th>event_dt</th>\n",
       "      <th>event_name</th>\n",
       "      <th>details</th>\n",
       "    </tr>\n",
       "  </thead>\n",
       "  <tbody>\n",
       "  </tbody>\n",
       "</table>\n",
       "</div>"
      ],
      "text/plain": [
       "Empty DataFrame\n",
       "Columns: [user_id, event_dt, event_name, details]\n",
       "Index: []"
      ]
     },
     "execution_count": 39,
     "metadata": {},
     "output_type": "execute_result"
    }
   ],
   "source": [
    "df_events[(df_events.event_name == 'purchase') & df_events.details.isna()]"
   ]
  },
  {
   "cell_type": "markdown",
   "metadata": {},
   "source": [
    "*There is no 'purchase' event with NaN value in the 'details' column. But previous steps of funnel have NaNs.*\n",
    "\n",
    "*Replacing missing values (NaNs) with 0*"
   ]
  },
  {
   "cell_type": "code",
   "execution_count": 40,
   "metadata": {},
   "outputs": [
    {
     "data": {
      "text/plain": [
       "user_id       0\n",
       "event_dt      0\n",
       "event_name    0\n",
       "details       0\n",
       "dtype: int64"
      ]
     },
     "execution_count": 40,
     "metadata": {},
     "output_type": "execute_result"
    }
   ],
   "source": [
    "# filling NaN\n",
    "df_events.details.fillna(0, inplace=True)\n",
    "\n",
    "# Verifying the result\n",
    "df_events.isna().sum()"
   ]
  },
  {
   "cell_type": "markdown",
   "metadata": {},
   "source": [
    "*Checking duplicates:*"
   ]
  },
  {
   "cell_type": "code",
   "execution_count": 41,
   "metadata": {},
   "outputs": [
    {
     "data": {
      "text/plain": [
       "0"
      ]
     },
     "execution_count": 41,
     "metadata": {},
     "output_type": "execute_result"
    }
   ],
   "source": [
    "df_events.duplicated().sum()"
   ]
  },
  {
   "cell_type": "code",
   "execution_count": 42,
   "metadata": {},
   "outputs": [
    {
     "data": {
      "text/plain": [
       "count                  423761\n",
       "unique                 257138\n",
       "top       2020-12-14 18:54:55\n",
       "freq                       10\n",
       "first     2020-12-07 00:00:33\n",
       "last      2020-12-30 23:36:33\n",
       "Name: event_dt, dtype: object"
      ]
     },
     "execution_count": 42,
     "metadata": {},
     "output_type": "execute_result"
    }
   ],
   "source": [
    "df_events.event_dt.describe()"
   ]
  },
  {
   "cell_type": "markdown",
   "metadata": {},
   "source": [
    "> Preliminary overview:\n",
    "* The `events` dataset contains 423761 records from December 7 to December 30, 2020.\n",
    "* The funnel consists 4 events: login, product_page, product_cart, and purchase. \n",
    "<br>However, in accordance with our task, we are interested in a funnel of these 3 steps: `product_page → product_card → purchase`. \n",
    "* There are no duplicates.\n",
    "* Nan values of the variable `details` were filled with 0."
   ]
  },
  {
   "cell_type": "markdown",
   "metadata": {},
   "source": [
    "*To prepare the dataset for further exploration, we need to perform the same data transformation as for the new user dataset, namely:*\n",
    "* First, get the data for our testing from December 7 to December 21;\n",
    "* Second, we need to retrieve the events that were executed by our test participants.*\n",
    "\n",
    "*Let's create the `df_test_events` for our goals and explore it:*"
   ]
  },
  {
   "cell_type": "code",
   "execution_count": 86,
   "metadata": {},
   "outputs": [
    {
     "name": "stdout",
     "output_type": "stream",
     "text": [
      "\n",
      "Summary statistics: \n"
     ]
    },
    {
     "data": {
      "text/html": [
       "<div>\n",
       "<style scoped>\n",
       "    .dataframe tbody tr th:only-of-type {\n",
       "        vertical-align: middle;\n",
       "    }\n",
       "\n",
       "    .dataframe tbody tr th {\n",
       "        vertical-align: top;\n",
       "    }\n",
       "\n",
       "    .dataframe thead th {\n",
       "        text-align: right;\n",
       "    }\n",
       "</style>\n",
       "<table border=\"1\" class=\"dataframe\">\n",
       "  <thead>\n",
       "    <tr style=\"text-align: right;\">\n",
       "      <th></th>\n",
       "      <th>dtype</th>\n",
       "      <th>count</th>\n",
       "      <th>min</th>\n",
       "      <th>mean</th>\n",
       "      <th>median</th>\n",
       "      <th>max</th>\n",
       "      <th>std</th>\n",
       "      <th>skew</th>\n",
       "      <th>null_sum</th>\n",
       "      <th>null_%</th>\n",
       "    </tr>\n",
       "  </thead>\n",
       "  <tbody>\n",
       "    <tr>\n",
       "      <th>details</th>\n",
       "      <td>float64</td>\n",
       "      <td>51848</td>\n",
       "      <td>0.0</td>\n",
       "      <td>3.562788</td>\n",
       "      <td>0.0</td>\n",
       "      <td>499.99</td>\n",
       "      <td>29.740594</td>\n",
       "      <td>14.689667</td>\n",
       "      <td>0</td>\n",
       "      <td>0.0</td>\n",
       "    </tr>\n",
       "    <tr>\n",
       "      <th>event_dt</th>\n",
       "      <td>datetime64[ns]</td>\n",
       "      <td>51848</td>\n",
       "      <td>2020-12-07 00:02:48</td>\n",
       "      <td>NaN</td>\n",
       "      <td>NaN</td>\n",
       "      <td>2020-12-21 23:58:37</td>\n",
       "      <td>4 days 03:03:18.808755110</td>\n",
       "      <td>NaN</td>\n",
       "      <td>0</td>\n",
       "      <td>0.0</td>\n",
       "    </tr>\n",
       "    <tr>\n",
       "      <th>event_name</th>\n",
       "      <td>category</td>\n",
       "      <td>51848</td>\n",
       "      <td>NaN</td>\n",
       "      <td>NaN</td>\n",
       "      <td>NaN</td>\n",
       "      <td>NaN</td>\n",
       "      <td>NaN</td>\n",
       "      <td>NaN</td>\n",
       "      <td>0</td>\n",
       "      <td>0.0</td>\n",
       "    </tr>\n",
       "    <tr>\n",
       "      <th>user_id</th>\n",
       "      <td>object</td>\n",
       "      <td>51848</td>\n",
       "      <td>0002CE61FF2C4011</td>\n",
       "      <td>NaN</td>\n",
       "      <td>NaN</td>\n",
       "      <td>FFF58BC33966EB51</td>\n",
       "      <td>NaN</td>\n",
       "      <td>NaN</td>\n",
       "      <td>0</td>\n",
       "      <td>0.0</td>\n",
       "    </tr>\n",
       "  </tbody>\n",
       "</table>\n",
       "</div>"
      ],
      "text/plain": [
       "                     dtype  count                  min      mean  median  \\\n",
       "details            float64  51848                  0.0  3.562788     0.0   \n",
       "event_dt    datetime64[ns]  51848  2020-12-07 00:02:48       NaN     NaN   \n",
       "event_name        category  51848                  NaN       NaN     NaN   \n",
       "user_id             object  51848     0002CE61FF2C4011       NaN     NaN   \n",
       "\n",
       "                            max                        std       skew  \\\n",
       "details                  499.99                  29.740594  14.689667   \n",
       "event_dt    2020-12-21 23:58:37  4 days 03:03:18.808755110        NaN   \n",
       "event_name                  NaN                        NaN        NaN   \n",
       "user_id        FFF58BC33966EB51                        NaN        NaN   \n",
       "\n",
       "            null_sum  null_%  \n",
       "details            0     0.0  \n",
       "event_dt           0     0.0  \n",
       "event_name         0     0.0  \n",
       "user_id            0     0.0  "
      ]
     },
     "execution_count": 86,
     "metadata": {},
     "output_type": "execute_result"
    },
    {
     "name": "stdout",
     "output_type": "stream",
     "text": [
      "\n",
      "Dataset sample: \n"
     ]
    },
    {
     "data": {
      "text/html": [
       "<div>\n",
       "<style scoped>\n",
       "    .dataframe tbody tr th:only-of-type {\n",
       "        vertical-align: middle;\n",
       "    }\n",
       "\n",
       "    .dataframe tbody tr th {\n",
       "        vertical-align: top;\n",
       "    }\n",
       "\n",
       "    .dataframe thead th {\n",
       "        text-align: right;\n",
       "    }\n",
       "</style>\n",
       "<table border=\"1\" class=\"dataframe\">\n",
       "  <thead>\n",
       "    <tr style=\"text-align: right;\">\n",
       "      <th></th>\n",
       "      <th>user_id</th>\n",
       "      <th>event_dt</th>\n",
       "      <th>event_name</th>\n",
       "      <th>details</th>\n",
       "    </tr>\n",
       "  </thead>\n",
       "  <tbody>\n",
       "    <tr>\n",
       "      <th>19758</th>\n",
       "      <td>0C32A0CF544C7941</td>\n",
       "      <td>2020-12-15 12:15:00</td>\n",
       "      <td>purchase</td>\n",
       "      <td>4.99</td>\n",
       "    </tr>\n",
       "    <tr>\n",
       "      <th>146591</th>\n",
       "      <td>B52160A8EE35049C</td>\n",
       "      <td>2020-12-13 09:05:00</td>\n",
       "      <td>product_page</td>\n",
       "      <td>0.00</td>\n",
       "    </tr>\n",
       "    <tr>\n",
       "      <th>178115</th>\n",
       "      <td>223D2D91C12EF76D</td>\n",
       "      <td>2020-12-18 00:22:18</td>\n",
       "      <td>product_page</td>\n",
       "      <td>0.00</td>\n",
       "    </tr>\n",
       "    <tr>\n",
       "      <th>174438</th>\n",
       "      <td>39081BEFF7578FB9</td>\n",
       "      <td>2020-12-17 22:48:51</td>\n",
       "      <td>product_page</td>\n",
       "      <td>0.00</td>\n",
       "    </tr>\n",
       "    <tr>\n",
       "      <th>326667</th>\n",
       "      <td>18B19AA977291CC5</td>\n",
       "      <td>2020-12-18 23:37:22</td>\n",
       "      <td>login</td>\n",
       "      <td>0.00</td>\n",
       "    </tr>\n",
       "  </tbody>\n",
       "</table>\n",
       "</div>"
      ],
      "text/plain": [
       "                 user_id            event_dt    event_name  details\n",
       "19758   0C32A0CF544C7941 2020-12-15 12:15:00      purchase     4.99\n",
       "146591  B52160A8EE35049C 2020-12-13 09:05:00  product_page     0.00\n",
       "178115  223D2D91C12EF76D 2020-12-18 00:22:18  product_page     0.00\n",
       "174438  39081BEFF7578FB9 2020-12-17 22:48:51  product_page     0.00\n",
       "326667  18B19AA977291CC5 2020-12-18 23:37:22         login     0.00"
      ]
     },
     "execution_count": 86,
     "metadata": {},
     "output_type": "execute_result"
    }
   ],
   "source": [
    "df_test_events = df_events[(df_events['user_id'].isin(lst_eu_test_users)) & (df_events['event_dt'] < \"2020-12-22\")]\n",
    "\n",
    "eda_df(df_test_events)\n",
    "print('\\nDataset sample: ')\n",
    "df_test_events.sample(5)"
   ]
  },
  {
   "cell_type": "markdown",
   "metadata": {},
   "source": [
    "*Count unique values in the columns:*"
   ]
  },
  {
   "cell_type": "code",
   "execution_count": 44,
   "metadata": {},
   "outputs": [
    {
     "data": {
      "text/plain": [
       "user_id        8959\n",
       "event_dt      33338\n",
       "event_name        4\n",
       "details           5\n",
       "dtype: int64"
      ]
     },
     "execution_count": 44,
     "metadata": {},
     "output_type": "execute_result"
    },
    {
     "data": {
      "text/html": [
       "<div>\n",
       "<style scoped>\n",
       "    .dataframe tbody tr th:only-of-type {\n",
       "        vertical-align: middle;\n",
       "    }\n",
       "\n",
       "    .dataframe tbody tr th {\n",
       "        vertical-align: top;\n",
       "    }\n",
       "\n",
       "    .dataframe thead th {\n",
       "        text-align: right;\n",
       "    }\n",
       "</style>\n",
       "<table border=\"1\" class=\"dataframe\">\n",
       "  <thead>\n",
       "    <tr style=\"text-align: right;\">\n",
       "      <th></th>\n",
       "      <th>event_name</th>\n",
       "    </tr>\n",
       "  </thead>\n",
       "  <tbody>\n",
       "    <tr>\n",
       "      <th>0</th>\n",
       "      <td>purchase</td>\n",
       "    </tr>\n",
       "    <tr>\n",
       "      <th>1</th>\n",
       "      <td>product_cart</td>\n",
       "    </tr>\n",
       "    <tr>\n",
       "      <th>2</th>\n",
       "      <td>product_page</td>\n",
       "    </tr>\n",
       "    <tr>\n",
       "      <th>3</th>\n",
       "      <td>login</td>\n",
       "    </tr>\n",
       "  </tbody>\n",
       "</table>\n",
       "</div>"
      ],
      "text/plain": [
       "     event_name\n",
       "0      purchase\n",
       "1  product_cart\n",
       "2  product_page\n",
       "3         login"
      ]
     },
     "execution_count": 44,
     "metadata": {},
     "output_type": "execute_result"
    }
   ],
   "source": [
    "df_test_events.apply(lambda x: len(x.unique()))\n",
    "\n",
    "df_test_events[['event_name']].apply(lambda x: x.unique())"
   ]
  },
  {
   "cell_type": "markdown",
   "metadata": {},
   "source": [
    "*Verifying that there are no duplicate values in the dataset:*"
   ]
  },
  {
   "cell_type": "code",
   "execution_count": 45,
   "metadata": {},
   "outputs": [
    {
     "data": {
      "text/plain": [
       "0"
      ]
     },
     "execution_count": 45,
     "metadata": {},
     "output_type": "execute_result"
    }
   ],
   "source": [
    "df_test_events.duplicated().sum()"
   ]
  },
  {
   "cell_type": "markdown",
   "metadata": {},
   "source": [
    "*First look at the number of events per user:*"
   ]
  },
  {
   "cell_type": "code",
   "execution_count": 46,
   "metadata": {},
   "outputs": [
    {
     "data": {
      "text/plain": [
       "count    8959.000000\n",
       "mean        5.787253\n",
       "std         3.727047\n",
       "min         1.000000\n",
       "25%         3.000000\n",
       "50%         6.000000\n",
       "75%         8.000000\n",
       "max        24.000000\n",
       "Name: n_events, dtype: float64"
      ]
     },
     "execution_count": 46,
     "metadata": {},
     "output_type": "execute_result"
    },
    {
     "data": {
      "text/plain": [
       "0    6\n",
       "Name: n_events, dtype: int64"
      ]
     },
     "execution_count": 46,
     "metadata": {},
     "output_type": "execute_result"
    }
   ],
   "source": [
    "tmp_events = df_test_events.groupby('user_id')['event_dt'].agg([\n",
    "    ('n_events', 'count')\n",
    "]).sort_values(by='n_events', ascending=False).reset_index()\n",
    "\n",
    "tmp_events.n_events.describe()\n",
    "\n",
    "#Most frequent events\n",
    "tmp_events.n_events.mode()"
   ]
  },
  {
   "cell_type": "markdown",
   "metadata": {},
   "source": [
    "> Conclusion:\n",
    "* The `df_test_events` dataset contains 51848 events.\n",
    "* The dataset includes data that was collected from December 7 to December 21, 2020.\n",
    "* All events presented in the dataset were performed by test takers.\n",
    "* Each participant completed at least 1 event. Maximum events performed by user is 24.\n",
    "* An average number of events per user is 6.\n",
    "* Most often the number of events per user is 6, which coincides with the average number of events."
   ]
  },
  {
   "cell_type": "markdown",
   "metadata": {},
   "source": [
    "## Merging datasets"
   ]
  },
  {
   "cell_type": "markdown",
   "metadata": {},
   "source": [
    "*After preprocessing our datasets, we can combine them for deeper exploratory analysis.\n",
    "<br>But first, a small reminder of which ones we will use and what they look like :)* "
   ]
  },
  {
   "cell_type": "code",
   "execution_count": 87,
   "metadata": {},
   "outputs": [
    {
     "name": "stdout",
     "output_type": "stream",
     "text": [
      "\n",
      "Table containing test participants: \n"
     ]
    },
    {
     "data": {
      "text/html": [
       "<div>\n",
       "<style scoped>\n",
       "    .dataframe tbody tr th:only-of-type {\n",
       "        vertical-align: middle;\n",
       "    }\n",
       "\n",
       "    .dataframe tbody tr th {\n",
       "        vertical-align: top;\n",
       "    }\n",
       "\n",
       "    .dataframe thead th {\n",
       "        text-align: right;\n",
       "    }\n",
       "</style>\n",
       "<table border=\"1\" class=\"dataframe\">\n",
       "  <thead>\n",
       "    <tr style=\"text-align: right;\">\n",
       "      <th></th>\n",
       "      <th>user_id</th>\n",
       "      <th>group</th>\n",
       "      <th>ab_test</th>\n",
       "    </tr>\n",
       "  </thead>\n",
       "  <tbody>\n",
       "    <tr>\n",
       "      <th>6701</th>\n",
       "      <td>D4E530F6595A05A3</td>\n",
       "      <td>A</td>\n",
       "      <td>interface_eu_test</td>\n",
       "    </tr>\n",
       "    <tr>\n",
       "      <th>6702</th>\n",
       "      <td>773ECB64E45DEBAB</td>\n",
       "      <td>A</td>\n",
       "      <td>interface_eu_test</td>\n",
       "    </tr>\n",
       "    <tr>\n",
       "      <th>6703</th>\n",
       "      <td>6BCB0F33D3BAB8C2</td>\n",
       "      <td>A</td>\n",
       "      <td>interface_eu_test</td>\n",
       "    </tr>\n",
       "    <tr>\n",
       "      <th>6704</th>\n",
       "      <td>AABA4219186465C9</td>\n",
       "      <td>A</td>\n",
       "      <td>interface_eu_test</td>\n",
       "    </tr>\n",
       "    <tr>\n",
       "      <th>6705</th>\n",
       "      <td>2BA8FA8754D1FE50</td>\n",
       "      <td>B</td>\n",
       "      <td>interface_eu_test</td>\n",
       "    </tr>\n",
       "  </tbody>\n",
       "</table>\n",
       "</div>"
      ],
      "text/plain": [
       "               user_id group            ab_test\n",
       "6701  D4E530F6595A05A3     A  interface_eu_test\n",
       "6702  773ECB64E45DEBAB     A  interface_eu_test\n",
       "6703  6BCB0F33D3BAB8C2     A  interface_eu_test\n",
       "6704  AABA4219186465C9     A  interface_eu_test\n",
       "6705  2BA8FA8754D1FE50     B  interface_eu_test"
      ]
     },
     "execution_count": 87,
     "metadata": {},
     "output_type": "execute_result"
    },
    {
     "data": {
      "text/plain": [
       "(11567, 3)"
      ]
     },
     "execution_count": 87,
     "metadata": {},
     "output_type": "execute_result"
    },
    {
     "name": "stdout",
     "output_type": "stream",
     "text": [
      "\n",
      "New EU users who signed up on the store from December 7 to 21, 2020: \n"
     ]
    },
    {
     "data": {
      "text/html": [
       "<div>\n",
       "<style scoped>\n",
       "    .dataframe tbody tr th:only-of-type {\n",
       "        vertical-align: middle;\n",
       "    }\n",
       "\n",
       "    .dataframe tbody tr th {\n",
       "        vertical-align: top;\n",
       "    }\n",
       "\n",
       "    .dataframe thead th {\n",
       "        text-align: right;\n",
       "    }\n",
       "</style>\n",
       "<table border=\"1\" class=\"dataframe\">\n",
       "  <thead>\n",
       "    <tr style=\"text-align: right;\">\n",
       "      <th></th>\n",
       "      <th>user_id</th>\n",
       "      <th>first_date</th>\n",
       "      <th>region</th>\n",
       "      <th>device</th>\n",
       "    </tr>\n",
       "  </thead>\n",
       "  <tbody>\n",
       "    <tr>\n",
       "      <th>2</th>\n",
       "      <td>2E1BF1D4C37EA01F</td>\n",
       "      <td>2020-12-07</td>\n",
       "      <td>EU</td>\n",
       "      <td>PC</td>\n",
       "    </tr>\n",
       "    <tr>\n",
       "      <th>3</th>\n",
       "      <td>50734A22C0C63768</td>\n",
       "      <td>2020-12-07</td>\n",
       "      <td>EU</td>\n",
       "      <td>iPhone</td>\n",
       "    </tr>\n",
       "    <tr>\n",
       "      <th>14</th>\n",
       "      <td>5BE017E9C8CC42F8</td>\n",
       "      <td>2020-12-07</td>\n",
       "      <td>EU</td>\n",
       "      <td>Android</td>\n",
       "    </tr>\n",
       "    <tr>\n",
       "      <th>18</th>\n",
       "      <td>96F27A054B191457</td>\n",
       "      <td>2020-12-07</td>\n",
       "      <td>EU</td>\n",
       "      <td>iPhone</td>\n",
       "    </tr>\n",
       "    <tr>\n",
       "      <th>21</th>\n",
       "      <td>E6AF85675078215D</td>\n",
       "      <td>2020-12-07</td>\n",
       "      <td>EU</td>\n",
       "      <td>Android</td>\n",
       "    </tr>\n",
       "  </tbody>\n",
       "</table>\n",
       "</div>"
      ],
      "text/plain": [
       "             user_id first_date region   device\n",
       "2   2E1BF1D4C37EA01F 2020-12-07     EU       PC\n",
       "3   50734A22C0C63768 2020-12-07     EU   iPhone\n",
       "14  5BE017E9C8CC42F8 2020-12-07     EU  Android\n",
       "18  96F27A054B191457 2020-12-07     EU   iPhone\n",
       "21  E6AF85675078215D 2020-12-07     EU  Android"
      ]
     },
     "execution_count": 87,
     "metadata": {},
     "output_type": "execute_result"
    },
    {
     "data": {
      "text/plain": [
       "(8963, 4)"
      ]
     },
     "execution_count": 87,
     "metadata": {},
     "output_type": "execute_result"
    },
    {
     "name": "stdout",
     "output_type": "stream",
     "text": [
      "\n",
      "All the events of the new users (test participants) within the period from December 7 to 21, 2020: \n"
     ]
    },
    {
     "data": {
      "text/html": [
       "<div>\n",
       "<style scoped>\n",
       "    .dataframe tbody tr th:only-of-type {\n",
       "        vertical-align: middle;\n",
       "    }\n",
       "\n",
       "    .dataframe tbody tr th {\n",
       "        vertical-align: top;\n",
       "    }\n",
       "\n",
       "    .dataframe thead th {\n",
       "        text-align: right;\n",
       "    }\n",
       "</style>\n",
       "<table border=\"1\" class=\"dataframe\">\n",
       "  <thead>\n",
       "    <tr style=\"text-align: right;\">\n",
       "      <th></th>\n",
       "      <th>user_id</th>\n",
       "      <th>event_dt</th>\n",
       "      <th>event_name</th>\n",
       "      <th>details</th>\n",
       "    </tr>\n",
       "  </thead>\n",
       "  <tbody>\n",
       "    <tr>\n",
       "      <th>3</th>\n",
       "      <td>96F27A054B191457</td>\n",
       "      <td>2020-12-07 04:02:40</td>\n",
       "      <td>purchase</td>\n",
       "      <td>4.99</td>\n",
       "    </tr>\n",
       "    <tr>\n",
       "      <th>9</th>\n",
       "      <td>A92195E3CFB83DBD</td>\n",
       "      <td>2020-12-07 00:32:07</td>\n",
       "      <td>purchase</td>\n",
       "      <td>4.99</td>\n",
       "    </tr>\n",
       "    <tr>\n",
       "      <th>11</th>\n",
       "      <td>354D653172FF2A2D</td>\n",
       "      <td>2020-12-07 15:45:11</td>\n",
       "      <td>purchase</td>\n",
       "      <td>4.99</td>\n",
       "    </tr>\n",
       "    <tr>\n",
       "      <th>12</th>\n",
       "      <td>7FCD34F47C13A9AC</td>\n",
       "      <td>2020-12-07 22:06:13</td>\n",
       "      <td>purchase</td>\n",
       "      <td>9.99</td>\n",
       "    </tr>\n",
       "    <tr>\n",
       "      <th>13</th>\n",
       "      <td>0313C457F07C339E</td>\n",
       "      <td>2020-12-07 13:10:48</td>\n",
       "      <td>purchase</td>\n",
       "      <td>9.99</td>\n",
       "    </tr>\n",
       "  </tbody>\n",
       "</table>\n",
       "</div>"
      ],
      "text/plain": [
       "             user_id            event_dt event_name  details\n",
       "3   96F27A054B191457 2020-12-07 04:02:40   purchase     4.99\n",
       "9   A92195E3CFB83DBD 2020-12-07 00:32:07   purchase     4.99\n",
       "11  354D653172FF2A2D 2020-12-07 15:45:11   purchase     4.99\n",
       "12  7FCD34F47C13A9AC 2020-12-07 22:06:13   purchase     9.99\n",
       "13  0313C457F07C339E 2020-12-07 13:10:48   purchase     9.99"
      ]
     },
     "execution_count": 87,
     "metadata": {},
     "output_type": "execute_result"
    },
    {
     "data": {
      "text/plain": [
       "(51848, 4)"
      ]
     },
     "execution_count": 87,
     "metadata": {},
     "output_type": "execute_result"
    }
   ],
   "source": [
    "print('\\nTable containing test participants: ')\n",
    "df_eu_test.head()\n",
    "df_eu_test.shape\n",
    "\n",
    "print('\\nNew EU users who signed up on the store from December 7 to 21, 2020: ')\n",
    "df_new_eu_users.head()\n",
    "df_new_eu_users.shape\n",
    "\n",
    "print('\\nAll the events of the new users (test participants) within the period from December 7 to 21, 2020: ')\n",
    "df_test_events.head()\n",
    "df_test_events.shape"
   ]
  },
  {
   "cell_type": "markdown",
   "metadata": {},
   "source": [
    "*Combining the datasets:*"
   ]
  },
  {
   "cell_type": "code",
   "execution_count": 48,
   "metadata": {},
   "outputs": [
    {
     "data": {
      "text/html": [
       "<div>\n",
       "<style scoped>\n",
       "    .dataframe tbody tr th:only-of-type {\n",
       "        vertical-align: middle;\n",
       "    }\n",
       "\n",
       "    .dataframe tbody tr th {\n",
       "        vertical-align: top;\n",
       "    }\n",
       "\n",
       "    .dataframe thead th {\n",
       "        text-align: right;\n",
       "    }\n",
       "</style>\n",
       "<table border=\"1\" class=\"dataframe\">\n",
       "  <thead>\n",
       "    <tr style=\"text-align: right;\">\n",
       "      <th></th>\n",
       "      <th>user_id</th>\n",
       "      <th>event_dt</th>\n",
       "      <th>event_name</th>\n",
       "      <th>details</th>\n",
       "      <th>group</th>\n",
       "      <th>first_date</th>\n",
       "      <th>device</th>\n",
       "    </tr>\n",
       "  </thead>\n",
       "  <tbody>\n",
       "    <tr>\n",
       "      <th>0</th>\n",
       "      <td>96F27A054B191457</td>\n",
       "      <td>2020-12-07 04:02:40</td>\n",
       "      <td>purchase</td>\n",
       "      <td>4.99</td>\n",
       "      <td>B</td>\n",
       "      <td>2020-12-07</td>\n",
       "      <td>iPhone</td>\n",
       "    </tr>\n",
       "    <tr>\n",
       "      <th>1</th>\n",
       "      <td>A92195E3CFB83DBD</td>\n",
       "      <td>2020-12-07 00:32:07</td>\n",
       "      <td>purchase</td>\n",
       "      <td>4.99</td>\n",
       "      <td>A</td>\n",
       "      <td>2020-12-07</td>\n",
       "      <td>Android</td>\n",
       "    </tr>\n",
       "    <tr>\n",
       "      <th>2</th>\n",
       "      <td>354D653172FF2A2D</td>\n",
       "      <td>2020-12-07 15:45:11</td>\n",
       "      <td>purchase</td>\n",
       "      <td>4.99</td>\n",
       "      <td>A</td>\n",
       "      <td>2020-12-07</td>\n",
       "      <td>Mac</td>\n",
       "    </tr>\n",
       "    <tr>\n",
       "      <th>3</th>\n",
       "      <td>7FCD34F47C13A9AC</td>\n",
       "      <td>2020-12-07 22:06:13</td>\n",
       "      <td>purchase</td>\n",
       "      <td>9.99</td>\n",
       "      <td>B</td>\n",
       "      <td>2020-12-07</td>\n",
       "      <td>PC</td>\n",
       "    </tr>\n",
       "    <tr>\n",
       "      <th>4</th>\n",
       "      <td>0313C457F07C339E</td>\n",
       "      <td>2020-12-07 13:10:48</td>\n",
       "      <td>purchase</td>\n",
       "      <td>9.99</td>\n",
       "      <td>A</td>\n",
       "      <td>2020-12-07</td>\n",
       "      <td>Mac</td>\n",
       "    </tr>\n",
       "  </tbody>\n",
       "</table>\n",
       "</div>"
      ],
      "text/plain": [
       "            user_id            event_dt event_name  details group first_date  \\\n",
       "0  96F27A054B191457 2020-12-07 04:02:40   purchase     4.99     B 2020-12-07   \n",
       "1  A92195E3CFB83DBD 2020-12-07 00:32:07   purchase     4.99     A 2020-12-07   \n",
       "2  354D653172FF2A2D 2020-12-07 15:45:11   purchase     4.99     A 2020-12-07   \n",
       "3  7FCD34F47C13A9AC 2020-12-07 22:06:13   purchase     9.99     B 2020-12-07   \n",
       "4  0313C457F07C339E 2020-12-07 13:10:48   purchase     9.99     A 2020-12-07   \n",
       "\n",
       "    device  \n",
       "0   iPhone  \n",
       "1  Android  \n",
       "2      Mac  \n",
       "3       PC  \n",
       "4      Mac  "
      ]
     },
     "execution_count": 48,
     "metadata": {},
     "output_type": "execute_result"
    }
   ],
   "source": [
    "df_ab_testing = df_test_events.merge(df_eu_test[['user_id', 'group']],\n",
    "                                     on='user_id', how='left').merge(df_new_eu_users[[\n",
    "                                         'user_id', 'first_date', 'device'\n",
    "                                     ]], on='user_id', how='left')\n",
    "\n",
    "df_ab_testing.head()"
   ]
  },
  {
   "cell_type": "code",
   "execution_count": 49,
   "metadata": {},
   "outputs": [
    {
     "data": {
      "text/plain": [
       "user_id       0\n",
       "event_dt      0\n",
       "event_name    0\n",
       "details       0\n",
       "group         0\n",
       "first_date    0\n",
       "device        0\n",
       "dtype: int64"
      ]
     },
     "execution_count": 49,
     "metadata": {},
     "output_type": "execute_result"
    },
    {
     "data": {
      "text/plain": [
       "0"
      ]
     },
     "execution_count": 49,
     "metadata": {},
     "output_type": "execute_result"
    }
   ],
   "source": [
    "# Checking some features after merging\n",
    "df_ab_testing.isna().sum()\n",
    "df_ab_testing.duplicated().sum()"
   ]
  },
  {
   "cell_type": "markdown",
   "metadata": {},
   "source": [
    "## Exploratory Data Analysis (EDA)"
   ]
  },
  {
   "cell_type": "markdown",
   "metadata": {},
   "source": [
    "### Study conversion at different funnel stages"
   ]
  },
  {
   "cell_type": "markdown",
   "metadata": {},
   "source": [
    "*The main goal of our test is to make sure that the total conversion [1] on each stage in Test Group B is better than the total conversion at the same stage in Control Group A.*\n",
    "\n",
    "[1] 'Total conversion is the ratio of users at a particular stage to the number of users at the first stage.'\n",
    "\n",
    "*Let's plot the funnel and compare the groups.*"
   ]
  },
  {
   "cell_type": "markdown",
   "metadata": {},
   "source": [
    "1) *Calculate the number of users for each stage in group A:*"
   ]
  },
  {
   "cell_type": "code",
   "execution_count": 50,
   "metadata": {},
   "outputs": [
    {
     "data": {
      "text/html": [
       "<div>\n",
       "<style scoped>\n",
       "    .dataframe tbody tr th:only-of-type {\n",
       "        vertical-align: middle;\n",
       "    }\n",
       "\n",
       "    .dataframe tbody tr th {\n",
       "        vertical-align: top;\n",
       "    }\n",
       "\n",
       "    .dataframe thead th {\n",
       "        text-align: right;\n",
       "    }\n",
       "</style>\n",
       "<table border=\"1\" class=\"dataframe\">\n",
       "  <thead>\n",
       "    <tr style=\"text-align: right;\">\n",
       "      <th></th>\n",
       "      <th>event_name</th>\n",
       "      <th>n_users</th>\n",
       "    </tr>\n",
       "  </thead>\n",
       "  <tbody>\n",
       "    <tr>\n",
       "      <th>0</th>\n",
       "      <td>login</td>\n",
       "      <td>11247</td>\n",
       "    </tr>\n",
       "    <tr>\n",
       "      <th>1</th>\n",
       "      <td>product_page</td>\n",
       "      <td>7515</td>\n",
       "    </tr>\n",
       "    <tr>\n",
       "      <th>2</th>\n",
       "      <td>purchase</td>\n",
       "      <td>4031</td>\n",
       "    </tr>\n",
       "    <tr>\n",
       "      <th>3</th>\n",
       "      <td>product_cart</td>\n",
       "      <td>3720</td>\n",
       "    </tr>\n",
       "  </tbody>\n",
       "</table>\n",
       "</div>"
      ],
      "text/plain": [
       "     event_name  n_users\n",
       "0         login    11247\n",
       "1  product_page     7515\n",
       "2      purchase     4031\n",
       "3  product_cart     3720"
      ]
     },
     "execution_count": 50,
     "metadata": {},
     "output_type": "execute_result"
    }
   ],
   "source": [
    "df_funnel_A = df_ab_testing[df_ab_testing['group'] == \"A\"].groupby(\n",
    "    ['event_name'])['user_id'].agg([\n",
    "        ('n_users', 'count')\n",
    "    ]).sort_values(by=['n_users'], ascending=False).reset_index()\n",
    "\n",
    "df_funnel_A"
   ]
  },
  {
   "cell_type": "markdown",
   "metadata": {},
   "source": [
    "2) *Calculating total conversion for each funnel stage in group A:*"
   ]
  },
  {
   "cell_type": "code",
   "execution_count": 51,
   "metadata": {},
   "outputs": [
    {
     "data": {
      "text/plain": [
       "11247"
      ]
     },
     "execution_count": 51,
     "metadata": {},
     "output_type": "execute_result"
    }
   ],
   "source": [
    "first_stage_A = df_funnel_A.iloc[0, 1]\n",
    "first_stage_A"
   ]
  },
  {
   "cell_type": "code",
   "execution_count": 52,
   "metadata": {},
   "outputs": [
    {
     "data": {
      "text/html": [
       "<div>\n",
       "<style scoped>\n",
       "    .dataframe tbody tr th:only-of-type {\n",
       "        vertical-align: middle;\n",
       "    }\n",
       "\n",
       "    .dataframe tbody tr th {\n",
       "        vertical-align: top;\n",
       "    }\n",
       "\n",
       "    .dataframe thead th {\n",
       "        text-align: right;\n",
       "    }\n",
       "</style>\n",
       "<table border=\"1\" class=\"dataframe\">\n",
       "  <thead>\n",
       "    <tr style=\"text-align: right;\">\n",
       "      <th></th>\n",
       "      <th>event_name</th>\n",
       "      <th>n_users</th>\n",
       "      <th>total_conversion</th>\n",
       "      <th>test_group</th>\n",
       "    </tr>\n",
       "  </thead>\n",
       "  <tbody>\n",
       "    <tr>\n",
       "      <th>0</th>\n",
       "      <td>login</td>\n",
       "      <td>11247</td>\n",
       "      <td>100.00</td>\n",
       "      <td>A</td>\n",
       "    </tr>\n",
       "    <tr>\n",
       "      <th>1</th>\n",
       "      <td>product_page</td>\n",
       "      <td>7515</td>\n",
       "      <td>66.82</td>\n",
       "      <td>A</td>\n",
       "    </tr>\n",
       "    <tr>\n",
       "      <th>2</th>\n",
       "      <td>purchase</td>\n",
       "      <td>4031</td>\n",
       "      <td>35.84</td>\n",
       "      <td>A</td>\n",
       "    </tr>\n",
       "    <tr>\n",
       "      <th>3</th>\n",
       "      <td>product_cart</td>\n",
       "      <td>3720</td>\n",
       "      <td>33.08</td>\n",
       "      <td>A</td>\n",
       "    </tr>\n",
       "  </tbody>\n",
       "</table>\n",
       "</div>"
      ],
      "text/plain": [
       "     event_name  n_users  total_conversion test_group\n",
       "0         login    11247            100.00          A\n",
       "1  product_page     7515             66.82          A\n",
       "2      purchase     4031             35.84          A\n",
       "3  product_cart     3720             33.08          A"
      ]
     },
     "execution_count": 52,
     "metadata": {},
     "output_type": "execute_result"
    }
   ],
   "source": [
    "df_funnel_A = df_funnel_A.assign(\n",
    "    total_conversion=lambda x: round(x.n_users / first_stage_A * 100, 2),\n",
    "    test_group='A')\n",
    "\n",
    "df_funnel_A"
   ]
  },
  {
   "cell_type": "markdown",
   "metadata": {},
   "source": [
    "*The same steps for the group B:*"
   ]
  },
  {
   "cell_type": "code",
   "execution_count": 53,
   "metadata": {},
   "outputs": [
    {
     "data": {
      "text/plain": [
       "10885"
      ]
     },
     "execution_count": 53,
     "metadata": {},
     "output_type": "execute_result"
    },
    {
     "data": {
      "text/html": [
       "<div>\n",
       "<style scoped>\n",
       "    .dataframe tbody tr th:only-of-type {\n",
       "        vertical-align: middle;\n",
       "    }\n",
       "\n",
       "    .dataframe tbody tr th {\n",
       "        vertical-align: top;\n",
       "    }\n",
       "\n",
       "    .dataframe thead th {\n",
       "        text-align: right;\n",
       "    }\n",
       "</style>\n",
       "<table border=\"1\" class=\"dataframe\">\n",
       "  <thead>\n",
       "    <tr style=\"text-align: right;\">\n",
       "      <th></th>\n",
       "      <th>event_name</th>\n",
       "      <th>n_users</th>\n",
       "      <th>total_conversion</th>\n",
       "      <th>test_group</th>\n",
       "    </tr>\n",
       "  </thead>\n",
       "  <tbody>\n",
       "    <tr>\n",
       "      <th>0</th>\n",
       "      <td>login</td>\n",
       "      <td>10885</td>\n",
       "      <td>100.00</td>\n",
       "      <td>B</td>\n",
       "    </tr>\n",
       "    <tr>\n",
       "      <th>1</th>\n",
       "      <td>product_page</td>\n",
       "      <td>7102</td>\n",
       "      <td>65.25</td>\n",
       "      <td>B</td>\n",
       "    </tr>\n",
       "    <tr>\n",
       "      <th>2</th>\n",
       "      <td>product_cart</td>\n",
       "      <td>3722</td>\n",
       "      <td>34.19</td>\n",
       "      <td>B</td>\n",
       "    </tr>\n",
       "    <tr>\n",
       "      <th>3</th>\n",
       "      <td>purchase</td>\n",
       "      <td>3626</td>\n",
       "      <td>33.31</td>\n",
       "      <td>B</td>\n",
       "    </tr>\n",
       "  </tbody>\n",
       "</table>\n",
       "</div>"
      ],
      "text/plain": [
       "     event_name  n_users  total_conversion test_group\n",
       "0         login    10885            100.00          B\n",
       "1  product_page     7102             65.25          B\n",
       "2  product_cart     3722             34.19          B\n",
       "3      purchase     3626             33.31          B"
      ]
     },
     "execution_count": 53,
     "metadata": {},
     "output_type": "execute_result"
    }
   ],
   "source": [
    "df_funnel_B = df_ab_testing[df_ab_testing['group'] == \"B\"].groupby(\n",
    "    ['event_name'])['user_id'].agg([\n",
    "        ('n_users', 'count')\n",
    "    ]).sort_values(by=['n_users'], ascending=False).reset_index()\n",
    "\n",
    "# df_funnel_B\n",
    "\n",
    "first_stage_B = df_funnel_B.iloc[0, 1]\n",
    "first_stage_B\n",
    "\n",
    "df_funnel_B = df_funnel_B.assign(\n",
    "    total_conversion=lambda x: round(x.n_users / first_stage_B * 100, 2),\n",
    "    test_group='B')\n",
    "\n",
    "df_funnel_B"
   ]
  },
  {
   "cell_type": "markdown",
   "metadata": {},
   "source": [
    "*Concatenating test groups and plotting funnel chart:*"
   ]
  },
  {
   "cell_type": "code",
   "execution_count": 54,
   "metadata": {
    "scrolled": false
   },
   "outputs": [
    {
     "data": {
      "text/html": [
       "<div>\n",
       "<style scoped>\n",
       "    .dataframe tbody tr th:only-of-type {\n",
       "        vertical-align: middle;\n",
       "    }\n",
       "\n",
       "    .dataframe tbody tr th {\n",
       "        vertical-align: top;\n",
       "    }\n",
       "\n",
       "    .dataframe thead th {\n",
       "        text-align: right;\n",
       "    }\n",
       "</style>\n",
       "<table border=\"1\" class=\"dataframe\">\n",
       "  <thead>\n",
       "    <tr style=\"text-align: right;\">\n",
       "      <th></th>\n",
       "      <th>event_name</th>\n",
       "      <th>n_users</th>\n",
       "      <th>total_conversion</th>\n",
       "      <th>test_group</th>\n",
       "    </tr>\n",
       "  </thead>\n",
       "  <tbody>\n",
       "    <tr>\n",
       "      <th>0</th>\n",
       "      <td>login</td>\n",
       "      <td>11247</td>\n",
       "      <td>100.00</td>\n",
       "      <td>A</td>\n",
       "    </tr>\n",
       "    <tr>\n",
       "      <th>1</th>\n",
       "      <td>product_page</td>\n",
       "      <td>7515</td>\n",
       "      <td>66.82</td>\n",
       "      <td>A</td>\n",
       "    </tr>\n",
       "    <tr>\n",
       "      <th>2</th>\n",
       "      <td>purchase</td>\n",
       "      <td>4031</td>\n",
       "      <td>35.84</td>\n",
       "      <td>A</td>\n",
       "    </tr>\n",
       "    <tr>\n",
       "      <th>3</th>\n",
       "      <td>product_cart</td>\n",
       "      <td>3720</td>\n",
       "      <td>33.08</td>\n",
       "      <td>A</td>\n",
       "    </tr>\n",
       "    <tr>\n",
       "      <th>0</th>\n",
       "      <td>login</td>\n",
       "      <td>10885</td>\n",
       "      <td>100.00</td>\n",
       "      <td>B</td>\n",
       "    </tr>\n",
       "    <tr>\n",
       "      <th>1</th>\n",
       "      <td>product_page</td>\n",
       "      <td>7102</td>\n",
       "      <td>65.25</td>\n",
       "      <td>B</td>\n",
       "    </tr>\n",
       "    <tr>\n",
       "      <th>2</th>\n",
       "      <td>product_cart</td>\n",
       "      <td>3722</td>\n",
       "      <td>34.19</td>\n",
       "      <td>B</td>\n",
       "    </tr>\n",
       "    <tr>\n",
       "      <th>3</th>\n",
       "      <td>purchase</td>\n",
       "      <td>3626</td>\n",
       "      <td>33.31</td>\n",
       "      <td>B</td>\n",
       "    </tr>\n",
       "  </tbody>\n",
       "</table>\n",
       "</div>"
      ],
      "text/plain": [
       "     event_name  n_users  total_conversion test_group\n",
       "0         login    11247            100.00          A\n",
       "1  product_page     7515             66.82          A\n",
       "2      purchase     4031             35.84          A\n",
       "3  product_cart     3720             33.08          A\n",
       "0         login    10885            100.00          B\n",
       "1  product_page     7102             65.25          B\n",
       "2  product_cart     3722             34.19          B\n",
       "3      purchase     3626             33.31          B"
      ]
     },
     "execution_count": 54,
     "metadata": {},
     "output_type": "execute_result"
    },
    {
     "data": {
      "application/vnd.plotly.v1+json": {
       "config": {
        "plotlyServerURL": "https://plot.ly"
       },
       "data": [
        {
         "hovertemplate": "Test groups:=A<br>total_conversion=%{x}<br> =%{y}<extra></extra>",
         "legendgroup": "A",
         "marker": {
          "color": "#1F77B4"
         },
         "name": "A",
         "orientation": "h",
         "showlegend": true,
         "type": "funnel",
         "x": [
          100,
          66.82,
          35.84,
          33.08
         ],
         "xaxis": "x",
         "y": [
          "login",
          "product_page",
          "purchase",
          "product_cart"
         ],
         "yaxis": "y"
        },
        {
         "hovertemplate": "Test groups:=B<br>total_conversion=%{x}<br> =%{y}<extra></extra>",
         "legendgroup": "B",
         "marker": {
          "color": "#FF7F0E"
         },
         "name": "B",
         "orientation": "h",
         "showlegend": true,
         "type": "funnel",
         "x": [
          100,
          65.25,
          34.19,
          33.31
         ],
         "xaxis": "x",
         "y": [
          "login",
          "product_page",
          "product_cart",
          "purchase"
         ],
         "yaxis": "y"
        }
       ],
       "layout": {
        "legend": {
         "title": {
          "text": "Test groups:"
         },
         "tracegroupgap": 0
        },
        "margin": {
         "t": 60
        },
        "template": {
         "data": {
          "scatter": [
           {
            "type": "scatter"
           }
          ]
         }
        },
        "xaxis": {
         "anchor": "y",
         "domain": [
          0,
          1
         ],
         "title": {
          "text": "total_conversion"
         }
        },
        "yaxis": {
         "anchor": "x",
         "domain": [
          0,
          1
         ],
         "title": {
          "text": " "
         }
        }
       }
      },
      "text/html": [
       "<div>                            <div id=\"ec18bebe-8ad5-42c4-9828-125ef6797fdd\" class=\"plotly-graph-div\" style=\"height:525px; width:100%;\"></div>            <script type=\"text/javascript\">                require([\"plotly\"], function(Plotly) {                    window.PLOTLYENV=window.PLOTLYENV || {};                                    if (document.getElementById(\"ec18bebe-8ad5-42c4-9828-125ef6797fdd\")) {                    Plotly.newPlot(                        \"ec18bebe-8ad5-42c4-9828-125ef6797fdd\",                        [{\"hovertemplate\":\"Test groups:=A<br>total_conversion=%{x}<br> =%{y}<extra></extra>\",\"legendgroup\":\"A\",\"marker\":{\"color\":\"#1F77B4\"},\"name\":\"A\",\"orientation\":\"h\",\"showlegend\":true,\"x\":[100.0,66.82,35.84,33.08],\"xaxis\":\"x\",\"y\":[\"login\",\"product_page\",\"purchase\",\"product_cart\"],\"yaxis\":\"y\",\"type\":\"funnel\"},{\"hovertemplate\":\"Test groups:=B<br>total_conversion=%{x}<br> =%{y}<extra></extra>\",\"legendgroup\":\"B\",\"marker\":{\"color\":\"#FF7F0E\"},\"name\":\"B\",\"orientation\":\"h\",\"showlegend\":true,\"x\":[100.0,65.25,34.19,33.31],\"xaxis\":\"x\",\"y\":[\"login\",\"product_page\",\"product_cart\",\"purchase\"],\"yaxis\":\"y\",\"type\":\"funnel\"}],                        {\"template\":{\"data\":{\"scatter\":[{\"type\":\"scatter\"}]}},\"xaxis\":{\"anchor\":\"y\",\"domain\":[0.0,1.0],\"title\":{\"text\":\"total_conversion\"}},\"yaxis\":{\"anchor\":\"x\",\"domain\":[0.0,1.0],\"title\":{\"text\":\" \"}},\"legend\":{\"title\":{\"text\":\"Test groups:\"},\"tracegroupgap\":0},\"margin\":{\"t\":60}},                        {\"responsive\": true}                    ).then(function(){\n",
       "                            \n",
       "var gd = document.getElementById('ec18bebe-8ad5-42c4-9828-125ef6797fdd');\n",
       "var x = new MutationObserver(function (mutations, observer) {{\n",
       "        var display = window.getComputedStyle(gd).display;\n",
       "        if (!display || display === 'none') {{\n",
       "            console.log([gd, 'removed!']);\n",
       "            Plotly.purge(gd);\n",
       "            observer.disconnect();\n",
       "        }}\n",
       "}});\n",
       "\n",
       "// Listen for the removal of the full notebook cells\n",
       "var notebookContainer = gd.closest('#notebook-container');\n",
       "if (notebookContainer) {{\n",
       "    x.observe(notebookContainer, {childList: true});\n",
       "}}\n",
       "\n",
       "// Listen for the clearing of the current output cell\n",
       "var outputEl = gd.closest('.output');\n",
       "if (outputEl) {{\n",
       "    x.observe(outputEl, {childList: true});\n",
       "}}\n",
       "\n",
       "                        })                };                });            </script>        </div>"
      ]
     },
     "metadata": {},
     "output_type": "display_data"
    }
   ],
   "source": [
    "df_funnel_shift = pd.concat([df_funnel_A, df_funnel_B], axis=0)\n",
    "df_funnel_shift\n",
    "\n",
    "fig = px.funnel(df_funnel_shift,\n",
    "                x='total_conversion',\n",
    "                y='event_name',\n",
    "                color='test_group',\n",
    "                labels={\n",
    "                    'event_name': ' ',\n",
    "                    'test_group': 'Test groups:'\n",
    "                })\n",
    "fig.show()"
   ]
  },
  {
   "cell_type": "markdown",
   "metadata": {},
   "source": [
    ">* According to the test, it was expected that 'At each stage of the funnel `product_page → product_cart → purchase`, there will be at least a 10% increase.\"\n",
    "* However, the funnel chart shows that the conversion in the control group A is even slightly higher than in the test group B in the first two stages.\n",
    "* Only the `purchase` stage showed 1.11% better in test group B than in group A.\n",
    "* Moreover, at `purchase` stage in group B, the total conversion is higher than at the previous stage. I assume this was due to the 'Buy Now' button, which allowed users to buy by skipping some steps."
   ]
  },
  {
   "cell_type": "markdown",
   "metadata": {},
   "source": [
    "### Is the number of events per user distributed equally in the samples?"
   ]
  },
  {
   "cell_type": "code",
   "execution_count": 88,
   "metadata": {},
   "outputs": [
    {
     "data": {
      "text/html": [
       "<div>\n",
       "<style scoped>\n",
       "    .dataframe tbody tr th:only-of-type {\n",
       "        vertical-align: middle;\n",
       "    }\n",
       "\n",
       "    .dataframe tbody tr th {\n",
       "        vertical-align: top;\n",
       "    }\n",
       "\n",
       "    .dataframe thead th {\n",
       "        text-align: right;\n",
       "    }\n",
       "</style>\n",
       "<table border=\"1\" class=\"dataframe\">\n",
       "  <thead>\n",
       "    <tr style=\"text-align: right;\">\n",
       "      <th></th>\n",
       "      <th>group</th>\n",
       "      <th>n_users</th>\n",
       "      <th>n_events</th>\n",
       "      <th>n_events_per_user</th>\n",
       "    </tr>\n",
       "  </thead>\n",
       "  <tbody>\n",
       "    <tr>\n",
       "      <th>0</th>\n",
       "      <td>A</td>\n",
       "      <td>4521</td>\n",
       "      <td>26513</td>\n",
       "      <td>5.86</td>\n",
       "    </tr>\n",
       "    <tr>\n",
       "      <th>1</th>\n",
       "      <td>B</td>\n",
       "      <td>4438</td>\n",
       "      <td>25335</td>\n",
       "      <td>5.71</td>\n",
       "    </tr>\n",
       "  </tbody>\n",
       "</table>\n",
       "</div>"
      ],
      "text/plain": [
       "  group  n_users  n_events  n_events_per_user\n",
       "0     A     4521     26513               5.86\n",
       "1     B     4438     25335               5.71"
      ]
     },
     "execution_count": 88,
     "metadata": {},
     "output_type": "execute_result"
    },
    {
     "data": {
      "application/vnd.plotly.v1+json": {
       "config": {
        "plotlyServerURL": "https://plot.ly"
       },
       "data": [
        {
         "domain": {
          "x": [
           0,
           1
          ],
          "y": [
           0,
           1
          ]
         },
         "hovertemplate": "group=%{label}<br>n_events=%{value}<extra></extra>",
         "labels": [
          "A",
          "B"
         ],
         "legendgroup": "",
         "name": "",
         "showlegend": true,
         "type": "pie",
         "values": [
          26513,
          25335
         ]
        }
       ],
       "layout": {
        "legend": {
         "tracegroupgap": 0
        },
        "template": {
         "data": {
          "scatter": [
           {
            "type": "scatter"
           }
          ]
         }
        },
        "title": {
         "text": "Distribution of the number of events per user"
        }
       }
      },
      "text/html": [
       "<div>                            <div id=\"63ee2438-c876-4f32-ad22-f473d11afeb4\" class=\"plotly-graph-div\" style=\"height:525px; width:100%;\"></div>            <script type=\"text/javascript\">                require([\"plotly\"], function(Plotly) {                    window.PLOTLYENV=window.PLOTLYENV || {};                                    if (document.getElementById(\"63ee2438-c876-4f32-ad22-f473d11afeb4\")) {                    Plotly.newPlot(                        \"63ee2438-c876-4f32-ad22-f473d11afeb4\",                        [{\"domain\":{\"x\":[0.0,1.0],\"y\":[0.0,1.0]},\"hovertemplate\":\"group=%{label}<br>n_events=%{value}<extra></extra>\",\"labels\":[\"A\",\"B\"],\"legendgroup\":\"\",\"name\":\"\",\"showlegend\":true,\"values\":[26513,25335],\"type\":\"pie\"}],                        {\"template\":{\"data\":{\"scatter\":[{\"type\":\"scatter\"}]}},\"legend\":{\"tracegroupgap\":0},\"title\":{\"text\":\"Distribution of the number of events per user\"}},                        {\"responsive\": true}                    ).then(function(){\n",
       "                            \n",
       "var gd = document.getElementById('63ee2438-c876-4f32-ad22-f473d11afeb4');\n",
       "var x = new MutationObserver(function (mutations, observer) {{\n",
       "        var display = window.getComputedStyle(gd).display;\n",
       "        if (!display || display === 'none') {{\n",
       "            console.log([gd, 'removed!']);\n",
       "            Plotly.purge(gd);\n",
       "            observer.disconnect();\n",
       "        }}\n",
       "}});\n",
       "\n",
       "// Listen for the removal of the full notebook cells\n",
       "var notebookContainer = gd.closest('#notebook-container');\n",
       "if (notebookContainer) {{\n",
       "    x.observe(notebookContainer, {childList: true});\n",
       "}}\n",
       "\n",
       "// Listen for the clearing of the current output cell\n",
       "var outputEl = gd.closest('.output');\n",
       "if (outputEl) {{\n",
       "    x.observe(outputEl, {childList: true});\n",
       "}}\n",
       "\n",
       "                        })                };                });            </script>        </div>"
      ]
     },
     "metadata": {},
     "output_type": "display_data"
    }
   ],
   "source": [
    "tm_events_per_user = df_ab_testing.groupby(['group']).agg({\n",
    "    'user_id': 'nunique',\n",
    "    'event_dt': 'count'\n",
    "}).rename(columns={\n",
    "    'user_id': 'n_users',\n",
    "    'event_dt': 'n_events'\n",
    "}).reset_index()\n",
    "\n",
    "tm_events_per_user['n_events_per_user'] = round(tm_events_per_user.n_events / tm_events_per_user.n_users, 2)\n",
    "tm_events_per_user\n",
    "\n",
    "fig = px.pie(\n",
    "    tm_events_per_user,\n",
    "    values='n_events',\n",
    "    names='group',\n",
    "    #              color='region',\n",
    "    title='Distribution of the number of events per user')\n",
    "\n",
    "fig.show()"
   ]
  },
  {
   "cell_type": "markdown",
   "metadata": {},
   "source": [
    ">*As we can see, the share of users and events is close to 50/50.\n",
    "<br>Thus, we can claim that the number of events per user distributed equally in the samples*"
   ]
  },
  {
   "cell_type": "markdown",
   "metadata": {},
   "source": [
    "### Are there users who enter both samples?"
   ]
  },
  {
   "cell_type": "code",
   "execution_count": 56,
   "metadata": {},
   "outputs": [
    {
     "data": {
      "text/plain": [
       "0"
      ]
     },
     "execution_count": 56,
     "metadata": {},
     "output_type": "execute_result"
    }
   ],
   "source": [
    "len(\n",
    "    df_ab_testing.groupby(['user_id']).agg({\n",
    "        'group': 'nunique'\n",
    "    }).reset_index().query('group == 2'))"
   ]
  },
  {
   "cell_type": "markdown",
   "metadata": {},
   "source": [
    ">*There is no users who enter both samples.*"
   ]
  },
  {
   "cell_type": "markdown",
   "metadata": {},
   "source": [
    "### How is the number of events distributed by days?"
   ]
  },
  {
   "cell_type": "markdown",
   "metadata": {},
   "source": [
    "*To answer this question, let's create an additional column `event-date`:*"
   ]
  },
  {
   "cell_type": "code",
   "execution_count": 57,
   "metadata": {},
   "outputs": [
    {
     "data": {
      "text/html": [
       "<div>\n",
       "<style scoped>\n",
       "    .dataframe tbody tr th:only-of-type {\n",
       "        vertical-align: middle;\n",
       "    }\n",
       "\n",
       "    .dataframe tbody tr th {\n",
       "        vertical-align: top;\n",
       "    }\n",
       "\n",
       "    .dataframe thead th {\n",
       "        text-align: right;\n",
       "    }\n",
       "</style>\n",
       "<table border=\"1\" class=\"dataframe\">\n",
       "  <thead>\n",
       "    <tr style=\"text-align: right;\">\n",
       "      <th></th>\n",
       "      <th>user_id</th>\n",
       "      <th>event_dt</th>\n",
       "      <th>event_name</th>\n",
       "      <th>details</th>\n",
       "      <th>group</th>\n",
       "      <th>first_date</th>\n",
       "      <th>device</th>\n",
       "      <th>event_date</th>\n",
       "    </tr>\n",
       "  </thead>\n",
       "  <tbody>\n",
       "    <tr>\n",
       "      <th>0</th>\n",
       "      <td>96F27A054B191457</td>\n",
       "      <td>2020-12-07 04:02:40</td>\n",
       "      <td>purchase</td>\n",
       "      <td>4.99</td>\n",
       "      <td>B</td>\n",
       "      <td>2020-12-07</td>\n",
       "      <td>iPhone</td>\n",
       "      <td>2020-12-07</td>\n",
       "    </tr>\n",
       "    <tr>\n",
       "      <th>1</th>\n",
       "      <td>A92195E3CFB83DBD</td>\n",
       "      <td>2020-12-07 00:32:07</td>\n",
       "      <td>purchase</td>\n",
       "      <td>4.99</td>\n",
       "      <td>A</td>\n",
       "      <td>2020-12-07</td>\n",
       "      <td>Android</td>\n",
       "      <td>2020-12-07</td>\n",
       "    </tr>\n",
       "  </tbody>\n",
       "</table>\n",
       "</div>"
      ],
      "text/plain": [
       "            user_id            event_dt event_name  details group first_date  \\\n",
       "0  96F27A054B191457 2020-12-07 04:02:40   purchase     4.99     B 2020-12-07   \n",
       "1  A92195E3CFB83DBD 2020-12-07 00:32:07   purchase     4.99     A 2020-12-07   \n",
       "\n",
       "    device event_date  \n",
       "0   iPhone 2020-12-07  \n",
       "1  Android 2020-12-07  "
      ]
     },
     "execution_count": 57,
     "metadata": {},
     "output_type": "execute_result"
    }
   ],
   "source": [
    "df_ab_testing['event_date'] = get_day(df_ab_testing, 'event_dt')\n",
    "df_ab_testing.head(2)"
   ]
  },
  {
   "cell_type": "markdown",
   "metadata": {},
   "source": [
    ">*Number of total daily events:*"
   ]
  },
  {
   "cell_type": "code",
   "execution_count": 89,
   "metadata": {},
   "outputs": [
    {
     "data": {
      "text/html": [
       "<div>\n",
       "<style scoped>\n",
       "    .dataframe tbody tr th:only-of-type {\n",
       "        vertical-align: middle;\n",
       "    }\n",
       "\n",
       "    .dataframe tbody tr th {\n",
       "        vertical-align: top;\n",
       "    }\n",
       "\n",
       "    .dataframe thead th {\n",
       "        text-align: right;\n",
       "    }\n",
       "</style>\n",
       "<table border=\"1\" class=\"dataframe\">\n",
       "  <thead>\n",
       "    <tr style=\"text-align: right;\">\n",
       "      <th></th>\n",
       "      <th>event_date</th>\n",
       "      <th>n_events</th>\n",
       "    </tr>\n",
       "  </thead>\n",
       "  <tbody>\n",
       "    <tr>\n",
       "      <th>0</th>\n",
       "      <td>2020-12-07</td>\n",
       "      <td>1883</td>\n",
       "    </tr>\n",
       "    <tr>\n",
       "      <th>1</th>\n",
       "      <td>2020-12-08</td>\n",
       "      <td>2168</td>\n",
       "    </tr>\n",
       "    <tr>\n",
       "      <th>2</th>\n",
       "      <td>2020-12-09</td>\n",
       "      <td>2156</td>\n",
       "    </tr>\n",
       "    <tr>\n",
       "      <th>3</th>\n",
       "      <td>2020-12-10</td>\n",
       "      <td>2399</td>\n",
       "    </tr>\n",
       "    <tr>\n",
       "      <th>4</th>\n",
       "      <td>2020-12-11</td>\n",
       "      <td>2465</td>\n",
       "    </tr>\n",
       "  </tbody>\n",
       "</table>\n",
       "</div>"
      ],
      "text/plain": [
       "  event_date  n_events\n",
       "0 2020-12-07      1883\n",
       "1 2020-12-08      2168\n",
       "2 2020-12-09      2156\n",
       "3 2020-12-10      2399\n",
       "4 2020-12-11      2465"
      ]
     },
     "execution_count": 89,
     "metadata": {},
     "output_type": "execute_result"
    },
    {
     "data": {
      "application/vnd.plotly.v1+json": {
       "config": {
        "plotlyServerURL": "https://plot.ly"
       },
       "data": [
        {
         "hovertemplate": "Event Date=%{x}<br>Number of events=%{y}<extra></extra>",
         "legendgroup": "",
         "line": {
          "color": "#1F77B4",
          "dash": "solid"
         },
         "marker": {
          "symbol": "circle"
         },
         "mode": "lines",
         "name": "",
         "orientation": "v",
         "showlegend": false,
         "type": "scatter",
         "x": [
          "2020-12-07T00:00:00",
          "2020-12-08T00:00:00",
          "2020-12-09T00:00:00",
          "2020-12-10T00:00:00",
          "2020-12-11T00:00:00",
          "2020-12-12T00:00:00",
          "2020-12-13T00:00:00",
          "2020-12-14T00:00:00",
          "2020-12-15T00:00:00",
          "2020-12-16T00:00:00",
          "2020-12-17T00:00:00",
          "2020-12-18T00:00:00",
          "2020-12-19T00:00:00",
          "2020-12-20T00:00:00",
          "2020-12-21T00:00:00"
         ],
         "xaxis": "x",
         "y": [
          1883,
          2168,
          2156,
          2399,
          2465,
          3360,
          3838,
          4468,
          4025,
          3663,
          3703,
          3824,
          3958,
          4422,
          5516
         ],
         "yaxis": "y"
        }
       ],
       "layout": {
        "legend": {
         "tracegroupgap": 0
        },
        "template": {
         "data": {
          "scatter": [
           {
            "type": "scatter"
           }
          ]
         }
        },
        "title": {
         "text": "Number of total daily events"
        },
        "xaxis": {
         "anchor": "y",
         "domain": [
          0,
          1
         ],
         "title": {
          "text": "Event Date"
         }
        },
        "yaxis": {
         "anchor": "x",
         "domain": [
          0,
          1
         ],
         "title": {
          "text": "Number of events"
         }
        }
       }
      },
      "text/html": [
       "<div>                            <div id=\"52954b12-0e39-4f99-88ca-d7382ee2e7a4\" class=\"plotly-graph-div\" style=\"height:525px; width:100%;\"></div>            <script type=\"text/javascript\">                require([\"plotly\"], function(Plotly) {                    window.PLOTLYENV=window.PLOTLYENV || {};                                    if (document.getElementById(\"52954b12-0e39-4f99-88ca-d7382ee2e7a4\")) {                    Plotly.newPlot(                        \"52954b12-0e39-4f99-88ca-d7382ee2e7a4\",                        [{\"hovertemplate\":\"Event Date=%{x}<br>Number of events=%{y}<extra></extra>\",\"legendgroup\":\"\",\"line\":{\"color\":\"#1F77B4\",\"dash\":\"solid\"},\"marker\":{\"symbol\":\"circle\"},\"mode\":\"lines\",\"name\":\"\",\"orientation\":\"v\",\"showlegend\":false,\"x\":[\"2020-12-07T00:00:00\",\"2020-12-08T00:00:00\",\"2020-12-09T00:00:00\",\"2020-12-10T00:00:00\",\"2020-12-11T00:00:00\",\"2020-12-12T00:00:00\",\"2020-12-13T00:00:00\",\"2020-12-14T00:00:00\",\"2020-12-15T00:00:00\",\"2020-12-16T00:00:00\",\"2020-12-17T00:00:00\",\"2020-12-18T00:00:00\",\"2020-12-19T00:00:00\",\"2020-12-20T00:00:00\",\"2020-12-21T00:00:00\"],\"xaxis\":\"x\",\"y\":[1883,2168,2156,2399,2465,3360,3838,4468,4025,3663,3703,3824,3958,4422,5516],\"yaxis\":\"y\",\"type\":\"scatter\"}],                        {\"template\":{\"data\":{\"scatter\":[{\"type\":\"scatter\"}]}},\"xaxis\":{\"anchor\":\"y\",\"domain\":[0.0,1.0],\"title\":{\"text\":\"Event Date\"}},\"yaxis\":{\"anchor\":\"x\",\"domain\":[0.0,1.0],\"title\":{\"text\":\"Number of events\"}},\"legend\":{\"tracegroupgap\":0},\"title\":{\"text\":\"Number of total daily events\"}},                        {\"responsive\": true}                    ).then(function(){\n",
       "                            \n",
       "var gd = document.getElementById('52954b12-0e39-4f99-88ca-d7382ee2e7a4');\n",
       "var x = new MutationObserver(function (mutations, observer) {{\n",
       "        var display = window.getComputedStyle(gd).display;\n",
       "        if (!display || display === 'none') {{\n",
       "            console.log([gd, 'removed!']);\n",
       "            Plotly.purge(gd);\n",
       "            observer.disconnect();\n",
       "        }}\n",
       "}});\n",
       "\n",
       "// Listen for the removal of the full notebook cells\n",
       "var notebookContainer = gd.closest('#notebook-container');\n",
       "if (notebookContainer) {{\n",
       "    x.observe(notebookContainer, {childList: true});\n",
       "}}\n",
       "\n",
       "// Listen for the clearing of the current output cell\n",
       "var outputEl = gd.closest('.output');\n",
       "if (outputEl) {{\n",
       "    x.observe(outputEl, {childList: true});\n",
       "}}\n",
       "\n",
       "                        })                };                });            </script>        </div>"
      ]
     },
     "metadata": {},
     "output_type": "display_data"
    }
   ],
   "source": [
    "tm_events_per_day = df_ab_testing.groupby('event_date')['event_name'].agg([\n",
    "    ('n_events', 'count')\n",
    "]).reset_index()\n",
    "tm_events_per_day.head()\n",
    "\n",
    "fig = px.line(tm_events_per_day,\n",
    "              x=\"event_date\",\n",
    "              y=\"n_events\",\n",
    "              title='Number of total daily events',\n",
    "              labels={\n",
    "                  'n_events': 'Number of events',\n",
    "                  'event_date': 'Event Date'\n",
    "              })\n",
    "\n",
    "fig.show()"
   ]
  },
  {
   "cell_type": "markdown",
   "metadata": {},
   "source": [
    ">*Number of total daily events per test groups:*"
   ]
  },
  {
   "cell_type": "code",
   "execution_count": 90,
   "metadata": {},
   "outputs": [
    {
     "data": {
      "text/html": [
       "<div>\n",
       "<style scoped>\n",
       "    .dataframe tbody tr th:only-of-type {\n",
       "        vertical-align: middle;\n",
       "    }\n",
       "\n",
       "    .dataframe tbody tr th {\n",
       "        vertical-align: top;\n",
       "    }\n",
       "\n",
       "    .dataframe thead th {\n",
       "        text-align: right;\n",
       "    }\n",
       "</style>\n",
       "<table border=\"1\" class=\"dataframe\">\n",
       "  <thead>\n",
       "    <tr style=\"text-align: right;\">\n",
       "      <th></th>\n",
       "      <th>event_date</th>\n",
       "      <th>group</th>\n",
       "      <th>n_events</th>\n",
       "    </tr>\n",
       "  </thead>\n",
       "  <tbody>\n",
       "    <tr>\n",
       "      <th>0</th>\n",
       "      <td>2020-12-07</td>\n",
       "      <td>A</td>\n",
       "      <td>955</td>\n",
       "    </tr>\n",
       "    <tr>\n",
       "      <th>1</th>\n",
       "      <td>2020-12-07</td>\n",
       "      <td>B</td>\n",
       "      <td>928</td>\n",
       "    </tr>\n",
       "    <tr>\n",
       "      <th>2</th>\n",
       "      <td>2020-12-08</td>\n",
       "      <td>A</td>\n",
       "      <td>1070</td>\n",
       "    </tr>\n",
       "    <tr>\n",
       "      <th>3</th>\n",
       "      <td>2020-12-08</td>\n",
       "      <td>B</td>\n",
       "      <td>1098</td>\n",
       "    </tr>\n",
       "    <tr>\n",
       "      <th>4</th>\n",
       "      <td>2020-12-09</td>\n",
       "      <td>A</td>\n",
       "      <td>1084</td>\n",
       "    </tr>\n",
       "  </tbody>\n",
       "</table>\n",
       "</div>"
      ],
      "text/plain": [
       "  event_date group  n_events\n",
       "0 2020-12-07     A       955\n",
       "1 2020-12-07     B       928\n",
       "2 2020-12-08     A      1070\n",
       "3 2020-12-08     B      1098\n",
       "4 2020-12-09     A      1084"
      ]
     },
     "execution_count": 90,
     "metadata": {},
     "output_type": "execute_result"
    },
    {
     "data": {
      "application/vnd.plotly.v1+json": {
       "config": {
        "plotlyServerURL": "https://plot.ly"
       },
       "data": [
        {
         "hovertemplate": "Test groups:=A<br>Event Date=%{x}<br>Number of events=%{y}<extra></extra>",
         "legendgroup": "A",
         "line": {
          "color": "#1F77B4",
          "dash": "solid"
         },
         "marker": {
          "symbol": "circle"
         },
         "mode": "lines",
         "name": "A",
         "orientation": "v",
         "showlegend": true,
         "type": "scatter",
         "x": [
          "2020-12-07T00:00:00",
          "2020-12-08T00:00:00",
          "2020-12-09T00:00:00",
          "2020-12-10T00:00:00",
          "2020-12-11T00:00:00",
          "2020-12-12T00:00:00",
          "2020-12-13T00:00:00",
          "2020-12-14T00:00:00",
          "2020-12-15T00:00:00",
          "2020-12-16T00:00:00",
          "2020-12-17T00:00:00",
          "2020-12-18T00:00:00",
          "2020-12-19T00:00:00",
          "2020-12-20T00:00:00",
          "2020-12-21T00:00:00"
         ],
         "xaxis": "x",
         "y": [
          955,
          1070,
          1084,
          1204,
          1231,
          1753,
          1948,
          2340,
          2052,
          1941,
          1907,
          1983,
          2019,
          2278,
          2748
         ],
         "yaxis": "y"
        },
        {
         "hovertemplate": "Test groups:=B<br>Event Date=%{x}<br>Number of events=%{y}<extra></extra>",
         "legendgroup": "B",
         "line": {
          "color": "#FF7F0E",
          "dash": "solid"
         },
         "marker": {
          "symbol": "circle"
         },
         "mode": "lines",
         "name": "B",
         "orientation": "v",
         "showlegend": true,
         "type": "scatter",
         "x": [
          "2020-12-07T00:00:00",
          "2020-12-08T00:00:00",
          "2020-12-09T00:00:00",
          "2020-12-10T00:00:00",
          "2020-12-11T00:00:00",
          "2020-12-12T00:00:00",
          "2020-12-13T00:00:00",
          "2020-12-14T00:00:00",
          "2020-12-15T00:00:00",
          "2020-12-16T00:00:00",
          "2020-12-17T00:00:00",
          "2020-12-18T00:00:00",
          "2020-12-19T00:00:00",
          "2020-12-20T00:00:00",
          "2020-12-21T00:00:00"
         ],
         "xaxis": "x",
         "y": [
          928,
          1098,
          1072,
          1195,
          1234,
          1607,
          1890,
          2128,
          1973,
          1722,
          1796,
          1841,
          1939,
          2144,
          2768
         ],
         "yaxis": "y"
        }
       ],
       "layout": {
        "legend": {
         "title": {
          "text": "Test groups:"
         },
         "tracegroupgap": 0
        },
        "template": {
         "data": {
          "scatter": [
           {
            "type": "scatter"
           }
          ]
         }
        },
        "title": {
         "text": "Number of total daily events per group"
        },
        "xaxis": {
         "anchor": "y",
         "domain": [
          0,
          1
         ],
         "title": {
          "text": "Event Date"
         }
        },
        "yaxis": {
         "anchor": "x",
         "domain": [
          0,
          1
         ],
         "title": {
          "text": "Number of events"
         }
        }
       }
      },
      "text/html": [
       "<div>                            <div id=\"c55f3535-a8b3-4857-bdc7-b5192ab6aefc\" class=\"plotly-graph-div\" style=\"height:525px; width:100%;\"></div>            <script type=\"text/javascript\">                require([\"plotly\"], function(Plotly) {                    window.PLOTLYENV=window.PLOTLYENV || {};                                    if (document.getElementById(\"c55f3535-a8b3-4857-bdc7-b5192ab6aefc\")) {                    Plotly.newPlot(                        \"c55f3535-a8b3-4857-bdc7-b5192ab6aefc\",                        [{\"hovertemplate\":\"Test groups:=A<br>Event Date=%{x}<br>Number of events=%{y}<extra></extra>\",\"legendgroup\":\"A\",\"line\":{\"color\":\"#1F77B4\",\"dash\":\"solid\"},\"marker\":{\"symbol\":\"circle\"},\"mode\":\"lines\",\"name\":\"A\",\"orientation\":\"v\",\"showlegend\":true,\"x\":[\"2020-12-07T00:00:00\",\"2020-12-08T00:00:00\",\"2020-12-09T00:00:00\",\"2020-12-10T00:00:00\",\"2020-12-11T00:00:00\",\"2020-12-12T00:00:00\",\"2020-12-13T00:00:00\",\"2020-12-14T00:00:00\",\"2020-12-15T00:00:00\",\"2020-12-16T00:00:00\",\"2020-12-17T00:00:00\",\"2020-12-18T00:00:00\",\"2020-12-19T00:00:00\",\"2020-12-20T00:00:00\",\"2020-12-21T00:00:00\"],\"xaxis\":\"x\",\"y\":[955,1070,1084,1204,1231,1753,1948,2340,2052,1941,1907,1983,2019,2278,2748],\"yaxis\":\"y\",\"type\":\"scatter\"},{\"hovertemplate\":\"Test groups:=B<br>Event Date=%{x}<br>Number of events=%{y}<extra></extra>\",\"legendgroup\":\"B\",\"line\":{\"color\":\"#FF7F0E\",\"dash\":\"solid\"},\"marker\":{\"symbol\":\"circle\"},\"mode\":\"lines\",\"name\":\"B\",\"orientation\":\"v\",\"showlegend\":true,\"x\":[\"2020-12-07T00:00:00\",\"2020-12-08T00:00:00\",\"2020-12-09T00:00:00\",\"2020-12-10T00:00:00\",\"2020-12-11T00:00:00\",\"2020-12-12T00:00:00\",\"2020-12-13T00:00:00\",\"2020-12-14T00:00:00\",\"2020-12-15T00:00:00\",\"2020-12-16T00:00:00\",\"2020-12-17T00:00:00\",\"2020-12-18T00:00:00\",\"2020-12-19T00:00:00\",\"2020-12-20T00:00:00\",\"2020-12-21T00:00:00\"],\"xaxis\":\"x\",\"y\":[928,1098,1072,1195,1234,1607,1890,2128,1973,1722,1796,1841,1939,2144,2768],\"yaxis\":\"y\",\"type\":\"scatter\"}],                        {\"template\":{\"data\":{\"scatter\":[{\"type\":\"scatter\"}]}},\"xaxis\":{\"anchor\":\"y\",\"domain\":[0.0,1.0],\"title\":{\"text\":\"Event Date\"}},\"yaxis\":{\"anchor\":\"x\",\"domain\":[0.0,1.0],\"title\":{\"text\":\"Number of events\"}},\"legend\":{\"title\":{\"text\":\"Test groups:\"},\"tracegroupgap\":0},\"title\":{\"text\":\"Number of total daily events per group\"}},                        {\"responsive\": true}                    ).then(function(){\n",
       "                            \n",
       "var gd = document.getElementById('c55f3535-a8b3-4857-bdc7-b5192ab6aefc');\n",
       "var x = new MutationObserver(function (mutations, observer) {{\n",
       "        var display = window.getComputedStyle(gd).display;\n",
       "        if (!display || display === 'none') {{\n",
       "            console.log([gd, 'removed!']);\n",
       "            Plotly.purge(gd);\n",
       "            observer.disconnect();\n",
       "        }}\n",
       "}});\n",
       "\n",
       "// Listen for the removal of the full notebook cells\n",
       "var notebookContainer = gd.closest('#notebook-container');\n",
       "if (notebookContainer) {{\n",
       "    x.observe(notebookContainer, {childList: true});\n",
       "}}\n",
       "\n",
       "// Listen for the clearing of the current output cell\n",
       "var outputEl = gd.closest('.output');\n",
       "if (outputEl) {{\n",
       "    x.observe(outputEl, {childList: true});\n",
       "}}\n",
       "\n",
       "                        })                };                });            </script>        </div>"
      ]
     },
     "metadata": {},
     "output_type": "display_data"
    }
   ],
   "source": [
    "tm_events_per_group = df_ab_testing.groupby(['event_date', 'group'])['event_dt'].agg([\n",
    "    ('n_events', 'count')\n",
    "]).reset_index()\n",
    "tm_events_per_group.head()\n",
    "\n",
    "fig = px.line(tm_events_per_group,\n",
    "              x=\"event_date\",\n",
    "              y=\"n_events\",\n",
    "              color='group',\n",
    "              title='Number of total daily events per group',\n",
    "              labels={\n",
    "                  'n_events': 'Number of events',\n",
    "                  'event_date': 'Event Date',\n",
    "                  'group': 'Test groups:'\n",
    "              })\n",
    "\n",
    "fig.show()"
   ]
  },
  {
   "cell_type": "markdown",
   "metadata": {},
   "source": [
    ">*Number of total daily events by event name:*"
   ]
  },
  {
   "cell_type": "code",
   "execution_count": 91,
   "metadata": {},
   "outputs": [
    {
     "data": {
      "text/html": [
       "<div>\n",
       "<style scoped>\n",
       "    .dataframe tbody tr th:only-of-type {\n",
       "        vertical-align: middle;\n",
       "    }\n",
       "\n",
       "    .dataframe tbody tr th {\n",
       "        vertical-align: top;\n",
       "    }\n",
       "\n",
       "    .dataframe thead th {\n",
       "        text-align: right;\n",
       "    }\n",
       "</style>\n",
       "<table border=\"1\" class=\"dataframe\">\n",
       "  <thead>\n",
       "    <tr style=\"text-align: right;\">\n",
       "      <th></th>\n",
       "      <th>event_date</th>\n",
       "      <th>event_name</th>\n",
       "      <th>n_events</th>\n",
       "    </tr>\n",
       "  </thead>\n",
       "  <tbody>\n",
       "    <tr>\n",
       "      <th>0</th>\n",
       "      <td>2020-12-07</td>\n",
       "      <td>login</td>\n",
       "      <td>817</td>\n",
       "    </tr>\n",
       "    <tr>\n",
       "      <th>1</th>\n",
       "      <td>2020-12-07</td>\n",
       "      <td>product_cart</td>\n",
       "      <td>250</td>\n",
       "    </tr>\n",
       "    <tr>\n",
       "      <th>2</th>\n",
       "      <td>2020-12-07</td>\n",
       "      <td>product_page</td>\n",
       "      <td>535</td>\n",
       "    </tr>\n",
       "    <tr>\n",
       "      <th>3</th>\n",
       "      <td>2020-12-07</td>\n",
       "      <td>purchase</td>\n",
       "      <td>281</td>\n",
       "    </tr>\n",
       "    <tr>\n",
       "      <th>4</th>\n",
       "      <td>2020-12-08</td>\n",
       "      <td>login</td>\n",
       "      <td>926</td>\n",
       "    </tr>\n",
       "  </tbody>\n",
       "</table>\n",
       "</div>"
      ],
      "text/plain": [
       "  event_date    event_name  n_events\n",
       "0 2020-12-07         login       817\n",
       "1 2020-12-07  product_cart       250\n",
       "2 2020-12-07  product_page       535\n",
       "3 2020-12-07      purchase       281\n",
       "4 2020-12-08         login       926"
      ]
     },
     "execution_count": 91,
     "metadata": {},
     "output_type": "execute_result"
    },
    {
     "data": {
      "application/vnd.plotly.v1+json": {
       "config": {
        "plotlyServerURL": "https://plot.ly"
       },
       "data": [
        {
         "hovertemplate": "Events:=login<br>Event Date=%{x}<br>Number of events=%{y}<extra></extra>",
         "legendgroup": "login",
         "line": {
          "color": "#1F77B4",
          "dash": "solid"
         },
         "marker": {
          "symbol": "circle"
         },
         "mode": "lines",
         "name": "login",
         "orientation": "v",
         "showlegend": true,
         "type": "scatter",
         "x": [
          "2020-12-07T00:00:00",
          "2020-12-08T00:00:00",
          "2020-12-09T00:00:00",
          "2020-12-10T00:00:00",
          "2020-12-11T00:00:00",
          "2020-12-12T00:00:00",
          "2020-12-13T00:00:00",
          "2020-12-14T00:00:00",
          "2020-12-15T00:00:00",
          "2020-12-16T00:00:00",
          "2020-12-17T00:00:00",
          "2020-12-18T00:00:00",
          "2020-12-19T00:00:00",
          "2020-12-20T00:00:00",
          "2020-12-21T00:00:00"
         ],
         "xaxis": "x",
         "y": [
          817,
          926,
          915,
          998,
          1041,
          1419,
          1625,
          1921,
          1736,
          1559,
          1596,
          1665,
          1685,
          1892,
          2337
         ],
         "yaxis": "y"
        },
        {
         "hovertemplate": "Events:=product_cart<br>Event Date=%{x}<br>Number of events=%{y}<extra></extra>",
         "legendgroup": "product_cart",
         "line": {
          "color": "#FF7F0E",
          "dash": "solid"
         },
         "marker": {
          "symbol": "circle"
         },
         "mode": "lines",
         "name": "product_cart",
         "orientation": "v",
         "showlegend": true,
         "type": "scatter",
         "x": [
          "2020-12-07T00:00:00",
          "2020-12-08T00:00:00",
          "2020-12-09T00:00:00",
          "2020-12-10T00:00:00",
          "2020-12-11T00:00:00",
          "2020-12-12T00:00:00",
          "2020-12-13T00:00:00",
          "2020-12-14T00:00:00",
          "2020-12-15T00:00:00",
          "2020-12-16T00:00:00",
          "2020-12-17T00:00:00",
          "2020-12-18T00:00:00",
          "2020-12-19T00:00:00",
          "2020-12-20T00:00:00",
          "2020-12-21T00:00:00"
         ],
         "xaxis": "x",
         "y": [
          250,
          295,
          321,
          349,
          350,
          514,
          560,
          626,
          574,
          521,
          516,
          550,
          584,
          631,
          801
         ],
         "yaxis": "y"
        },
        {
         "hovertemplate": "Events:=product_page<br>Event Date=%{x}<br>Number of events=%{y}<extra></extra>",
         "legendgroup": "product_page",
         "line": {
          "color": "#2CA02C",
          "dash": "solid"
         },
         "marker": {
          "symbol": "circle"
         },
         "mode": "lines",
         "name": "product_page",
         "orientation": "v",
         "showlegend": true,
         "type": "scatter",
         "x": [
          "2020-12-07T00:00:00",
          "2020-12-08T00:00:00",
          "2020-12-09T00:00:00",
          "2020-12-10T00:00:00",
          "2020-12-11T00:00:00",
          "2020-12-12T00:00:00",
          "2020-12-13T00:00:00",
          "2020-12-14T00:00:00",
          "2020-12-15T00:00:00",
          "2020-12-16T00:00:00",
          "2020-12-17T00:00:00",
          "2020-12-18T00:00:00",
          "2020-12-19T00:00:00",
          "2020-12-20T00:00:00",
          "2020-12-21T00:00:00"
         ],
         "xaxis": "x",
         "y": [
          535,
          623,
          603,
          688,
          712,
          942,
          1081,
          1242,
          1143,
          1021,
          1052,
          1063,
          1121,
          1227,
          1564
         ],
         "yaxis": "y"
        },
        {
         "hovertemplate": "Events:=purchase<br>Event Date=%{x}<br>Number of events=%{y}<extra></extra>",
         "legendgroup": "purchase",
         "line": {
          "color": "#D62728",
          "dash": "solid"
         },
         "marker": {
          "symbol": "circle"
         },
         "mode": "lines",
         "name": "purchase",
         "orientation": "v",
         "showlegend": true,
         "type": "scatter",
         "x": [
          "2020-12-07T00:00:00",
          "2020-12-08T00:00:00",
          "2020-12-09T00:00:00",
          "2020-12-10T00:00:00",
          "2020-12-11T00:00:00",
          "2020-12-12T00:00:00",
          "2020-12-13T00:00:00",
          "2020-12-14T00:00:00",
          "2020-12-15T00:00:00",
          "2020-12-16T00:00:00",
          "2020-12-17T00:00:00",
          "2020-12-18T00:00:00",
          "2020-12-19T00:00:00",
          "2020-12-20T00:00:00",
          "2020-12-21T00:00:00"
         ],
         "xaxis": "x",
         "y": [
          281,
          324,
          317,
          364,
          362,
          485,
          572,
          679,
          572,
          562,
          539,
          546,
          568,
          672,
          814
         ],
         "yaxis": "y"
        }
       ],
       "layout": {
        "legend": {
         "title": {
          "text": "Events:"
         },
         "tracegroupgap": 0
        },
        "template": {
         "data": {
          "scatter": [
           {
            "type": "scatter"
           }
          ]
         }
        },
        "title": {
         "text": "Number of total daily events by event name"
        },
        "xaxis": {
         "anchor": "y",
         "domain": [
          0,
          1
         ],
         "title": {
          "text": "Event Date"
         }
        },
        "yaxis": {
         "anchor": "x",
         "domain": [
          0,
          1
         ],
         "title": {
          "text": "Number of events"
         }
        }
       }
      },
      "text/html": [
       "<div>                            <div id=\"87cb4ba5-4b50-49e0-92d2-e8dfc9c57aed\" class=\"plotly-graph-div\" style=\"height:525px; width:100%;\"></div>            <script type=\"text/javascript\">                require([\"plotly\"], function(Plotly) {                    window.PLOTLYENV=window.PLOTLYENV || {};                                    if (document.getElementById(\"87cb4ba5-4b50-49e0-92d2-e8dfc9c57aed\")) {                    Plotly.newPlot(                        \"87cb4ba5-4b50-49e0-92d2-e8dfc9c57aed\",                        [{\"hovertemplate\":\"Events:=login<br>Event Date=%{x}<br>Number of events=%{y}<extra></extra>\",\"legendgroup\":\"login\",\"line\":{\"color\":\"#1F77B4\",\"dash\":\"solid\"},\"marker\":{\"symbol\":\"circle\"},\"mode\":\"lines\",\"name\":\"login\",\"orientation\":\"v\",\"showlegend\":true,\"x\":[\"2020-12-07T00:00:00\",\"2020-12-08T00:00:00\",\"2020-12-09T00:00:00\",\"2020-12-10T00:00:00\",\"2020-12-11T00:00:00\",\"2020-12-12T00:00:00\",\"2020-12-13T00:00:00\",\"2020-12-14T00:00:00\",\"2020-12-15T00:00:00\",\"2020-12-16T00:00:00\",\"2020-12-17T00:00:00\",\"2020-12-18T00:00:00\",\"2020-12-19T00:00:00\",\"2020-12-20T00:00:00\",\"2020-12-21T00:00:00\"],\"xaxis\":\"x\",\"y\":[817,926,915,998,1041,1419,1625,1921,1736,1559,1596,1665,1685,1892,2337],\"yaxis\":\"y\",\"type\":\"scatter\"},{\"hovertemplate\":\"Events:=product_cart<br>Event Date=%{x}<br>Number of events=%{y}<extra></extra>\",\"legendgroup\":\"product_cart\",\"line\":{\"color\":\"#FF7F0E\",\"dash\":\"solid\"},\"marker\":{\"symbol\":\"circle\"},\"mode\":\"lines\",\"name\":\"product_cart\",\"orientation\":\"v\",\"showlegend\":true,\"x\":[\"2020-12-07T00:00:00\",\"2020-12-08T00:00:00\",\"2020-12-09T00:00:00\",\"2020-12-10T00:00:00\",\"2020-12-11T00:00:00\",\"2020-12-12T00:00:00\",\"2020-12-13T00:00:00\",\"2020-12-14T00:00:00\",\"2020-12-15T00:00:00\",\"2020-12-16T00:00:00\",\"2020-12-17T00:00:00\",\"2020-12-18T00:00:00\",\"2020-12-19T00:00:00\",\"2020-12-20T00:00:00\",\"2020-12-21T00:00:00\"],\"xaxis\":\"x\",\"y\":[250,295,321,349,350,514,560,626,574,521,516,550,584,631,801],\"yaxis\":\"y\",\"type\":\"scatter\"},{\"hovertemplate\":\"Events:=product_page<br>Event Date=%{x}<br>Number of events=%{y}<extra></extra>\",\"legendgroup\":\"product_page\",\"line\":{\"color\":\"#2CA02C\",\"dash\":\"solid\"},\"marker\":{\"symbol\":\"circle\"},\"mode\":\"lines\",\"name\":\"product_page\",\"orientation\":\"v\",\"showlegend\":true,\"x\":[\"2020-12-07T00:00:00\",\"2020-12-08T00:00:00\",\"2020-12-09T00:00:00\",\"2020-12-10T00:00:00\",\"2020-12-11T00:00:00\",\"2020-12-12T00:00:00\",\"2020-12-13T00:00:00\",\"2020-12-14T00:00:00\",\"2020-12-15T00:00:00\",\"2020-12-16T00:00:00\",\"2020-12-17T00:00:00\",\"2020-12-18T00:00:00\",\"2020-12-19T00:00:00\",\"2020-12-20T00:00:00\",\"2020-12-21T00:00:00\"],\"xaxis\":\"x\",\"y\":[535,623,603,688,712,942,1081,1242,1143,1021,1052,1063,1121,1227,1564],\"yaxis\":\"y\",\"type\":\"scatter\"},{\"hovertemplate\":\"Events:=purchase<br>Event Date=%{x}<br>Number of events=%{y}<extra></extra>\",\"legendgroup\":\"purchase\",\"line\":{\"color\":\"#D62728\",\"dash\":\"solid\"},\"marker\":{\"symbol\":\"circle\"},\"mode\":\"lines\",\"name\":\"purchase\",\"orientation\":\"v\",\"showlegend\":true,\"x\":[\"2020-12-07T00:00:00\",\"2020-12-08T00:00:00\",\"2020-12-09T00:00:00\",\"2020-12-10T00:00:00\",\"2020-12-11T00:00:00\",\"2020-12-12T00:00:00\",\"2020-12-13T00:00:00\",\"2020-12-14T00:00:00\",\"2020-12-15T00:00:00\",\"2020-12-16T00:00:00\",\"2020-12-17T00:00:00\",\"2020-12-18T00:00:00\",\"2020-12-19T00:00:00\",\"2020-12-20T00:00:00\",\"2020-12-21T00:00:00\"],\"xaxis\":\"x\",\"y\":[281,324,317,364,362,485,572,679,572,562,539,546,568,672,814],\"yaxis\":\"y\",\"type\":\"scatter\"}],                        {\"template\":{\"data\":{\"scatter\":[{\"type\":\"scatter\"}]}},\"xaxis\":{\"anchor\":\"y\",\"domain\":[0.0,1.0],\"title\":{\"text\":\"Event Date\"}},\"yaxis\":{\"anchor\":\"x\",\"domain\":[0.0,1.0],\"title\":{\"text\":\"Number of events\"}},\"legend\":{\"title\":{\"text\":\"Events:\"},\"tracegroupgap\":0},\"title\":{\"text\":\"Number of total daily events by event name\"}},                        {\"responsive\": true}                    ).then(function(){\n",
       "                            \n",
       "var gd = document.getElementById('87cb4ba5-4b50-49e0-92d2-e8dfc9c57aed');\n",
       "var x = new MutationObserver(function (mutations, observer) {{\n",
       "        var display = window.getComputedStyle(gd).display;\n",
       "        if (!display || display === 'none') {{\n",
       "            console.log([gd, 'removed!']);\n",
       "            Plotly.purge(gd);\n",
       "            observer.disconnect();\n",
       "        }}\n",
       "}});\n",
       "\n",
       "// Listen for the removal of the full notebook cells\n",
       "var notebookContainer = gd.closest('#notebook-container');\n",
       "if (notebookContainer) {{\n",
       "    x.observe(notebookContainer, {childList: true});\n",
       "}}\n",
       "\n",
       "// Listen for the clearing of the current output cell\n",
       "var outputEl = gd.closest('.output');\n",
       "if (outputEl) {{\n",
       "    x.observe(outputEl, {childList: true});\n",
       "}}\n",
       "\n",
       "                        })                };                });            </script>        </div>"
      ]
     },
     "metadata": {},
     "output_type": "display_data"
    }
   ],
   "source": [
    "tm_events_by_name = df_ab_testing.groupby(['event_date', 'event_name'])['event_dt'].agg([\n",
    "    ('n_events', 'count')\n",
    "]).reset_index()\n",
    "tm_events_by_name.head()\n",
    "\n",
    "fig = px.line(tm_events_by_name,\n",
    "              x=\"event_date\",\n",
    "              y=\"n_events\",\n",
    "              color='event_name',\n",
    "              title='Number of total daily events by event name',\n",
    "              labels={\n",
    "                  'n_events': 'Number of events',\n",
    "                  'event_date': 'Event Date',\n",
    "                  'event_name': 'Events:'\n",
    "              })\n",
    "\n",
    "fig.show()"
   ]
  },
  {
   "cell_type": "code",
   "execution_count": 92,
   "metadata": {},
   "outputs": [
    {
     "data": {
      "text/html": [
       "<div>\n",
       "<style scoped>\n",
       "    .dataframe tbody tr th:only-of-type {\n",
       "        vertical-align: middle;\n",
       "    }\n",
       "\n",
       "    .dataframe tbody tr th {\n",
       "        vertical-align: top;\n",
       "    }\n",
       "\n",
       "    .dataframe thead th {\n",
       "        text-align: right;\n",
       "    }\n",
       "</style>\n",
       "<table border=\"1\" class=\"dataframe\">\n",
       "  <thead>\n",
       "    <tr style=\"text-align: right;\">\n",
       "      <th></th>\n",
       "      <th>event_date</th>\n",
       "      <th>device</th>\n",
       "      <th>n_events</th>\n",
       "    </tr>\n",
       "  </thead>\n",
       "  <tbody>\n",
       "    <tr>\n",
       "      <th>0</th>\n",
       "      <td>2020-12-07</td>\n",
       "      <td>Android</td>\n",
       "      <td>808</td>\n",
       "    </tr>\n",
       "    <tr>\n",
       "      <th>1</th>\n",
       "      <td>2020-12-07</td>\n",
       "      <td>Mac</td>\n",
       "      <td>237</td>\n",
       "    </tr>\n",
       "    <tr>\n",
       "      <th>2</th>\n",
       "      <td>2020-12-07</td>\n",
       "      <td>PC</td>\n",
       "      <td>480</td>\n",
       "    </tr>\n",
       "    <tr>\n",
       "      <th>3</th>\n",
       "      <td>2020-12-07</td>\n",
       "      <td>iPhone</td>\n",
       "      <td>358</td>\n",
       "    </tr>\n",
       "    <tr>\n",
       "      <th>4</th>\n",
       "      <td>2020-12-08</td>\n",
       "      <td>Android</td>\n",
       "      <td>979</td>\n",
       "    </tr>\n",
       "  </tbody>\n",
       "</table>\n",
       "</div>"
      ],
      "text/plain": [
       "  event_date   device  n_events\n",
       "0 2020-12-07  Android       808\n",
       "1 2020-12-07      Mac       237\n",
       "2 2020-12-07       PC       480\n",
       "3 2020-12-07   iPhone       358\n",
       "4 2020-12-08  Android       979"
      ]
     },
     "execution_count": 92,
     "metadata": {},
     "output_type": "execute_result"
    },
    {
     "data": {
      "application/vnd.plotly.v1+json": {
       "config": {
        "plotlyServerURL": "https://plot.ly"
       },
       "data": [
        {
         "hovertemplate": "Devices:=Android<br>Event Date=%{x}<br>Number of events=%{y}<extra></extra>",
         "legendgroup": "Android",
         "line": {
          "color": "#1F77B4",
          "dash": "solid"
         },
         "marker": {
          "symbol": "circle"
         },
         "mode": "lines",
         "name": "Android",
         "orientation": "v",
         "showlegend": true,
         "type": "scatter",
         "x": [
          "2020-12-07T00:00:00",
          "2020-12-08T00:00:00",
          "2020-12-09T00:00:00",
          "2020-12-10T00:00:00",
          "2020-12-11T00:00:00",
          "2020-12-12T00:00:00",
          "2020-12-13T00:00:00",
          "2020-12-14T00:00:00",
          "2020-12-15T00:00:00",
          "2020-12-16T00:00:00",
          "2020-12-17T00:00:00",
          "2020-12-18T00:00:00",
          "2020-12-19T00:00:00",
          "2020-12-20T00:00:00",
          "2020-12-21T00:00:00"
         ],
         "xaxis": "x",
         "y": [
          808,
          979,
          968,
          1148,
          1127,
          1537,
          1717,
          1922,
          1795,
          1695,
          1646,
          1705,
          1794,
          1969,
          2430
         ],
         "yaxis": "y"
        },
        {
         "hovertemplate": "Devices:=Mac<br>Event Date=%{x}<br>Number of events=%{y}<extra></extra>",
         "legendgroup": "Mac",
         "line": {
          "color": "#FF7F0E",
          "dash": "solid"
         },
         "marker": {
          "symbol": "circle"
         },
         "mode": "lines",
         "name": "Mac",
         "orientation": "v",
         "showlegend": true,
         "type": "scatter",
         "x": [
          "2020-12-07T00:00:00",
          "2020-12-08T00:00:00",
          "2020-12-09T00:00:00",
          "2020-12-10T00:00:00",
          "2020-12-11T00:00:00",
          "2020-12-12T00:00:00",
          "2020-12-13T00:00:00",
          "2020-12-14T00:00:00",
          "2020-12-15T00:00:00",
          "2020-12-16T00:00:00",
          "2020-12-17T00:00:00",
          "2020-12-18T00:00:00",
          "2020-12-19T00:00:00",
          "2020-12-20T00:00:00",
          "2020-12-21T00:00:00"
         ],
         "xaxis": "x",
         "y": [
          237,
          245,
          259,
          235,
          261,
          343,
          397,
          501,
          411,
          378,
          430,
          391,
          379,
          429,
          607
         ],
         "yaxis": "y"
        },
        {
         "hovertemplate": "Devices:=PC<br>Event Date=%{x}<br>Number of events=%{y}<extra></extra>",
         "legendgroup": "PC",
         "line": {
          "color": "#2CA02C",
          "dash": "solid"
         },
         "marker": {
          "symbol": "circle"
         },
         "mode": "lines",
         "name": "PC",
         "orientation": "v",
         "showlegend": true,
         "type": "scatter",
         "x": [
          "2020-12-07T00:00:00",
          "2020-12-08T00:00:00",
          "2020-12-09T00:00:00",
          "2020-12-10T00:00:00",
          "2020-12-11T00:00:00",
          "2020-12-12T00:00:00",
          "2020-12-13T00:00:00",
          "2020-12-14T00:00:00",
          "2020-12-15T00:00:00",
          "2020-12-16T00:00:00",
          "2020-12-17T00:00:00",
          "2020-12-18T00:00:00",
          "2020-12-19T00:00:00",
          "2020-12-20T00:00:00",
          "2020-12-21T00:00:00"
         ],
         "xaxis": "x",
         "y": [
          480,
          532,
          523,
          587,
          588,
          828,
          971,
          1087,
          1002,
          885,
          900,
          949,
          1036,
          1128,
          1494
         ],
         "yaxis": "y"
        },
        {
         "hovertemplate": "Devices:=iPhone<br>Event Date=%{x}<br>Number of events=%{y}<extra></extra>",
         "legendgroup": "iPhone",
         "line": {
          "color": "#D62728",
          "dash": "solid"
         },
         "marker": {
          "symbol": "circle"
         },
         "mode": "lines",
         "name": "iPhone",
         "orientation": "v",
         "showlegend": true,
         "type": "scatter",
         "x": [
          "2020-12-07T00:00:00",
          "2020-12-08T00:00:00",
          "2020-12-09T00:00:00",
          "2020-12-10T00:00:00",
          "2020-12-11T00:00:00",
          "2020-12-12T00:00:00",
          "2020-12-13T00:00:00",
          "2020-12-14T00:00:00",
          "2020-12-15T00:00:00",
          "2020-12-16T00:00:00",
          "2020-12-17T00:00:00",
          "2020-12-18T00:00:00",
          "2020-12-19T00:00:00",
          "2020-12-20T00:00:00",
          "2020-12-21T00:00:00"
         ],
         "xaxis": "x",
         "y": [
          358,
          412,
          406,
          429,
          489,
          652,
          753,
          958,
          817,
          705,
          727,
          779,
          749,
          896,
          985
         ],
         "yaxis": "y"
        }
       ],
       "layout": {
        "legend": {
         "title": {
          "text": "Devices:"
         },
         "tracegroupgap": 0
        },
        "template": {
         "data": {
          "scatter": [
           {
            "type": "scatter"
           }
          ]
         }
        },
        "title": {
         "text": "Number of total daily events per device"
        },
        "xaxis": {
         "anchor": "y",
         "domain": [
          0,
          1
         ],
         "title": {
          "text": "Event Date"
         }
        },
        "yaxis": {
         "anchor": "x",
         "domain": [
          0,
          1
         ],
         "title": {
          "text": "Number of events"
         }
        }
       }
      },
      "text/html": [
       "<div>                            <div id=\"54bd3328-780f-4987-b968-6a938f076a78\" class=\"plotly-graph-div\" style=\"height:525px; width:100%;\"></div>            <script type=\"text/javascript\">                require([\"plotly\"], function(Plotly) {                    window.PLOTLYENV=window.PLOTLYENV || {};                                    if (document.getElementById(\"54bd3328-780f-4987-b968-6a938f076a78\")) {                    Plotly.newPlot(                        \"54bd3328-780f-4987-b968-6a938f076a78\",                        [{\"hovertemplate\":\"Devices:=Android<br>Event Date=%{x}<br>Number of events=%{y}<extra></extra>\",\"legendgroup\":\"Android\",\"line\":{\"color\":\"#1F77B4\",\"dash\":\"solid\"},\"marker\":{\"symbol\":\"circle\"},\"mode\":\"lines\",\"name\":\"Android\",\"orientation\":\"v\",\"showlegend\":true,\"x\":[\"2020-12-07T00:00:00\",\"2020-12-08T00:00:00\",\"2020-12-09T00:00:00\",\"2020-12-10T00:00:00\",\"2020-12-11T00:00:00\",\"2020-12-12T00:00:00\",\"2020-12-13T00:00:00\",\"2020-12-14T00:00:00\",\"2020-12-15T00:00:00\",\"2020-12-16T00:00:00\",\"2020-12-17T00:00:00\",\"2020-12-18T00:00:00\",\"2020-12-19T00:00:00\",\"2020-12-20T00:00:00\",\"2020-12-21T00:00:00\"],\"xaxis\":\"x\",\"y\":[808,979,968,1148,1127,1537,1717,1922,1795,1695,1646,1705,1794,1969,2430],\"yaxis\":\"y\",\"type\":\"scatter\"},{\"hovertemplate\":\"Devices:=Mac<br>Event Date=%{x}<br>Number of events=%{y}<extra></extra>\",\"legendgroup\":\"Mac\",\"line\":{\"color\":\"#FF7F0E\",\"dash\":\"solid\"},\"marker\":{\"symbol\":\"circle\"},\"mode\":\"lines\",\"name\":\"Mac\",\"orientation\":\"v\",\"showlegend\":true,\"x\":[\"2020-12-07T00:00:00\",\"2020-12-08T00:00:00\",\"2020-12-09T00:00:00\",\"2020-12-10T00:00:00\",\"2020-12-11T00:00:00\",\"2020-12-12T00:00:00\",\"2020-12-13T00:00:00\",\"2020-12-14T00:00:00\",\"2020-12-15T00:00:00\",\"2020-12-16T00:00:00\",\"2020-12-17T00:00:00\",\"2020-12-18T00:00:00\",\"2020-12-19T00:00:00\",\"2020-12-20T00:00:00\",\"2020-12-21T00:00:00\"],\"xaxis\":\"x\",\"y\":[237,245,259,235,261,343,397,501,411,378,430,391,379,429,607],\"yaxis\":\"y\",\"type\":\"scatter\"},{\"hovertemplate\":\"Devices:=PC<br>Event Date=%{x}<br>Number of events=%{y}<extra></extra>\",\"legendgroup\":\"PC\",\"line\":{\"color\":\"#2CA02C\",\"dash\":\"solid\"},\"marker\":{\"symbol\":\"circle\"},\"mode\":\"lines\",\"name\":\"PC\",\"orientation\":\"v\",\"showlegend\":true,\"x\":[\"2020-12-07T00:00:00\",\"2020-12-08T00:00:00\",\"2020-12-09T00:00:00\",\"2020-12-10T00:00:00\",\"2020-12-11T00:00:00\",\"2020-12-12T00:00:00\",\"2020-12-13T00:00:00\",\"2020-12-14T00:00:00\",\"2020-12-15T00:00:00\",\"2020-12-16T00:00:00\",\"2020-12-17T00:00:00\",\"2020-12-18T00:00:00\",\"2020-12-19T00:00:00\",\"2020-12-20T00:00:00\",\"2020-12-21T00:00:00\"],\"xaxis\":\"x\",\"y\":[480,532,523,587,588,828,971,1087,1002,885,900,949,1036,1128,1494],\"yaxis\":\"y\",\"type\":\"scatter\"},{\"hovertemplate\":\"Devices:=iPhone<br>Event Date=%{x}<br>Number of events=%{y}<extra></extra>\",\"legendgroup\":\"iPhone\",\"line\":{\"color\":\"#D62728\",\"dash\":\"solid\"},\"marker\":{\"symbol\":\"circle\"},\"mode\":\"lines\",\"name\":\"iPhone\",\"orientation\":\"v\",\"showlegend\":true,\"x\":[\"2020-12-07T00:00:00\",\"2020-12-08T00:00:00\",\"2020-12-09T00:00:00\",\"2020-12-10T00:00:00\",\"2020-12-11T00:00:00\",\"2020-12-12T00:00:00\",\"2020-12-13T00:00:00\",\"2020-12-14T00:00:00\",\"2020-12-15T00:00:00\",\"2020-12-16T00:00:00\",\"2020-12-17T00:00:00\",\"2020-12-18T00:00:00\",\"2020-12-19T00:00:00\",\"2020-12-20T00:00:00\",\"2020-12-21T00:00:00\"],\"xaxis\":\"x\",\"y\":[358,412,406,429,489,652,753,958,817,705,727,779,749,896,985],\"yaxis\":\"y\",\"type\":\"scatter\"}],                        {\"template\":{\"data\":{\"scatter\":[{\"type\":\"scatter\"}]}},\"xaxis\":{\"anchor\":\"y\",\"domain\":[0.0,1.0],\"title\":{\"text\":\"Event Date\"}},\"yaxis\":{\"anchor\":\"x\",\"domain\":[0.0,1.0],\"title\":{\"text\":\"Number of events\"}},\"legend\":{\"title\":{\"text\":\"Devices:\"},\"tracegroupgap\":0},\"title\":{\"text\":\"Number of total daily events per device\"}},                        {\"responsive\": true}                    ).then(function(){\n",
       "                            \n",
       "var gd = document.getElementById('54bd3328-780f-4987-b968-6a938f076a78');\n",
       "var x = new MutationObserver(function (mutations, observer) {{\n",
       "        var display = window.getComputedStyle(gd).display;\n",
       "        if (!display || display === 'none') {{\n",
       "            console.log([gd, 'removed!']);\n",
       "            Plotly.purge(gd);\n",
       "            observer.disconnect();\n",
       "        }}\n",
       "}});\n",
       "\n",
       "// Listen for the removal of the full notebook cells\n",
       "var notebookContainer = gd.closest('#notebook-container');\n",
       "if (notebookContainer) {{\n",
       "    x.observe(notebookContainer, {childList: true});\n",
       "}}\n",
       "\n",
       "// Listen for the clearing of the current output cell\n",
       "var outputEl = gd.closest('.output');\n",
       "if (outputEl) {{\n",
       "    x.observe(outputEl, {childList: true});\n",
       "}}\n",
       "\n",
       "                        })                };                });            </script>        </div>"
      ]
     },
     "metadata": {},
     "output_type": "display_data"
    }
   ],
   "source": [
    "tm_events_by_device = df_ab_testing.groupby(['event_date', 'device'])['event_dt'].agg([\n",
    "    ('n_events', 'count')\n",
    "]).reset_index()\n",
    "tm_events_by_device.head()\n",
    "\n",
    "fig = px.line(tm_events_by_device,\n",
    "              x=\"event_date\",\n",
    "              y=\"n_events\",\n",
    "              color='device',\n",
    "              title='Number of total daily events per device',\n",
    "              labels={\n",
    "                  'n_events': 'Number of events',\n",
    "                  'event_date': 'Event Date',\n",
    "                  'device': 'Devices:'\n",
    "              })\n",
    "\n",
    "fig.show()"
   ]
  },
  {
   "cell_type": "markdown",
   "metadata": {},
   "source": [
    ">* The total number of events during the test increased significantly, 3 times.\n",
    "* This feature is typical for both Groups A and B, for each event name and for number of events per device.\n",
    "* Most of the events were performed by Android users, with the smallest user group being Mac fans.\n",
    "* It is clear from the graphs that we can say that there were spikes of events on a certain weekday. In our case, it was on Thursdays.\n",
    "* To funnel stages, `product_cart` and `purchase` have almost the same number of events during the test weeks. **I can assume that the abandoned cart percentage is very low, or the 'Buy Now' button works better than the whole funnel.**"
   ]
  },
  {
   "cell_type": "markdown",
   "metadata": {},
   "source": [
    "### Think of the possible details in the data that you have to take into account before starting the A/B test?"
   ]
  },
  {
   "cell_type": "markdown",
   "metadata": {},
   "source": [
    ">* The datasets had users who were assigned to multiple groups and who performed both tests at the same time. We have processed our data to avoid exposure to these factors.\n",
    "* We also checked if the users are equally split.\n",
    "* But there is an external factor that influences the test result. I consider that we have to take into account that the A / B test was carried out on the eve of Christmas. \n",
    "<br>And even if the specific testing time did not last at the same time as the marketing activities, we cannot trust the results 100% due to the well-known increase in consumer activity before the Christmas holidays."
   ]
  },
  {
   "cell_type": "markdown",
   "metadata": {},
   "source": [
    "### Conclusion:\n",
    "\n",
    ">* The test group B did not achieve expected result of increasing total conversion at least 10% on each stage of the funnel `product_page → product_cart → purchase`.\n",
    "* The test group B showed better result on the `purchase` stage.\n",
    "* There is no users who enter both samples.\n",
    "* The number of events per user distributed equally in the samples."
   ]
  },
  {
   "cell_type": "markdown",
   "metadata": {},
   "source": [
    "## Evaluate the A/B test results"
   ]
  },
  {
   "cell_type": "markdown",
   "metadata": {},
   "source": [
    "### What can you tell about the A/A test results?"
   ]
  },
  {
   "cell_type": "code",
   "execution_count": 65,
   "metadata": {},
   "outputs": [
    {
     "data": {
      "text/plain": [
       "CategoricalDtype(categories=['product_cart', 'product_page', 'purchase', 'login'], ordered=False)"
      ]
     },
     "execution_count": 65,
     "metadata": {},
     "output_type": "execute_result"
    },
    {
     "data": {
      "text/plain": [
       "CategoricalDtype(categories=['A', 'B'], ordered=False)"
      ]
     },
     "execution_count": 65,
     "metadata": {},
     "output_type": "execute_result"
    }
   ],
   "source": [
    "df_ab_testing.event_name.dtypes\n",
    "df_ab_testing.group.dtypes\n",
    "\n",
    "# changing dtype, to avoid issue with CategoricalIndex columns in pandas\n",
    "# https://github.com/pandas-dev/pandas/issues/19136\n",
    "\n",
    "df_ab_testing.event_name = dtype_converter(df_ab_testing.event_name, 'str')\n",
    "df_ab_testing.group = dtype_converter(df_ab_testing.group, 'str')"
   ]
  },
  {
   "cell_type": "code",
   "execution_count": 66,
   "metadata": {},
   "outputs": [
    {
     "data": {
      "text/html": [
       "<div>\n",
       "<style scoped>\n",
       "    .dataframe tbody tr th:only-of-type {\n",
       "        vertical-align: middle;\n",
       "    }\n",
       "\n",
       "    .dataframe tbody tr th {\n",
       "        vertical-align: top;\n",
       "    }\n",
       "\n",
       "    .dataframe thead th {\n",
       "        text-align: right;\n",
       "    }\n",
       "</style>\n",
       "<table border=\"1\" class=\"dataframe\">\n",
       "  <thead>\n",
       "    <tr style=\"text-align: right;\">\n",
       "      <th>group</th>\n",
       "      <th>event_name</th>\n",
       "      <th>A</th>\n",
       "      <th>B</th>\n",
       "      <th>diff_n_users</th>\n",
       "    </tr>\n",
       "  </thead>\n",
       "  <tbody>\n",
       "    <tr>\n",
       "      <th>0</th>\n",
       "      <td>login</td>\n",
       "      <td>4520</td>\n",
       "      <td>4438</td>\n",
       "      <td>82</td>\n",
       "    </tr>\n",
       "    <tr>\n",
       "      <th>1</th>\n",
       "      <td>product_cart</td>\n",
       "      <td>1479</td>\n",
       "      <td>1516</td>\n",
       "      <td>-37</td>\n",
       "    </tr>\n",
       "    <tr>\n",
       "      <th>2</th>\n",
       "      <td>product_page</td>\n",
       "      <td>3030</td>\n",
       "      <td>2913</td>\n",
       "      <td>117</td>\n",
       "    </tr>\n",
       "    <tr>\n",
       "      <th>3</th>\n",
       "      <td>purchase</td>\n",
       "      <td>1612</td>\n",
       "      <td>1479</td>\n",
       "      <td>133</td>\n",
       "    </tr>\n",
       "  </tbody>\n",
       "</table>\n",
       "</div>"
      ],
      "text/plain": [
       "group    event_name     A     B  diff_n_users\n",
       "0             login  4520  4438            82\n",
       "1      product_cart  1479  1516           -37\n",
       "2      product_page  3030  2913           117\n",
       "3          purchase  1612  1479           133"
      ]
     },
     "execution_count": 66,
     "metadata": {},
     "output_type": "execute_result"
    }
   ],
   "source": [
    "users_pivot = df_ab_testing.pivot_table(index='event_name',\n",
    "                         values='user_id',\n",
    "                         columns='group',\n",
    "                         aggfunc=lambda x: x.nunique()).reset_index()\n",
    "\n",
    "users_pivot= users_pivot.assign(diff_n_users=lambda x: x.A - x.B)\n",
    "users_pivot"
   ]
  },
  {
   "cell_type": "code",
   "execution_count": 67,
   "metadata": {},
   "outputs": [
    {
     "data": {
      "text/html": [
       "<div>\n",
       "<style scoped>\n",
       "    .dataframe tbody tr th:only-of-type {\n",
       "        vertical-align: middle;\n",
       "    }\n",
       "\n",
       "    .dataframe tbody tr th {\n",
       "        vertical-align: top;\n",
       "    }\n",
       "\n",
       "    .dataframe thead th {\n",
       "        text-align: right;\n",
       "    }\n",
       "</style>\n",
       "<table border=\"1\" class=\"dataframe\">\n",
       "  <thead>\n",
       "    <tr style=\"text-align: right;\">\n",
       "      <th>group</th>\n",
       "      <th>event_name</th>\n",
       "      <th>A</th>\n",
       "      <th>B</th>\n",
       "      <th>Total</th>\n",
       "      <th>diff_share_stage</th>\n",
       "    </tr>\n",
       "  </thead>\n",
       "  <tbody>\n",
       "    <tr>\n",
       "      <th>0</th>\n",
       "      <td>login</td>\n",
       "      <td>0.215371</td>\n",
       "      <td>0.211464</td>\n",
       "      <td>0.426836</td>\n",
       "      <td>0.39</td>\n",
       "    </tr>\n",
       "    <tr>\n",
       "      <th>1</th>\n",
       "      <td>product_cart</td>\n",
       "      <td>0.070472</td>\n",
       "      <td>0.072235</td>\n",
       "      <td>0.142707</td>\n",
       "      <td>-0.18</td>\n",
       "    </tr>\n",
       "    <tr>\n",
       "      <th>2</th>\n",
       "      <td>product_page</td>\n",
       "      <td>0.144375</td>\n",
       "      <td>0.138800</td>\n",
       "      <td>0.283175</td>\n",
       "      <td>0.56</td>\n",
       "    </tr>\n",
       "    <tr>\n",
       "      <th>3</th>\n",
       "      <td>purchase</td>\n",
       "      <td>0.076809</td>\n",
       "      <td>0.070472</td>\n",
       "      <td>0.147282</td>\n",
       "      <td>0.63</td>\n",
       "    </tr>\n",
       "    <tr>\n",
       "      <th>4</th>\n",
       "      <td>Total</td>\n",
       "      <td>0.504632</td>\n",
       "      <td>0.495368</td>\n",
       "      <td>1.000000</td>\n",
       "      <td>0.93</td>\n",
       "    </tr>\n",
       "  </tbody>\n",
       "</table>\n",
       "</div>"
      ],
      "text/plain": [
       "group    event_name         A         B     Total  diff_share_stage\n",
       "0             login  0.215371  0.211464  0.426836              0.39\n",
       "1      product_cart  0.070472  0.072235  0.142707             -0.18\n",
       "2      product_page  0.144375  0.138800  0.283175              0.56\n",
       "3          purchase  0.076809  0.070472  0.147282              0.63\n",
       "4             Total  0.504632  0.495368  1.000000              0.93"
      ]
     },
     "execution_count": 67,
     "metadata": {},
     "output_type": "execute_result"
    }
   ],
   "source": [
    "users_crosstab = pd.crosstab(index=df_ab_testing.event_name,\n",
    "                             columns=df_ab_testing.group,\n",
    "                             values=df_ab_testing.user_id,\n",
    "                             aggfunc=lambda x: x.nunique(),\n",
    "                             normalize=True, # Normalize by dividing all values by the sum of values.\n",
    "                             margins=True,\n",
    "                             margins_name='Total').reset_index()\n",
    "\n",
    "users_crosstab = users_crosstab.assign(diff_share_stage=lambda x: round((x.A - x.B )* 100, 2))\n",
    "users_crosstab"
   ]
  },
  {
   "cell_type": "markdown",
   "metadata": {},
   "source": [
    "> We can argue that all the criteria we have for a successful A/A test:\n",
    "* As can be seen from the aggregated tables, there is no significant difference between the samples. On Each stage the difference is less then 1%.\n",
    "* For all groups, data on the same event is recorded.\n",
    "* Users remain within their groups until the end of the test. \n",
    "* Users who may see different versions of the page during the test were removed from the groups."
   ]
  },
  {
   "cell_type": "markdown",
   "metadata": {},
   "source": [
    "### Use the z-criterion to check the statistical difference between the proportions"
   ]
  },
  {
   "cell_type": "markdown",
   "metadata": {},
   "source": [
    "***H0: there is not a statistically significant difference in conversion between the samples A and B***\n",
    "\n",
    "***H1: there is a statistically significant difference in conversion between the samples A and B***"
   ]
  },
  {
   "cell_type": "code",
   "execution_count": 68,
   "metadata": {},
   "outputs": [
    {
     "name": "stdout",
     "output_type": "stream",
     "text": [
      "p-value:  0.321766940707354\n",
      "Fail to Reject H0 for login and groups A B\n",
      "p-value:  0.14702821950355438\n",
      "Fail to Reject H0 for product_cart and groups A B\n",
      "p-value:  0.16608962447812559\n",
      "Fail to Reject H0 for product_page and groups A B\n",
      "p-value:  0.02036540675054077\n",
      "Reject H0 for purchase and groups A B\n"
     ]
    }
   ],
   "source": [
    "for i in users_pivot.event_name.unique():\n",
    "    check_hypothesis(\"A\", \"B\", i, alpha=0.05)"
   ]
  },
  {
   "cell_type": "markdown",
   "metadata": {},
   "source": [
    "## Conclusion\n",
    ">* As a result of checking the hypothesis, we cannot reject H0 for all the events. \n",
    "* Thus, we can accept the equality of the proportions of the population of `A` and `B` groups. It means that the groups were split properly."
   ]
  },
  {
   "cell_type": "markdown",
   "metadata": {},
   "source": [
    "# General conclusion"
   ]
  },
  {
   "cell_type": "markdown",
   "metadata": {},
   "source": [
    "> ***Datasets:***\n",
    "\n",
    "* The logs were collected in several tables for the period from December 7 to December 30, 2020.\n",
    "* The two types of tests were run simultaneously and overlapped using the same test participants.\n",
    "\n",
    "> ***New interface for EU users test:***\n",
    "\n",
    "* The test was carried out within 14 days, from December 7 to December 21, 2020.\n",
    "* After preprocessing, we got a dataset that contains 51848 different events performed by 8959 unique users.\n",
    "* Users are split equally into two groups:\n",
    "        - `A` control group - 4521 users\n",
    "        - `B` test group - 4438 users\n",
    "* Control group `A` gets the old site version and one test group `B` gets the new ones:        \n",
    "\n",
    "> ***The funnel:***\n",
    "\n",
    "* Consists of 4 events: `login -> product_page -> product_cart -> purchase`\n",
    "* The number of events per user distributed equally in the samples.\n",
    "\n",
    "> ***Performing tests:***\n",
    "\n",
    "* The A/A test shows that the control groups were split properly.\n",
    "* A / B tests show that we cannot reject null hypotheses. In other words, there are no statistically significant differences in conversions between two groups across all 4 events.\n",
    "\n",
    "> ***External factors:***\n",
    "\n",
    "* The A / B test was carried out on the eve of Christmas during the period of increased buying activity before the Christmas holidays. Thus, we cannot trust the results 100%.\n",
    "\n",
    "\n",
    "> ***Test result:***\n",
    "\n",
    "* The test group B did not achieve the expected result of increasing total conversion at least 10% on each stage of the funnel `product_page → product_cart → purchase`.\n",
    "* Moreover, total conversion in group B is almost the same or less than total conversion in group A on stages product_page -> product_cart.\n",
    "* Only at the last stage,`purchase`, test group B showed a 1.11% better result than in group A and than at the `product_cart` stage in their group.\n",
    "<br>It means that some EU users made purchasing in one-click using the 'Buy Now' button.\n",
    "\n",
    "\n",
    "> ***Recommendation:***\n",
    "\n",
    "* It can be assumed that **EU users prefer to shop in the shortest and fastest way**, skipping stages in the usual sales funnel order. This hypothesis is liable to formal review before any implementation and is just a recommendation."
   ]
  },
  {
   "cell_type": "code",
   "execution_count": null,
   "metadata": {},
   "outputs": [],
   "source": []
  }
 ],
 "metadata": {
  "kernelspec": {
   "display_name": "Python 3 (ipykernel)",
   "language": "python",
   "name": "python3"
  },
  "language_info": {
   "codemirror_mode": {
    "name": "ipython",
    "version": 3
   },
   "file_extension": ".py",
   "mimetype": "text/x-python",
   "name": "python",
   "nbconvert_exporter": "python",
   "pygments_lexer": "ipython3",
   "version": "3.9.12"
  },
  "toc": {
   "base_numbering": 1,
   "nav_menu": {},
   "number_sections": true,
   "sideBar": true,
   "skip_h1_title": false,
   "title_cell": "Table of Contents",
   "title_sidebar": "Contents",
   "toc_cell": true,
   "toc_position": {
    "height": "calc(100% - 180px)",
    "left": "10px",
    "top": "150px",
    "width": "303.2px"
   },
   "toc_section_display": true,
   "toc_window_display": true
  }
 },
 "nbformat": 4,
 "nbformat_minor": 4
}
